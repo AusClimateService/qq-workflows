{
 "cells": [
  {
   "cell_type": "markdown",
   "id": "87eda6bf",
   "metadata": {
    "papermill": {
     "duration": 0.06834,
     "end_time": "2023-05-30T04:55:31.224930",
     "exception": false,
     "start_time": "2023-05-30T04:55:31.156590",
     "status": "completed"
    },
    "tags": []
   },
   "source": [
    "# Validation for quantile scaling"
   ]
  },
  {
   "cell_type": "code",
   "execution_count": 1,
   "id": "824492d7",
   "metadata": {
    "execution": {
     "iopub.execute_input": "2023-05-30T04:55:31.247058Z",
     "iopub.status.busy": "2023-05-30T04:55:31.246698Z",
     "iopub.status.idle": "2023-05-30T04:56:57.179830Z",
     "shell.execute_reply": "2023-05-30T04:56:57.178761Z"
    },
    "papermill": {
     "duration": 85.948797,
     "end_time": "2023-05-30T04:56:57.182607",
     "exception": false,
     "start_time": "2023-05-30T04:55:31.233810",
     "status": "completed"
    },
    "tags": [
     "parameters"
    ]
   },
   "outputs": [
    {
     "name": "stderr",
     "output_type": "stream",
     "text": [
      "Matplotlib is building the font cache; this may take a moment.\n"
     ]
    }
   ],
   "source": [
    "import sys\n",
    "import warnings\n",
    "warnings.filterwarnings('ignore')\n",
    "\n",
    "import xarray as xr\n",
    "import cmocean\n",
    "import geopandas as gp\n",
    "\n",
    "sys.path.append('/g/data/xv83/quantile-mapping/qq-workflows')\n",
    "import validation\n",
    "sys.path.append('/g/data/xv83/quantile-mapping/qqscale')\n",
    "import utils"
   ]
  },
  {
   "cell_type": "code",
   "execution_count": null,
   "id": "adc2ba71",
   "metadata": {
    "execution": {
     "iopub.execute_input": "2023-05-30T04:56:57.306207Z",
     "iopub.status.busy": "2023-05-30T04:56:57.305928Z",
     "iopub.status.idle": "2023-05-30T04:56:57.314976Z",
     "shell.execute_reply": "2023-05-30T04:56:57.313973Z"
    },
    "papermill": {
     "duration": 0.025331,
     "end_time": "2023-05-30T04:56:57.316535",
     "exception": false,
     "start_time": "2023-05-30T04:56:57.291204",
     "status": "completed"
    }
   },
   "outputs": [],
   "source": [
    "# Required parameters\n",
    "assert 'nquantiles' in locals(), \"Must provide the number of quantiles (option -p nquantiles {number})\"\n",
    "assert 'scaling' in locals(), \"Must provide the scaling method (option -p scaling {name})\"\n",
    "assert 'hist_var' in locals(), \"Must provide an historical variable name (option -p hist_var {name})\"\n",
    "assert 'ref_var' in locals(), \"Must provide a reference variable name (option -p ref_var {name})\"\n",
    "assert 'target_var' in locals(), \"Must provide a target variable name (option -p target_var {name})\"\n",
    "assert 'hist_units' in locals(), \"Must provide historical units (option -p hist_units {units})\"\n",
    "assert 'ref_units' in locals(), \"Must provide reference units (option -p ref_units {units})\"\n",
    "assert 'target_units' in locals(), \"Must provide target units (option -p target_units {units})\"\n",
    "assert 'output_units' in locals(), \"Must provide output units (option -p output_units {units})\"\n",
    "assert 'adjustment_file' in locals(), \"Must provide an adjustment factors file (option -p adjustment_file {file path})\"\n",
    "assert 'hist_files' in locals(), \"\"\"Must provide historical data files (option -p hist_files {\"file paths\"})\"\"\"\n",
    "assert 'ref_files' in locals(), \"\"\"Must provide reference data files (option -p ref_files {\"file paths\"})\"\"\"\n",
    "assert 'target_files' in locals(), \"\"\"Must provide target data files (option -p target_files {\"file paths\"})\"\"\"\n",
    "assert 'qq_file' in locals(), \"Must provide an qq-scaled data file (option -p qq_file {file path})\"\n",
    "assert 'hist_time_bounds' in locals(), \"\"\"Must provide time bounds for historical data (option -p hist_time_bounds {\"YYYY-MM-DD YYYY-MM-DD\"})\"\"\"\n",
    "assert 'ref_time_bounds' in locals(), \"\"\"Must provide time bounds for reference data (option -p ref_time_bounds {\"YYYY-MM-DD YYYY-MM-DD\"})\"\"\"\n",
    "assert 'target_time_bounds' in locals(), \"\"\"Must provide time bounds for target data (option -p target_time_bounds {\"YYYY-MM-DD YYYY-MM-DD\"})\"\"\""
   ]
  },
  {
   "cell_type": "code",
   "execution_count": null,
   "id": "491505bb",
   "metadata": {
    "execution": {
     "iopub.execute_input": "2023-05-30T04:56:57.330758Z",
     "iopub.status.busy": "2023-05-30T04:56:57.330481Z",
     "iopub.status.idle": "2023-05-30T04:56:57.335559Z",
     "shell.execute_reply": "2023-05-30T04:56:57.334711Z"
    },
    "papermill": {
     "duration": 0.015534,
     "end_time": "2023-05-30T04:56:57.338040",
     "exception": false,
     "start_time": "2023-05-30T04:56:57.322506",
     "status": "completed"
    },
    "tags": []
   },
   "outputs": [],
   "source": [
    "hist_files = hist_files.split()\n",
    "ref_files = ref_files.split()\n",
    "target_files = target_files.split()\n",
    "\n",
    "hist_time_bounds = hist_time_bounds.split()\n",
    "ref_time_bounds = ref_time_bounds.split()\n",
    "target_time_bounds = target_time_bounds.split()"
   ]
  },
  {
   "cell_type": "code",
   "execution_count": null,
   "id": "8dd25bea",
   "metadata": {},
   "outputs": [],
   "source": [
    "plot_config = {}\n",
    "plot_config['plot_pdfs_flag'] = False\n",
    "plot_config['plot_1d_quantiles_flag'] = True\n",
    "plot_config['plot_1d_values_flag'] = True\n",
    "mask_ocean = True\n",
    "if hist_var == 'tasmin':\n",
    "    plot_config['pdf_xbounds'] = (-10, 30)\n",
    "    plot_config['pdf_ybounds'] = None\n",
    "    plot_config['q_xbounds'] = (0, 100)\n",
    "    plot_config['regular_cmap'] = cmocean.cm.thermal\n",
    "    plot_config['diverging_cmap'] = 'RdBu_r'\n",
    "    plot_config['general_levels'] = [-4.0, -2.5, -1, 0.5, 2, 3.5, 5, 6.5, 8, 9.5, 11, 12.5, 14, 15.5, 17, 18.5, 20, 21.5]\n",
    "    plot_config['af_levels'] = None\n",
    "    plot_config['difference_levels'] = [-2.5, -2.0, -1.5, -1.0, -0.5, 0, 0.5, 1.0, 1.5, 2.0, 2.5]\n",
    "    plot_config['extreme_for_values'] = 'max'\n",
    "    clim_extend = 'both'\n",
    "elif hist_var == 'tasmax':\n",
    "    plot_config['pdf_xbounds'] = (0, 45)\n",
    "    plot_config['pdf_ybounds'] = None\n",
    "    plot_config['q_xbounds'] = (0, 100)\n",
    "    plot_config['regular_cmap'] = cmocean.cm.thermal\n",
    "    plot_config['diverging_cmap'] = 'RdBu_r'\n",
    "    plot_config['general_levels'] = [5, 7.5, 10, 12.5, 15, 17.5, 20, 22.5, 25, 27.5, 30, 32.5, 35]\n",
    "    plot_config['af_levels'] = None\n",
    "    plot_config['difference_levels'] = [-2.5, -2.0, -1.5, -1.0, -0.5, 0, 0.5, 1.0, 1.5, 2.0, 2.5]\n",
    "    plot_config['extreme_for_values'] = 'max'\n",
    "    clim_extend = 'both'\n",
    "elif hist_var == 'pr':\n",
    "    plot_config['pdf_xbounds'] = (5, 80)\n",
    "    plot_config['pdf_ybounds'] = (0, 0.02)\n",
    "    plot_config['regular_cmap'] = cmocean.cm.rain\n",
    "    plot_config['diverging_cmap'] = 'BrBG'\n",
    "    plot_config['general_levels'] = [0, 0.01, 0.25, 0.5, 1, 2, 5, 10, 20, 40, 60]\n",
    "    plot_config['af_levels'] = [0.125, 0.25, 0.5, 0.67, 0.8, 1, 1.25, 1.5, 2, 4, 8]\n",
    "    plot_config['difference_levels'] = [-150, -130, -110, -90, -70, -50, -30, -10, 10, 30, 50, 70, 90, 110, 130, 150]\n",
    "    plot_config['extreme_for_values'] = 'max'\n",
    "    clim_extend = 'max'\n",
    "    plot_config['q_xbounds'] = (80, 100)\n",
    "    if int(nquantiles) == 500:\n",
    "        plot_config['q_xbounds'] = (96, 100)\n",
    "    elif int(nquantiles) == 1000:\n",
    "        plot_config['q_xbounds'] = (98, 100)\n",
    "elif hist_var == 'rsds':\n",
    "    plot_config['pdf_xbounds'] = (0, 300)\n",
    "    plot_config['pdf_ybounds'] = None\n",
    "    plot_config['q_xbounds'] = (0, 100)\n",
    "    plot_config['regular_cmap'] = cmocean.cm.solar\n",
    "    plot_config['diverging_cmap'] = 'RdBu_r'\n",
    "    plot_config['general_levels'] = [115, 130, 145, 160, 175, 200, 225, 250, 275]\n",
    "    plot_config['af_levels'] = None\n",
    "    plot_config['difference_levels'] = [-5, -4, -3, -2, -1, 0, 1, 2, 3, 4, 5]\n",
    "    plot_config['extreme_for_values'] = 'max'\n",
    "    clim_extend = 'both'\n",
    "elif 'hurs' in hist_var:\n",
    "    plot_config['pdf_xbounds'] = (0, 100)\n",
    "    plot_config['pdf_ybounds'] = None\n",
    "    plot_config['q_xbounds'] = (0, 100)\n",
    "    plot_config['regular_cmap'] = cmocean.cm.thermal\n",
    "    plot_config['diverging_cmap'] = 'RdBu_r'\n",
    "    plot_config['general_levels'] = [10, 15 ,20, 25, 30, 35, 40, 45, 50, 55, 60, 65, 70, 75, 80, 85, 90]\n",
    "    plot_config['af_levels'] = None\n",
    "    plot_config['difference_levels'] = [-5, -4, -3, -2, -1, 0, 1, 2, 3, 4, 5]\n",
    "    plot_config['extreme_for_values'] = 'min'\n",
    "    clim_extend = 'both'\n",
    "elif hist_var in ['sfcWind', 'sfcWindmax']:\n",
    "    plot_config['pdf_xbounds'] = (-5, 40)\n",
    "    plot_config['pdf_ybounds'] = None\n",
    "    plot_config['plot_pdfs_flag'] = True\n",
    "    plot_config['q_xbounds'] = (0, 100)\n",
    "    plot_config['regular_cmap'] = cmocean.cm.speed\n",
    "    plot_config['diverging_cmap'] = 'RdBu_r'\n",
    "    plot_config['general_levels'] = [0, 1, 2, 3, 4, 5, 6, 7, 8, 9, 10]\n",
    "    plot_config['af_levels'] = None\n",
    "    plot_config['difference_levels'] = [-1.0, -0.8, -0.6, -0.4, -0.2, 0, 0.2, 0.4, 0.6, 0.8, 1.0]\n",
    "    plot_config['extreme_for_values'] = 'max'\n",
    "    clim_extend = 'max'\n",
    "else:\n",
    "    raise ValueError(f'No plotting configuration defined for {hist_var}')"
   ]
  },
  {
   "cell_type": "code",
   "execution_count": null,
   "id": "67ddfeff",
   "metadata": {},
   "outputs": [],
   "source": [
    "city_lat_lon = {\n",
    "    'Hobart': (-42.9, 147.3),\n",
    "    'Melbourne': (-37.8, 145.0),\n",
    "    'Mildura': (-34.2, 142.1),\n",
    "    'Thredbo': (-36.5, 148.3),\n",
    "    'Sydney': (-33.9, 151.2),\n",
    "    'Brisbane': (-27.5, 153.0),\n",
    "    'Cairns': (-16.9, 145.8),\n",
    "    'Darwin': (-12.5, 130.8),\n",
    "    'Alice Springs': (-23.7, 133.9),\n",
    "    'Port Hedland': (-20.3, 118.6),\n",
    "    'Karlamilyi National Park': (-22.7, 122.2),\n",
    "    'Perth': (-32.0, 115.9),\n",
    "    'Adelaide': (-34.9, 138.6),\n",
    "}"
   ]
  },
  {
   "cell_type": "markdown",
   "id": "f1e34fbc",
   "metadata": {
    "papermill": {
     "duration": 0.007422,
     "end_time": "2023-05-30T04:56:57.404952",
     "exception": false,
     "start_time": "2023-05-30T04:56:57.397530",
     "status": "completed"
    },
    "tags": []
   },
   "source": [
    "## Read data"
   ]
  },
  {
   "cell_type": "code",
   "execution_count": null,
   "id": "b0ad9850",
   "metadata": {
    "execution": {
     "iopub.execute_input": "2023-05-30T04:56:57.420805Z",
     "iopub.status.busy": "2023-05-30T04:56:57.420570Z",
     "iopub.status.idle": "2023-05-30T04:56:57.593609Z",
     "shell.execute_reply": "2023-05-30T04:56:57.592583Z"
    },
    "papermill": {
     "duration": 0.184302,
     "end_time": "2023-05-30T04:56:57.596516",
     "exception": false,
     "start_time": "2023-05-30T04:56:57.412214",
     "status": "completed"
    },
    "tags": []
   },
   "outputs": [],
   "source": [
    "ds_adjust = xr.open_dataset(adjustment_file)"
   ]
  },
  {
   "cell_type": "code",
   "execution_count": null,
   "id": "e462d5ad",
   "metadata": {},
   "outputs": [],
   "source": [
    "if 'month' in ds_adjust.dims:\n",
    "    plot_config['months'] = [1,2,3,4,5,6,7,8,9,10,11,12]\n",
    "    af_dims = ['quantiles', 'month']\n",
    "else:\n",
    "    plot_config['months'] = []\n",
    "    af_dims = 'quantiles'"
   ]
  },
  {
   "cell_type": "code",
   "execution_count": null,
   "id": "12689618",
   "metadata": {
    "execution": {
     "iopub.execute_input": "2023-05-30T04:56:57.624771Z",
     "iopub.status.busy": "2023-05-30T04:56:57.624409Z",
     "iopub.status.idle": "2023-05-30T04:56:57.935482Z",
     "shell.execute_reply": "2023-05-30T04:56:57.934464Z"
    },
    "papermill": {
     "duration": 0.328035,
     "end_time": "2023-05-30T04:56:57.938269",
     "exception": false,
     "start_time": "2023-05-30T04:56:57.610234",
     "status": "completed"
    },
    "tags": []
   },
   "outputs": [],
   "source": [
    "ds_hist = utils.read_data(\n",
    "    hist_files,\n",
    "    hist_var,\n",
    "    time_bounds=hist_time_bounds,\n",
    "    input_units=hist_units,\n",
    "    output_units=output_units,\n",
    ")\n",
    "try:\n",
    "    ds_hist = ds_hist.drop_vars('crs')\n",
    "except ValueError:\n",
    "    pass"
   ]
  },
  {
   "cell_type": "code",
   "execution_count": null,
   "id": "b41f0d1b",
   "metadata": {
    "execution": {
     "iopub.execute_input": "2023-05-30T04:57:12.608822Z",
     "iopub.status.busy": "2023-05-30T04:57:12.608435Z",
     "iopub.status.idle": "2023-05-30T04:57:12.707225Z",
     "shell.execute_reply": "2023-05-30T04:57:12.706434Z"
    },
    "papermill": {
     "duration": 0.122742,
     "end_time": "2023-05-30T04:57:12.709996",
     "exception": false,
     "start_time": "2023-05-30T04:57:12.587254",
     "status": "completed"
    },
    "tags": []
   },
   "outputs": [],
   "source": [
    "ds_ref = utils.read_data(\n",
    "    ref_files,\n",
    "    ref_var,\n",
    "    time_bounds=ref_time_bounds,\n",
    "    input_units=ref_units,\n",
    "    output_units=output_units,\n",
    ")\n",
    "try:\n",
    "    ds_ref = ds_ref.drop_vars('crs')\n",
    "except ValueError:\n",
    "    pass"
   ]
  },
  {
   "cell_type": "code",
   "execution_count": null,
   "id": "1ef68a7e",
   "metadata": {
    "execution": {
     "iopub.execute_input": "2023-05-30T04:57:46.597301Z",
     "iopub.status.busy": "2023-05-30T04:57:46.596983Z",
     "iopub.status.idle": "2023-05-30T04:57:46.686386Z",
     "shell.execute_reply": "2023-05-30T04:57:46.685796Z"
    },
    "papermill": {
     "duration": 0.117943,
     "end_time": "2023-05-30T04:57:46.687837",
     "exception": false,
     "start_time": "2023-05-30T04:57:46.569894",
     "status": "completed"
    },
    "tags": []
   },
   "outputs": [],
   "source": [
    "ds_target = utils.read_data(\n",
    "    target_files,\n",
    "    target_var,\n",
    "    time_bounds=target_time_bounds,\n",
    "    input_units=target_units,\n",
    "    output_units=output_units\n",
    ")\n",
    "try:\n",
    "    ds_target = ds_target.drop_vars('crs')\n",
    "except ValueError:\n",
    "    pass"
   ]
  },
  {
   "cell_type": "code",
   "execution_count": null,
   "id": "0325bdbc",
   "metadata": {
    "execution": {
     "iopub.execute_input": "2023-05-30T05:17:34.106711Z",
     "iopub.status.busy": "2023-05-30T05:17:34.105833Z",
     "iopub.status.idle": "2023-05-30T05:17:34.231069Z",
     "shell.execute_reply": "2023-05-30T05:17:34.230188Z"
    },
    "papermill": {
     "duration": 0.590185,
     "end_time": "2023-05-30T05:17:34.233238",
     "exception": false,
     "start_time": "2023-05-30T05:17:33.643053",
     "status": "completed"
    },
    "tags": []
   },
   "outputs": [],
   "source": [
    "ds_qq = xr.open_dataset(qq_file)\n",
    "qq_vars = list(ds_qq.keys())\n",
    "if target_var in qq_vars:\n",
    "    qq_var = target_var\n",
    "else:\n",
    "    qq_var = ref_var\n",
    "try:\n",
    "    ds_qq = ds_qq.drop_vars('crs')\n",
    "except ValueError:\n",
    "    pass\n",
    "    \n",
    "if 'qq_clipped_file' in locals():\n",
    "    ds_qq_clipped = xr.open_dataset(qq_clipped_file)\n",
    "    try:\n",
    "        ds_qq_clipped = ds_qq_clipped.drop_vars('crs')\n",
    "    except ValueError:\n",
    "        pass\n",
    "    da_qq_clipped = ds_qq_clipped[qq_var]\n",
    "else:\n",
    "    ds_qq_clipped = None\n",
    "    da_qq_clipped = None\n",
    "    \n",
    "if 'qq_cmatch_file' in locals():\n",
    "    ds_qq_cmatch = xr.open_dataset(qq_cmatch_file)\n",
    "    try:\n",
    "        ds_qq_cmatch = ds_qq_cmatch.drop_vars('crs')\n",
    "    except ValueError:\n",
    "        pass\n",
    "    da_qq_cmatch = ds_qq_cmatch[qq_var]\n",
    "else:\n",
    "    ds_qq_cmatch = None\n",
    "    da_qq_cmatch = None"
   ]
  },
  {
   "cell_type": "markdown",
   "id": "7769b122",
   "metadata": {},
   "source": [
    "## Australia-wide"
   ]
  },
  {
   "cell_type": "markdown",
   "id": "87858a84",
   "metadata": {},
   "source": [
    "#### QDM\n",
    "\n",
    "GCM change = ref (ssp) - hist  \n",
    "QQ change = qq - target (obs)\n",
    "\n",
    "#### eCDFm\n",
    "\n",
    "GCM change = target (ssp) - hist  \n",
    "QQ change = qq - ref (obs)"
   ]
  },
  {
   "cell_type": "code",
   "execution_count": null,
   "id": "03c9fb87",
   "metadata": {},
   "outputs": [],
   "source": [
    "def select_months(ds, months=[]):\n",
    "    \"\"\"Select months from dataset.\n",
    "\n",
    "    Parameters\n",
    "    ----------\n",
    "    ds : xarray Dataset or DataArray\n",
    "    months : list\n",
    "        Months to select (1-12)\n",
    "\n",
    "    Returns\n",
    "    -------\n",
    "    ds_selection : xarray Dataset or DataArray\n",
    "        Input dataset with month extracted\n",
    "    \"\"\"\n",
    "\n",
    "    if months:\n",
    "        da_months = ds['time'].dt.month\n",
    "        time_selection = da_months.isin(months)\n",
    "        ds_selection = ds.sel({'time': time_selection})\n",
    "    else:\n",
    "        ds_selection = ds\n",
    "\n",
    "    return ds_selection"
   ]
  },
  {
   "cell_type": "code",
   "execution_count": null,
   "id": "df6b4572",
   "metadata": {},
   "outputs": [],
   "source": [
    "def get_comparison_data(season='annual'):\n",
    "    \"\"\"Get comparison data for plotting\"\"\"\n",
    "\n",
    "    months = {\n",
    "        'DJF': [1, 2, 12],\n",
    "        'MAM': [3, 4, 5],\n",
    "        'JJA': [6, 7, 8],\n",
    "        'SON': [9, 10, 11],\n",
    "        'annual': [],\n",
    "    }\n",
    "    ds_hist_selection = select_months(ds_hist, months[season])\n",
    "    ds_ref_selection = select_months(ds_ref, months[season])\n",
    "    ds_target_selection = select_months(ds_target, months[season])\n",
    "    ds_qq_selection = select_months(ds_qq, months[season])\n",
    "    if ds_qq_clipped is not None:\n",
    "        ds_qq_clipped_selection = select_months(ds_qq_clipped, months[season])\n",
    "    if ds_qq_cmatch is not None:\n",
    "        ds_qq_cmatch_selection = select_months(ds_qq_cmatch, months[season])\n",
    "    \n",
    "    climatologies = {}\n",
    "    climatologies['hist'] = ds_hist_selection[hist_var].mean('time', keep_attrs=True).compute()\n",
    "    climatologies['ref'] = ds_ref_selection[ref_var].mean('time', keep_attrs=True).compute()\n",
    "    climatologies['target'] = ds_target_selection[target_var].mean('time', keep_attrs=True).compute()\n",
    "    climatologies['qq'] = ds_qq_selection[qq_var].mean('time', keep_attrs=True).compute()\n",
    "    if ds_qq_clipped is not None:\n",
    "        climatologies['qq_clipped'] = ds_qq_clipped_selection[qq_var].mean('time', keep_attrs=True).compute()\n",
    "    if ds_qq_cmatch is not None:\n",
    "        climatologies['qq_cmatch'] = ds_qq_cmatch_selection[qq_var].mean('time', keep_attrs=True).compute()\n",
    "    \n",
    "    comparisons = {}\n",
    "    comparisons['ref_hist'] = validation.spatial_comparison_data(\n",
    "        climatologies['ref'],\n",
    "        climatologies['hist'],\n",
    "        scaling\n",
    "    )\n",
    "    comparisons['qq_target'] = validation.spatial_comparison_data(\n",
    "        climatologies['qq'],\n",
    "        climatologies['target'],\n",
    "        scaling\n",
    "    )\n",
    "    comparisons['target_hist'] = validation.spatial_comparison_data(\n",
    "        climatologies['target'],\n",
    "        climatologies['hist'],\n",
    "        scaling\n",
    "    )\n",
    "    comparisons['qq_ref'] = validation.spatial_comparison_data(\n",
    "        climatologies['qq'],\n",
    "        climatologies['ref'],\n",
    "        scaling\n",
    "    )\n",
    "    comparisons['qdc_model_change'] = validation.spatial_comparison_data(\n",
    "        comparisons['qq_target'],\n",
    "        comparisons['ref_hist'],\n",
    "        'additive',\n",
    "    )\n",
    "    if ds_qq_clipped is not None:\n",
    "        comparisons['qq_clipped'] = validation.spatial_comparison_data(\n",
    "            climatologies['qq_clipped'],\n",
    "            climatologies['qq'],\n",
    "            scaling\n",
    "        )\n",
    "    if ds_qq_cmatch is not None:\n",
    "        comparisons['qq_cmatch_target'] = validation.spatial_comparison_data(\n",
    "            climatologies['qq_cmatch'],\n",
    "            climatologies['target'],\n",
    "            scaling\n",
    "        )\n",
    "        comparisons['qdc_cmatch_model_change'] = validation.spatial_comparison_data(\n",
    "            comparisons['qq_cmatch_target'],\n",
    "            comparisons['ref_hist'],\n",
    "            'additive',\n",
    "        )\n",
    "    \n",
    "    return climatologies, comparisons "
   ]
  },
  {
   "cell_type": "code",
   "execution_count": null,
   "id": "448cba86",
   "metadata": {},
   "outputs": [],
   "source": [
    "def plot_comparisons(climatologies, comparisons, season='annual'):\n",
    "    \"\"\"Plot comparisons for a given season\"\"\"\n",
    "    \n",
    "    validation.spatial_comparison_plot(\n",
    "        climatologies['ref'],\n",
    "        climatologies['hist'],\n",
    "        comparisons['ref_hist'],\n",
    "        'reference',\n",
    "        'historical',\n",
    "        plot_config['regular_cmap'],\n",
    "        plot_config['diverging_cmap'],\n",
    "        plot_config['general_levels'],\n",
    "        plot_config['difference_levels'],\n",
    "        scaling,\n",
    "        city_lat_lon=city_lat_lon,\n",
    "        land_only=mask_ocean,\n",
    "        clim_extend=clim_extend,\n",
    "    )\n",
    "    \n",
    "    validation.spatial_comparison_plot(\n",
    "        climatologies['qq'],\n",
    "        climatologies['target'],\n",
    "        comparisons['qq_target'],\n",
    "        'QQ',\n",
    "        'target',\n",
    "        plot_config['regular_cmap'],\n",
    "        plot_config['diverging_cmap'],\n",
    "        plot_config['general_levels'],\n",
    "        plot_config['difference_levels'],\n",
    "        scaling,\n",
    "        city_lat_lon=city_lat_lon,\n",
    "        land_only=mask_ocean,\n",
    "        clim_extend=clim_extend,\n",
    "    )\n",
    "    \n",
    "    validation.spatial_comparison_plot(\n",
    "        climatologies['target'],\n",
    "        climatologies['hist'],\n",
    "        comparisons['target_hist'],\n",
    "        'target',\n",
    "        'historical',\n",
    "        plot_config['regular_cmap'],\n",
    "        plot_config['diverging_cmap'],\n",
    "        plot_config['general_levels'],\n",
    "        plot_config['difference_levels'],\n",
    "        scaling,\n",
    "        city_lat_lon=city_lat_lon,\n",
    "        land_only=mask_ocean,\n",
    "        clim_extend=clim_extend\n",
    "    )\n",
    "    \n",
    "    validation.spatial_comparison_plot(\n",
    "        climatologies['qq'],\n",
    "        climatologies['ref'],\n",
    "        comparisons['qq_ref'],\n",
    "        'QQ',\n",
    "        'reference',\n",
    "        plot_config['regular_cmap'],\n",
    "        plot_config['diverging_cmap'],\n",
    "        plot_config['general_levels'],\n",
    "        plot_config['difference_levels'],\n",
    "        scaling,\n",
    "        city_lat_lon=city_lat_lon,\n",
    "        land_only=mask_ocean,\n",
    "        clim_extend=clim_extend\n",
    "    )\n",
    "    \n",
    "    if 'qq_clipped' in comparisons:\n",
    "        validation.spatial_comparison_plot(\n",
    "            climatologies['qq_clipped'],\n",
    "            climatologies['qq'],\n",
    "            comparisons['qq_clipped'],\n",
    "            'QQ clipped',\n",
    "            'QQ',\n",
    "            plot_config['regular_cmap'],\n",
    "            plot_config['diverging_cmap'],\n",
    "            plot_config['general_levels'],\n",
    "            plot_config['difference_levels'],\n",
    "            scaling,\n",
    "            city_lat_lon=city_lat_lon,\n",
    "            land_only=mask_ocean,\n",
    "            clim_extend=clim_extend\n",
    "        )\n",
    "    \n",
    "    if 'qdc_model_change' in comparisons:\n",
    "        validation.spatial_comparison_plot(\n",
    "            comparisons['qq_target'],\n",
    "            comparisons['ref_hist'],\n",
    "            comparisons['qdc_model_change'],\n",
    "            'QQ change',\n",
    "            'Model change',\n",
    "            plot_config['diverging_cmap'],\n",
    "            plot_config['diverging_cmap'],\n",
    "            plot_config['difference_levels'],\n",
    "            plot_config['difference_levels'],\n",
    "            'additive',\n",
    "            city_lat_lon=city_lat_lon,\n",
    "            land_only=mask_ocean,\n",
    "            clim_extend='both'\n",
    "        )\n",
    "    \n",
    "    if 'qdc_cmatch_model_change' in comparisons:\n",
    "        validation.spatial_comparison_plot(\n",
    "            climatologies['qq_cmatch'],\n",
    "            climatologies['target'],\n",
    "            comparisons['qq_cmatch_target'],\n",
    "            'QQ (change matched)',\n",
    "            'target',\n",
    "            plot_config['regular_cmap'],\n",
    "            plot_config['diverging_cmap'],\n",
    "            plot_config['general_levels'],\n",
    "            plot_config['difference_levels'],\n",
    "            scaling,\n",
    "            city_lat_lon=city_lat_lon,\n",
    "            land_only=mask_ocean,\n",
    "            clim_extend=clim_extend,\n",
    "        )\n",
    "        validation.spatial_comparison_plot(\n",
    "            comparisons['qq_cmatch_target'],\n",
    "            comparisons['ref_hist'],\n",
    "            comparisons['qdc_cmatch_model_change'],\n",
    "            'QDC change (change matched)',\n",
    "            'Model change',\n",
    "            plot_config['diverging_cmap'],\n",
    "            plot_config['diverging_cmap'],\n",
    "            plot_config['difference_levels'],\n",
    "            plot_config['difference_levels'],\n",
    "            'additive',\n",
    "            city_lat_lon=city_lat_lon,\n",
    "            land_only=mask_ocean,\n",
    "            clim_extend='both'\n",
    "        )"
   ]
  },
  {
   "cell_type": "markdown",
   "id": "876b7124",
   "metadata": {},
   "source": [
    "### Annual"
   ]
  },
  {
   "cell_type": "code",
   "execution_count": null,
   "id": "49d92e73",
   "metadata": {},
   "outputs": [],
   "source": [
    "climatologies, comparisons = get_comparison_data()"
   ]
  },
  {
   "cell_type": "code",
   "execution_count": null,
   "id": "670bc214",
   "metadata": {},
   "outputs": [],
   "source": [
    "plot_comparisons(climatologies, comparisons)"
   ]
  },
  {
   "cell_type": "markdown",
   "id": "97599550",
   "metadata": {},
   "source": [
    "### DJF"
   ]
  },
  {
   "cell_type": "code",
   "execution_count": null,
   "id": "ca7a8086",
   "metadata": {},
   "outputs": [],
   "source": [
    "climatologies, comparisons = get_comparison_data(season='DJF')"
   ]
  },
  {
   "cell_type": "code",
   "execution_count": null,
   "id": "9f4b87a6",
   "metadata": {},
   "outputs": [],
   "source": [
    "plot_comparisons(climatologies, comparisons, season='DJF')"
   ]
  },
  {
   "cell_type": "markdown",
   "id": "309ffaf9",
   "metadata": {},
   "source": [
    "### MAM"
   ]
  },
  {
   "cell_type": "code",
   "execution_count": null,
   "id": "5b6cf10b",
   "metadata": {},
   "outputs": [],
   "source": [
    "climatologies, comparisons = get_comparison_data(season='MAM')"
   ]
  },
  {
   "cell_type": "code",
   "execution_count": null,
   "id": "537f74e6",
   "metadata": {},
   "outputs": [],
   "source": [
    "plot_comparisons(climatologies, comparisons, season='MAM')"
   ]
  },
  {
   "cell_type": "markdown",
   "id": "910ab008",
   "metadata": {},
   "source": [
    "### JJA"
   ]
  },
  {
   "cell_type": "code",
   "execution_count": null,
   "id": "b75d6948",
   "metadata": {},
   "outputs": [],
   "source": [
    "climatologies, comparisons = get_comparison_data(season='JJA')"
   ]
  },
  {
   "cell_type": "code",
   "execution_count": null,
   "id": "786f9c86",
   "metadata": {},
   "outputs": [],
   "source": [
    "plot_comparisons(climatologies, comparisons, season='JJA')"
   ]
  },
  {
   "cell_type": "markdown",
   "id": "78f80467",
   "metadata": {},
   "source": [
    "### SON"
   ]
  },
  {
   "cell_type": "code",
   "execution_count": null,
   "id": "c9d12eaa",
   "metadata": {},
   "outputs": [],
   "source": [
    "climatologies, comparisons = get_comparison_data(season='SON')"
   ]
  },
  {
   "cell_type": "code",
   "execution_count": null,
   "id": "aab59cbd",
   "metadata": {},
   "outputs": [],
   "source": [
    "plot_comparisons(climatologies, comparisons, season='SON')"
   ]
  },
  {
   "cell_type": "markdown",
   "id": "b84f74cf",
   "metadata": {},
   "source": [
    "## Crazy value check"
   ]
  },
  {
   "cell_type": "code",
   "execution_count": null,
   "id": "e634909f",
   "metadata": {},
   "outputs": [],
   "source": [
    "shape = gp.read_file('/g/data/ia39/aus-ref-clim-data-nci/shapefiles/data/australia/australia.shp')\n",
    "ds_adjust_shape = validation.subset_shape(ds_adjust, shape=shape)"
   ]
  },
  {
   "cell_type": "code",
   "execution_count": null,
   "id": "b500c3e1",
   "metadata": {},
   "outputs": [],
   "source": [
    "ds_adjust_shape['af'].max()"
   ]
  },
  {
   "cell_type": "code",
   "execution_count": null,
   "id": "6b2997f9",
   "metadata": {},
   "outputs": [],
   "source": [
    "ds_adjust_shape['af'].where(ds_adjust_shape['hist_q'] > 1, 0).max()"
   ]
  },
  {
   "cell_type": "code",
   "execution_count": null,
   "id": "72a66eb3",
   "metadata": {},
   "outputs": [],
   "source": [
    "ds_adjust_shape['af'].where(ds_adjust_shape['hist_q'] > 1, 0).max(dim=af_dims).plot()"
   ]
  },
  {
   "cell_type": "code",
   "execution_count": null,
   "id": "b4b9ed03",
   "metadata": {},
   "outputs": [],
   "source": [
    "seasonal_r = validation.calc_seasonal_correlation(ds_target, target_var, ds_qq, qq_var)"
   ]
  },
  {
   "cell_type": "code",
   "execution_count": null,
   "id": "e7813a68",
   "metadata": {},
   "outputs": [],
   "source": [
    "validation.plot_seasonal_correlation(seasonal_r, land_only=True, city_lat_lon=city_lat_lon)"
   ]
  },
  {
   "cell_type": "code",
   "execution_count": null,
   "id": "f7675252",
   "metadata": {},
   "outputs": [],
   "source": [
    "if 'qq_cmatch_file' in locals():\n",
    "    seasonal_r_cmatch = validation.calc_seasonal_correlation(ds_target, target_var, ds_qq_cmatch, qq_var)"
   ]
  },
  {
   "cell_type": "code",
   "execution_count": null,
   "id": "e35e9689",
   "metadata": {},
   "outputs": [],
   "source": [
    "if 'qq_cmatch_file' in locals():\n",
    "    validation.plot_seasonal_correlation(seasonal_r_cmatch, land_only=True, city_lat_lon=city_lat_lon)"
   ]
  },
  {
   "cell_type": "code",
   "execution_count": null,
   "id": "784c4413",
   "metadata": {},
   "outputs": [],
   "source": [
    "if 'qq_clipped_file' in locals():\n",
    "    seasonal_r_clipped = validation.calc_seasonal_correlation(ds_target, target_var, ds_qq_clipped, qq_var)"
   ]
  },
  {
   "cell_type": "code",
   "execution_count": null,
   "id": "1fa9f81d",
   "metadata": {},
   "outputs": [],
   "source": [
    "if 'qq_clipped_file' in locals():\n",
    "    validation.plot_seasonal_correlation(seasonal_r_clipped, land_only=True, city_lat_lon=city_lat_lon)"
   ]
  },
  {
   "cell_type": "code",
   "execution_count": null,
   "id": "9f93a057",
   "metadata": {},
   "outputs": [],
   "source": [
    "seasonal_diff = validation.calc_seasonal_change_diff(\n",
    "    ds_hist[hist_var],\n",
    "    ds_ref[ref_var],\n",
    "    ds_target[target_var],\n",
    "    ds_qq[qq_var],\n",
    "    scaling\n",
    ")"
   ]
  },
  {
   "cell_type": "code",
   "execution_count": null,
   "id": "fb250cce",
   "metadata": {},
   "outputs": [],
   "source": [
    "validation.plot_seasonal_change_diff(\n",
    "    seasonal_diff,\n",
    "    land_only=True,\n",
    "    city_lat_lon=city_lat_lon,\n",
    "    levels=[0, 10, 20, 40, 80, 160, 320, 640, 1280]\n",
    ")"
   ]
  },
  {
   "cell_type": "code",
   "execution_count": null,
   "id": "d049e713",
   "metadata": {},
   "outputs": [],
   "source": [
    "if 'qq_cmatch_file' in locals():\n",
    "    seasonal_diff_cmatch = validation.calc_seasonal_change_diff(\n",
    "        ds_hist[hist_var],\n",
    "        ds_ref[ref_var],\n",
    "        ds_target[target_var],\n",
    "        ds_qq_cmatch[qq_var],\n",
    "        scaling\n",
    "    )"
   ]
  },
  {
   "cell_type": "code",
   "execution_count": null,
   "id": "0c20df42",
   "metadata": {},
   "outputs": [],
   "source": [
    "if 'qq_cmatch_file' in locals():\n",
    "    validation.plot_seasonal_change_diff(\n",
    "        seasonal_diff_cmatch,\n",
    "        land_only=True,\n",
    "        city_lat_lon=city_lat_lon,\n",
    "        levels=[0, 10, 20, 40, 80, 160, 320, 640, 1280]\n",
    "    )"
   ]
  },
  {
   "cell_type": "code",
   "execution_count": null,
   "id": "3fa44a65",
   "metadata": {},
   "outputs": [],
   "source": [
    "if 'qq_clipped_file' in locals():\n",
    "    seasonal_diff_clipped = validation.calc_seasonal_change_diff(\n",
    "        ds_hist[hist_var],\n",
    "        ds_ref[ref_var],\n",
    "        ds_target[target_var],\n",
    "        ds_qq_clipped[qq_var],\n",
    "        scaling\n",
    "    )"
   ]
  },
  {
   "cell_type": "code",
   "execution_count": null,
   "id": "473b8cdc",
   "metadata": {},
   "outputs": [],
   "source": [
    "if 'qq_clipped_file' in locals():\n",
    "    validation.plot_seasonal_change_diff(\n",
    "        seasonal_diff_clipped,\n",
    "        land_only=True,\n",
    "        city_lat_lon=city_lat_lon,\n",
    "        levels=[0, 10, 20, 40, 80, 160, 320, 640, 1280]\n",
    "    )"
   ]
  },
  {
   "cell_type": "code",
   "execution_count": null,
   "id": "41138149",
   "metadata": {},
   "outputs": [],
   "source": [
    "validation.plot_monthly_change_sign_agreement(\n",
    "    ds_hist[hist_var],\n",
    "    ds_ref[ref_var],\n",
    "    land_only=True,\n",
    "    city_lat_lon=city_lat_lon,\n",
    ")"
   ]
  },
  {
   "cell_type": "code",
   "execution_count": null,
   "id": "36601d3d",
   "metadata": {},
   "outputs": [],
   "source": [
    "validation.plot_monthly_change_sign_agreement(\n",
    "    ds_target[target_var],\n",
    "    ds_qq[qq_var],\n",
    "    land_only=True,\n",
    "    city_lat_lon=city_lat_lon,\n",
    ")"
   ]
  },
  {
   "cell_type": "markdown",
   "id": "6fd830ac",
   "metadata": {},
   "source": [
    "## Points of interest"
   ]
  },
  {
   "cell_type": "code",
   "execution_count": null,
   "id": "64c6dc83",
   "metadata": {},
   "outputs": [],
   "source": [
    "def plot_city(city, n_values=50):\n",
    "    \"\"\"Generate plots for a city\"\"\"\n",
    "    \n",
    "    lat, lon = city_lat_lon[city]\n",
    "    \n",
    "    validation.single_point_analysis(\n",
    "        ds_hist[hist_var],\n",
    "        ds_ref[ref_var],\n",
    "        ds_target[target_var],\n",
    "        ds_qq[qq_var],\n",
    "        ds_adjust,\n",
    "        hist_var,\n",
    "        scaling,\n",
    "        city,\n",
    "        lat,\n",
    "        lon,\n",
    "        plot_config['regular_cmap'],\n",
    "        plot_config['diverging_cmap'],\n",
    "        plot_config['general_levels'],\n",
    "        plot_config['af_levels'],\n",
    "        da_qq_clipped=da_qq_clipped,\n",
    "        da_qq_cmatch=da_qq_cmatch,\n",
    "        pdf_xbounds=plot_config['pdf_xbounds'],\n",
    "        pdf_ybounds=plot_config['pdf_ybounds'],\n",
    "        q_xbounds=plot_config['q_xbounds'],\n",
    "        n_values=n_values,\n",
    "        months=plot_config['months'],\n",
    "        plot_1d_quantiles=plot_config['plot_1d_quantiles_flag'],\n",
    "        plot_1d_values=plot_config['plot_1d_values_flag'],\n",
    "        plot_pdfs=plot_config['plot_pdfs_flag'],\n",
    "        seasonal_agg='mean',\n",
    "        extreme_for_values=plot_config['extreme_for_values']\n",
    "    )"
   ]
  },
  {
   "cell_type": "code",
   "execution_count": null,
   "id": "a2111dd6",
   "metadata": {},
   "outputs": [],
   "source": [
    "plot_city('Hobart')"
   ]
  },
  {
   "cell_type": "code",
   "execution_count": null,
   "id": "29e29b0e",
   "metadata": {},
   "outputs": [],
   "source": [
    "plot_city('Melbourne')"
   ]
  },
  {
   "cell_type": "code",
   "execution_count": null,
   "id": "558479b4",
   "metadata": {},
   "outputs": [],
   "source": [
    "plot_city('Mildura')"
   ]
  },
  {
   "cell_type": "code",
   "execution_count": null,
   "id": "73cf9c49",
   "metadata": {},
   "outputs": [],
   "source": [
    "plot_city('Thredbo')"
   ]
  },
  {
   "cell_type": "code",
   "execution_count": null,
   "id": "0c0ec88a",
   "metadata": {},
   "outputs": [],
   "source": [
    "plot_city('Sydney')"
   ]
  },
  {
   "cell_type": "code",
   "execution_count": null,
   "id": "7101d25a",
   "metadata": {},
   "outputs": [],
   "source": [
    "plot_city('Brisbane')"
   ]
  },
  {
   "cell_type": "code",
   "execution_count": null,
   "id": "4a978862",
   "metadata": {},
   "outputs": [],
   "source": [
    "plot_city('Cairns')"
   ]
  },
  {
   "cell_type": "code",
   "execution_count": null,
   "id": "3edc4f93",
   "metadata": {},
   "outputs": [],
   "source": [
    "plot_city('Darwin')"
   ]
  },
  {
   "cell_type": "code",
   "execution_count": null,
   "id": "a47e4647",
   "metadata": {},
   "outputs": [],
   "source": [
    "plot_city('Alice Springs')"
   ]
  },
  {
   "cell_type": "code",
   "execution_count": null,
   "id": "5367d61e",
   "metadata": {},
   "outputs": [],
   "source": [
    "plot_city('Port Hedland')"
   ]
  },
  {
   "cell_type": "code",
   "execution_count": null,
   "id": "c9f92777",
   "metadata": {},
   "outputs": [],
   "source": [
    "plot_city('Karlamilyi National Park')"
   ]
  },
  {
   "cell_type": "code",
   "execution_count": null,
   "id": "d4f277be",
   "metadata": {},
   "outputs": [],
   "source": [
    "plot_city('Perth')"
   ]
  },
  {
   "cell_type": "code",
   "execution_count": null,
   "id": "bd45f88d",
   "metadata": {},
   "outputs": [],
   "source": [
    "plot_city('Adelaide')"
   ]
  }
 ],
 "metadata": {
  "celltoolbar": "Tags",
  "kernelspec": {
   "display_name": "Python 3 (ipykernel)",
   "language": "python",
   "name": "python3"
  },
  "language_info": {
   "codemirror_mode": {
    "name": "ipython",
    "version": 3
   },
   "file_extension": ".py",
   "mimetype": "text/x-python",
   "name": "python",
   "nbconvert_exporter": "python",
   "pygments_lexer": "ipython3",
   "version": "3.10.4"
  },
  "papermill": {
   "default_parameters": {},
   "duration": 2428.337224,
   "end_time": "2023-05-30T05:35:41.601553",
   "environment_variables": {},
   "exception": null,
   "input_path": "validation_qdm.ipynb",
   "output_path": "/g/data/wp00/data/QQ-CMIP6/ACCESS-ESM1-5/ssp370/r1i1p1f1/day/pr/v20191115/pr-ssr_day_ACCESS-ESM1-5_ssp370_r1i1p1f1_AUS-r005_20560101-20851231_qdm-multiplicative-monthly-q100-linear_AGCD-19900101-20191231_historical-19950101-20141231.ipynb",
   "parameters": {
    "adjustment_file": "/g/data/wp00/data/QQ-CMIP6/ACCESS-ESM1-5/ssp370/r1i1p1f1/day/pr/v20191115/pr-ssr-qdm-multiplicative-monthly-q100-adjustment-factors_ACCESS-ESM1-5_ssp370_r1i1p1f1_gn_20560101-20851231_wrt_19950101-20141231.nc",
    "example_lat": -19.26,
    "example_lon": 146.8,
    "example_month": 5,
    "hist_files": "/g/data/wp00/data/QQ-CMIP6/ACCESS-ESM1-5/historical/r1i1p1f1/day/pr/v20191115/pr-ssr_day_ACCESS-ESM1-5_historical_r1i1p1f1_gn_19950101-20141231.nc",
    "hist_time_bounds": "1995-01-01 2014-12-31",
    "hist_units": "mm day-1",
    "hist_var": "pr",
    "output_units": "mm day-1",
    "qq_file": "/g/data/wp00/data/QQ-CMIP6/ACCESS-ESM1-5/ssp370/r1i1p1f1/day/pr/v20191115/pr-ssr_day_ACCESS-ESM1-5_ssp370_r1i1p1f1_AUS-r005_20560101-20851231_qdm-multiplicative-monthly-q100-linear_AGCD-19900101-20191231_historical-19950101-20141231.nc",
    "ref_files": "/g/data/wp00/data/QQ-CMIP6/ACCESS-ESM1-5/ssp370/r1i1p1f1/day/pr/v20191115/pr-ssr_day_ACCESS-ESM1-5_ssp370_r1i1p1f1_gn_20560101-20851231.nc",
    "ref_time_bounds": "2056-01-01 2085-12-31",
    "ref_units": "mm day-1",
    "ref_var": "pr",
    "scaling": "multiplicative",
    "target_files": "/g/data/wp00/data/AGCD/precip-ssr_AGCD_r005_19900101-20191231_daily.nc",
    "target_time_bounds": "1990-01-01 2019-12-31",
    "target_units": "mm day-1",
    "target_var": "precip"
   },
   "start_time": "2023-05-30T04:55:13.264329",
   "version": "2.3.4"
  }
 },
 "nbformat": 4,
 "nbformat_minor": 5
}
