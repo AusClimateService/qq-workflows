{
 "cells": [
  {
   "cell_type": "markdown",
   "id": "87eda6bf",
   "metadata": {
    "papermill": {
     "duration": 0.06834,
     "end_time": "2023-05-30T04:55:31.224930",
     "exception": false,
     "start_time": "2023-05-30T04:55:31.156590",
     "status": "completed"
    },
    "tags": []
   },
   "source": [
    "# Validation for quantile scaling"
   ]
  },
  {
   "cell_type": "code",
   "execution_count": null,
   "id": "824492d7",
   "metadata": {
    "execution": {
     "iopub.execute_input": "2023-05-30T04:55:31.247058Z",
     "iopub.status.busy": "2023-05-30T04:55:31.246698Z",
     "iopub.status.idle": "2023-05-30T04:56:57.179830Z",
     "shell.execute_reply": "2023-05-30T04:56:57.178761Z"
    },
    "papermill": {
     "duration": 85.948797,
     "end_time": "2023-05-30T04:56:57.182607",
     "exception": false,
     "start_time": "2023-05-30T04:55:31.233810",
     "status": "completed"
    },
    "tags": [
     "parameters"
    ]
   },
   "outputs": [],
   "source": [
    "import sys\n",
    "import warnings\n",
    "warnings.filterwarnings('ignore')\n",
    "\n",
    "import xarray as xr\n",
    "import cmocean\n",
    "\n",
    "sys.path.append('/home/599/dbi599/qq-workflows')\n",
    "import validation\n",
    "sys.path.append('/g/data/wp00/shared_code/qqscale')\n",
    "import utils"
   ]
  },
  {
   "cell_type": "code",
   "execution_count": null,
   "id": "adc2ba71",
   "metadata": {
    "execution": {
     "iopub.execute_input": "2023-05-30T04:56:57.306207Z",
     "iopub.status.busy": "2023-05-30T04:56:57.305928Z",
     "iopub.status.idle": "2023-05-30T04:56:57.314976Z",
     "shell.execute_reply": "2023-05-30T04:56:57.313973Z"
    },
    "papermill": {
     "duration": 0.025331,
     "end_time": "2023-05-30T04:56:57.316535",
     "exception": false,
     "start_time": "2023-05-30T04:56:57.291204",
     "status": "completed"
    }
   },
   "outputs": [],
   "source": [
    "# Required parameters\n",
    "assert 'scaling' in locals(), \"Must provide the scaling method (option -p scaling {name})\"\n",
    "assert 'hist_var' in locals(), \"Must provide an historical variable name (option -p hist_var {name})\"\n",
    "assert 'ref_var' in locals(), \"Must provide a reference variable name (option -p ref_var {name})\"\n",
    "assert 'target_var' in locals(), \"Must provide a target variable name (option -p target_var {name})\"\n",
    "assert 'hist_units' in locals(), \"Must provide historical units (option -p hist_units {units})\"\n",
    "assert 'ref_units' in locals(), \"Must provide reference units (option -p ref_units {units})\"\n",
    "assert 'target_units' in locals(), \"Must provide target units (option -p target_units {units})\"\n",
    "assert 'output_units' in locals(), \"Must provide output units (option -p output_units {units})\"\n",
    "assert 'adjustment_file' in locals(), \"Must provide an adjustment factors file (option -p adjustment_file {file path})\"\n",
    "assert 'hist_files' in locals(), \"\"\"Must provide historical data files (option -p hist_files {\"file paths\"})\"\"\"\n",
    "assert 'ref_files' in locals(), \"\"\"Must provide reference data files (option -p ref_files {\"file paths\"})\"\"\"\n",
    "assert 'target_files' in locals(), \"\"\"Must provide target data files (option -p target_files {\"file paths\"})\"\"\"\n",
    "assert 'qq_file' in locals(), \"Must provide an qq-scaled data file (option -p qq_file {file path})\"\n",
    "assert 'hist_time_bounds' in locals(), \"\"\"Must provide time bounds for historical data (option -p hist_time_bounds {\"YYYY-MM-DD YYYY-MM-DD\"})\"\"\"\n",
    "assert 'ref_time_bounds' in locals(), \"\"\"Must provide time bounds for reference data (option -p ref_time_bounds {\"YYYY-MM-DD YYYY-MM-DD\"})\"\"\"\n",
    "assert 'target_time_bounds' in locals(), \"\"\"Must provide time bounds for target data (option -p target_time_bounds {\"YYYY-MM-DD YYYY-MM-DD\"})\"\"\""
   ]
  },
  {
   "cell_type": "code",
   "execution_count": null,
   "id": "491505bb",
   "metadata": {
    "execution": {
     "iopub.execute_input": "2023-05-30T04:56:57.330758Z",
     "iopub.status.busy": "2023-05-30T04:56:57.330481Z",
     "iopub.status.idle": "2023-05-30T04:56:57.335559Z",
     "shell.execute_reply": "2023-05-30T04:56:57.334711Z"
    },
    "papermill": {
     "duration": 0.015534,
     "end_time": "2023-05-30T04:56:57.338040",
     "exception": false,
     "start_time": "2023-05-30T04:56:57.322506",
     "status": "completed"
    },
    "tags": []
   },
   "outputs": [],
   "source": [
    "hist_files = hist_files.split()\n",
    "ref_files = ref_files.split()\n",
    "target_files = target_files.split()\n",
    "\n",
    "hist_time_bounds = hist_time_bounds.split()\n",
    "ref_time_bounds = ref_time_bounds.split()\n",
    "target_time_bounds = target_time_bounds.split()"
   ]
  },
  {
   "cell_type": "code",
   "execution_count": null,
   "id": "8dd25bea",
   "metadata": {},
   "outputs": [],
   "source": [
    "plot_config = {}\n",
    "plot_config['plot_pdfs_flag'] = True\n",
    "plot_config['plot_1d_quantiles_flag'] = True\n",
    "plot_config['plot_1d_values_flag'] = True\n",
    "mask_ocean = True\n",
    "if hist_var == 'tasmin':\n",
    "    plot_config['pdf_xbounds'] = (-10, 30)\n",
    "    plot_config['pdf_ybounds'] = None\n",
    "    plot_config['q_xbounds'] = (0, 100)\n",
    "    plot_config['regular_cmap'] = cmocean.cm.thermal\n",
    "    plot_config['diverging_cmap'] = 'RdBu_r'\n",
    "    plot_config['general_levels'] = [-4.0, -2.5, -1, 0.5, 2, 3.5, 5, 6.5, 8, 9.5, 11, 12.5, 14, 15.5, 17, 18.5, 20, 21.5]\n",
    "    plot_config['af_levels'] = None\n",
    "    plot_config['difference_levels'] = [-2.5, -2.0, -1.5, -1.0, -0.5, 0, 0.5, 1.0, 1.5, 2.0, 2.5]\n",
    "    clim_extend = 'both'\n",
    "elif hist_var == 'tasmax':\n",
    "    plot_config['pdf_xbounds'] = (0, 45)\n",
    "    plot_config['pdf_ybounds'] = None\n",
    "    plot_config['q_xbounds'] = (0, 100)\n",
    "    plot_config['regular_cmap'] = cmocean.cm.thermal\n",
    "    plot_config['diverging_cmap'] = 'RdBu_r'\n",
    "    plot_config['general_levels'] = [5, 7.5, 10, 12.5, 15, 17.5, 20, 22.5, 25, 27.5, 30, 32.5, 35]\n",
    "    plot_config['af_levels'] = None\n",
    "    plot_config['difference_levels'] = [-2.5, -2.0, -1.5, -1.0, -0.5, 0, 0.5, 1.0, 1.5, 2.0, 2.5]\n",
    "    clim_extend = 'both'\n",
    "elif hist_var == 'pr':\n",
    "    plot_config['plot_pdfs_flag'] = False\n",
    "    plot_config['pdf_xbounds'] = (5, 80)\n",
    "    plot_config['pdf_ybounds'] = (0, 0.02)\n",
    "    plot_config['q_xbounds'] = (80, 100)\n",
    "    plot_config['regular_cmap'] = cmocean.cm.rain\n",
    "    plot_config['diverging_cmap'] = 'BrBG'\n",
    "    plot_config['general_levels'] = [0, 0.01, 0.25, 0.5, 1, 2, 5, 10, 20, 40, 60]\n",
    "    plot_config['af_levels'] = [0.125, 0.25, 0.5, 0.67, 0.8, 1, 1.25, 1.5, 2, 4, 8]\n",
    "    plot_config['difference_levels'] = [-65, -55, -45, -35, -25, -15, -5, 5, 15, 25, 35, 45, 55, 65]\n",
    "    clim_extend = 'max'\n",
    "else:\n",
    "    raise ValueError(f'No plotting configuration defined for {hist_var}')"
   ]
  },
  {
   "cell_type": "code",
   "execution_count": null,
   "id": "67ddfeff",
   "metadata": {},
   "outputs": [],
   "source": [
    "city_lat_lon = {\n",
    "    'Hobart': (-42.9, 147.3),\n",
    "    'Melbourne': (-37.8, 145.0),\n",
    "    'Thredbo': (-36.5, 148.3),\n",
    "    'Sydney': (-33.9, 151.2),\n",
    "    'Brisbane': (-27.5, 153.0),\n",
    "    'Cairns': (-16.9, 145.8),\n",
    "    'Darwin': (-12.5, 130.8),\n",
    "    'Alice Springs': (-23.7, 133.9),\n",
    "    'Port Hedland': (-20.3, 118.6),\n",
    "    'Perth': (-32.0, 115.9),\n",
    "    'Adelaide': (-34.9, 138.6),\n",
    "}"
   ]
  },
  {
   "cell_type": "markdown",
   "id": "f1e34fbc",
   "metadata": {
    "papermill": {
     "duration": 0.007422,
     "end_time": "2023-05-30T04:56:57.404952",
     "exception": false,
     "start_time": "2023-05-30T04:56:57.397530",
     "status": "completed"
    },
    "tags": []
   },
   "source": [
    "## Read data"
   ]
  },
  {
   "cell_type": "code",
   "execution_count": null,
   "id": "b0ad9850",
   "metadata": {
    "execution": {
     "iopub.execute_input": "2023-05-30T04:56:57.420805Z",
     "iopub.status.busy": "2023-05-30T04:56:57.420570Z",
     "iopub.status.idle": "2023-05-30T04:56:57.593609Z",
     "shell.execute_reply": "2023-05-30T04:56:57.592583Z"
    },
    "papermill": {
     "duration": 0.184302,
     "end_time": "2023-05-30T04:56:57.596516",
     "exception": false,
     "start_time": "2023-05-30T04:56:57.412214",
     "status": "completed"
    },
    "tags": []
   },
   "outputs": [],
   "source": [
    "ds_adjust = xr.open_dataset(adjustment_file)"
   ]
  },
  {
   "cell_type": "code",
   "execution_count": null,
   "id": "e462d5ad",
   "metadata": {},
   "outputs": [],
   "source": [
    "if 'month' in ds_adjust.dims:\n",
    "    plot_config['plot_2d_quantiles_flag'] = True\n",
    "    plot_config['months'] = [1,2,3,4,5,6,7,8,9,10,11,12]\n",
    "else:\n",
    "    plot_config['plot_2d_quantiles_flag'] = False\n",
    "    plot_config['months'] = []"
   ]
  },
  {
   "cell_type": "code",
   "execution_count": null,
   "id": "12689618",
   "metadata": {
    "execution": {
     "iopub.execute_input": "2023-05-30T04:56:57.624771Z",
     "iopub.status.busy": "2023-05-30T04:56:57.624409Z",
     "iopub.status.idle": "2023-05-30T04:56:57.935482Z",
     "shell.execute_reply": "2023-05-30T04:56:57.934464Z"
    },
    "papermill": {
     "duration": 0.328035,
     "end_time": "2023-05-30T04:56:57.938269",
     "exception": false,
     "start_time": "2023-05-30T04:56:57.610234",
     "status": "completed"
    },
    "tags": []
   },
   "outputs": [],
   "source": [
    "ds_hist = utils.read_data(\n",
    "    hist_files,\n",
    "    hist_var,\n",
    "    time_bounds=hist_time_bounds,\n",
    "    input_units=hist_units,\n",
    "    output_units=output_units,\n",
    ")"
   ]
  },
  {
   "cell_type": "code",
   "execution_count": null,
   "id": "b41f0d1b",
   "metadata": {
    "execution": {
     "iopub.execute_input": "2023-05-30T04:57:12.608822Z",
     "iopub.status.busy": "2023-05-30T04:57:12.608435Z",
     "iopub.status.idle": "2023-05-30T04:57:12.707225Z",
     "shell.execute_reply": "2023-05-30T04:57:12.706434Z"
    },
    "papermill": {
     "duration": 0.122742,
     "end_time": "2023-05-30T04:57:12.709996",
     "exception": false,
     "start_time": "2023-05-30T04:57:12.587254",
     "status": "completed"
    },
    "tags": []
   },
   "outputs": [],
   "source": [
    "ds_ref = utils.read_data(\n",
    "    ref_files,\n",
    "    ref_var,\n",
    "    time_bounds=ref_time_bounds,\n",
    "    input_units=ref_units,\n",
    "    output_units=output_units,\n",
    ")"
   ]
  },
  {
   "cell_type": "code",
   "execution_count": null,
   "id": "1ef68a7e",
   "metadata": {
    "execution": {
     "iopub.execute_input": "2023-05-30T04:57:46.597301Z",
     "iopub.status.busy": "2023-05-30T04:57:46.596983Z",
     "iopub.status.idle": "2023-05-30T04:57:46.686386Z",
     "shell.execute_reply": "2023-05-30T04:57:46.685796Z"
    },
    "papermill": {
     "duration": 0.117943,
     "end_time": "2023-05-30T04:57:46.687837",
     "exception": false,
     "start_time": "2023-05-30T04:57:46.569894",
     "status": "completed"
    },
    "tags": []
   },
   "outputs": [],
   "source": [
    "ds_target = utils.read_data(\n",
    "    target_files,\n",
    "    target_var,\n",
    "    time_bounds=target_time_bounds,\n",
    "    input_units=target_units,\n",
    "    output_units=output_units\n",
    ")"
   ]
  },
  {
   "cell_type": "code",
   "execution_count": null,
   "id": "0325bdbc",
   "metadata": {
    "execution": {
     "iopub.execute_input": "2023-05-30T05:17:34.106711Z",
     "iopub.status.busy": "2023-05-30T05:17:34.105833Z",
     "iopub.status.idle": "2023-05-30T05:17:34.231069Z",
     "shell.execute_reply": "2023-05-30T05:17:34.230188Z"
    },
    "papermill": {
     "duration": 0.590185,
     "end_time": "2023-05-30T05:17:34.233238",
     "exception": false,
     "start_time": "2023-05-30T05:17:33.643053",
     "status": "completed"
    },
    "tags": []
   },
   "outputs": [],
   "source": [
    "ds_qq = xr.open_dataset(qq_file)"
   ]
  },
  {
   "cell_type": "markdown",
   "id": "7769b122",
   "metadata": {},
   "source": [
    "## Australia-wide"
   ]
  },
  {
   "cell_type": "code",
   "execution_count": null,
   "id": "af51c485",
   "metadata": {},
   "outputs": [],
   "source": [
    "hist_clim = ds_hist[hist_var].mean('time', keep_attrs=True).compute()\n",
    "ref_clim = ds_ref[ref_var].mean('time', keep_attrs=True).compute()\n",
    "target_clim = ds_target[target_var].mean('time', keep_attrs=True).compute()\n",
    "qq_clim = ds_qq[target_var].mean('time', keep_attrs=True).compute()"
   ]
  },
  {
   "cell_type": "markdown",
   "id": "f63e63f3",
   "metadata": {},
   "source": [
    "#### QDM\n",
    "\n",
    "GCM change = ref (ssp) - hist  \n",
    "QQ change = qq - target (obs)\n",
    "\n",
    "#### eCDFm\n",
    "\n",
    "GCM change = target (ssp) - hist  \n",
    "QQ change = qq - ref (obs)"
   ]
  },
  {
   "cell_type": "code",
   "execution_count": null,
   "id": "904d1d5a",
   "metadata": {},
   "outputs": [],
   "source": [
    "ref_hist_comparison = validation.spatial_comparison_data(ref_clim, hist_clim, scaling)\n",
    "qq_target_comparison = validation.spatial_comparison_data(qq_clim, target_clim, scaling)\n",
    "target_hist_comparison = validation.spatial_comparison_data(target_clim, hist_clim, scaling)\n",
    "qq_ref_comparison = validation.spatial_comparison_data(qq_clim, ref_clim, scaling)"
   ]
  },
  {
   "cell_type": "code",
   "execution_count": null,
   "id": "bf1f0fc8",
   "metadata": {},
   "outputs": [],
   "source": [
    "validation.spatial_comparison_plot(\n",
    "    ref_clim,\n",
    "    hist_clim,\n",
    "    ref_hist_comparison,\n",
    "    'reference',\n",
    "    'historical',\n",
    "    plot_config['regular_cmap'],\n",
    "    plot_config['diverging_cmap'],\n",
    "    plot_config['general_levels'],\n",
    "    plot_config['difference_levels'],\n",
    "    scaling,\n",
    "    city_lat_lon=city_lat_lon,\n",
    "    land_only=mask_ocean,\n",
    "    clim_extend=clim_extend,\n",
    ")"
   ]
  },
  {
   "cell_type": "code",
   "execution_count": null,
   "id": "51b70a4e",
   "metadata": {},
   "outputs": [],
   "source": [
    "validation.spatial_comparison_plot(\n",
    "    qq_clim,\n",
    "    target_clim,\n",
    "    qq_target_comparison,\n",
    "    'QQ',\n",
    "    'target',\n",
    "    plot_config['regular_cmap'],\n",
    "    plot_config['diverging_cmap'],\n",
    "    plot_config['general_levels'],\n",
    "    plot_config['difference_levels'],\n",
    "    scaling,\n",
    "    city_lat_lon=city_lat_lon,\n",
    "    land_only=mask_ocean,\n",
    "    clim_extend=clim_extend,\n",
    ")"
   ]
  },
  {
   "cell_type": "code",
   "execution_count": null,
   "id": "4ca185e0",
   "metadata": {},
   "outputs": [],
   "source": [
    "validation.spatial_comparison_plot(\n",
    "    target_clim,\n",
    "    hist_clim,\n",
    "    target_hist_comparison,\n",
    "    'target',\n",
    "    'historical',\n",
    "    plot_config['regular_cmap'],\n",
    "    plot_config['diverging_cmap'],\n",
    "    plot_config['general_levels'],\n",
    "    plot_config['difference_levels'],\n",
    "    scaling,\n",
    "    city_lat_lon=city_lat_lon,\n",
    "    land_only=mask_ocean,\n",
    "    clim_extend=clim_extend\n",
    ")"
   ]
  },
  {
   "cell_type": "code",
   "execution_count": null,
   "id": "1915ea3f",
   "metadata": {},
   "outputs": [],
   "source": [
    "validation.spatial_comparison_plot(\n",
    "    qq_clim,\n",
    "    ref_clim,\n",
    "    qq_ref_comparison,\n",
    "    'QQ',\n",
    "    'reference',\n",
    "    plot_config['regular_cmap'],\n",
    "    plot_config['diverging_cmap'],\n",
    "    plot_config['general_levels'],\n",
    "    plot_config['difference_levels'],\n",
    "    scaling,\n",
    "    city_lat_lon=city_lat_lon,\n",
    "    land_only=mask_ocean,\n",
    "    clim_extend=clim_extend\n",
    ")"
   ]
  },
  {
   "cell_type": "markdown",
   "id": "6fd830ac",
   "metadata": {},
   "source": [
    "## Points of interest"
   ]
  },
  {
   "cell_type": "code",
   "execution_count": null,
   "id": "64c6dc83",
   "metadata": {},
   "outputs": [],
   "source": [
    "def plot_city(city):\n",
    "    \"\"\"Generate plots for a city\"\"\"\n",
    "    \n",
    "    lat, lon = city_lat_lon[city]\n",
    "    \n",
    "    validation.single_point_analysis(\n",
    "        ds_hist[hist_var],\n",
    "        ds_ref[ref_var],\n",
    "        ds_target[target_var],\n",
    "        ds_qq[target_var],\n",
    "        ds_adjust,\n",
    "        hist_var,\n",
    "        city,\n",
    "        lat,\n",
    "        lon,\n",
    "        plot_config['regular_cmap'],\n",
    "        plot_config['diverging_cmap'],\n",
    "        plot_config['general_levels'],\n",
    "        plot_config['af_levels'],\n",
    "        pdf_xbounds=plot_config['pdf_xbounds'],\n",
    "        pdf_ybounds=plot_config['pdf_ybounds'],\n",
    "        q_xbounds=plot_config['q_xbounds'],\n",
    "        months=plot_config['months'],\n",
    "        plot_1d_quantiles=plot_config['plot_1d_quantiles_flag'],\n",
    "        plot_2d_quantiles=plot_config['plot_2d_quantiles_flag'],\n",
    "        plot_1d_values=plot_config['plot_1d_values_flag'],\n",
    "        plot_pdfs=plot_config['plot_pdfs_flag'],\n",
    "        seasonal_agg='mean',\n",
    "    )"
   ]
  },
  {
   "cell_type": "code",
   "execution_count": null,
   "id": "a2111dd6",
   "metadata": {},
   "outputs": [],
   "source": [
    "plot_city('Hobart')"
   ]
  },
  {
   "cell_type": "code",
   "execution_count": null,
   "id": "29e29b0e",
   "metadata": {},
   "outputs": [],
   "source": [
    "plot_city('Melbourne')"
   ]
  },
  {
   "cell_type": "code",
   "execution_count": null,
   "id": "73cf9c49",
   "metadata": {},
   "outputs": [],
   "source": [
    "plot_city('Thredbo')"
   ]
  },
  {
   "cell_type": "code",
   "execution_count": null,
   "id": "0c0ec88a",
   "metadata": {},
   "outputs": [],
   "source": [
    "plot_city('Sydney')"
   ]
  },
  {
   "cell_type": "code",
   "execution_count": null,
   "id": "7101d25a",
   "metadata": {},
   "outputs": [],
   "source": [
    "plot_city('Brisbane')"
   ]
  },
  {
   "cell_type": "code",
   "execution_count": null,
   "id": "4a978862",
   "metadata": {},
   "outputs": [],
   "source": [
    "plot_city('Cairns')"
   ]
  },
  {
   "cell_type": "code",
   "execution_count": null,
   "id": "3edc4f93",
   "metadata": {},
   "outputs": [],
   "source": [
    "plot_city('Darwin')"
   ]
  },
  {
   "cell_type": "code",
   "execution_count": null,
   "id": "a47e4647",
   "metadata": {},
   "outputs": [],
   "source": [
    "plot_city('Alice Springs')"
   ]
  },
  {
   "cell_type": "code",
   "execution_count": null,
   "id": "5367d61e",
   "metadata": {},
   "outputs": [],
   "source": [
    "plot_city('Port Hedland')"
   ]
  },
  {
   "cell_type": "code",
   "execution_count": null,
   "id": "d4f277be",
   "metadata": {},
   "outputs": [],
   "source": [
    "plot_city('Perth')"
   ]
  }
 ],
 "metadata": {
  "celltoolbar": "Tags",
  "kernelspec": {
   "display_name": "Python 3 (ipykernel)",
   "language": "python",
   "name": "python3"
  },
  "language_info": {
   "codemirror_mode": {
    "name": "ipython",
    "version": 3
   },
   "file_extension": ".py",
   "mimetype": "text/x-python",
   "name": "python",
   "nbconvert_exporter": "python",
   "pygments_lexer": "ipython3",
   "version": "3.10.4"
  },
  "papermill": {
   "default_parameters": {},
   "duration": 2428.337224,
   "end_time": "2023-05-30T05:35:41.601553",
   "environment_variables": {},
   "exception": null,
   "input_path": "validation_qdm.ipynb",
   "output_path": "/g/data/wp00/data/QQ-CMIP6/ACCESS-ESM1-5/ssp370/r1i1p1f1/day/pr/v20191115/pr-ssr_day_ACCESS-ESM1-5_ssp370_r1i1p1f1_AUS-r005_20560101-20851231_qdm-multiplicative-monthly-q100-linear_AGCD-19900101-20191231_historical-19950101-20141231.ipynb",
   "parameters": {
    "adjustment_file": "/g/data/wp00/data/QQ-CMIP6/ACCESS-ESM1-5/ssp370/r1i1p1f1/day/pr/v20191115/pr-ssr-qdm-multiplicative-monthly-q100-adjustment-factors_ACCESS-ESM1-5_ssp370_r1i1p1f1_gn_20560101-20851231_wrt_19950101-20141231.nc",
    "example_lat": -19.26,
    "example_lon": 146.8,
    "example_month": 5,
    "hist_files": "/g/data/wp00/data/QQ-CMIP6/ACCESS-ESM1-5/historical/r1i1p1f1/day/pr/v20191115/pr-ssr_day_ACCESS-ESM1-5_historical_r1i1p1f1_gn_19950101-20141231.nc",
    "hist_time_bounds": "1995-01-01 2014-12-31",
    "hist_units": "mm day-1",
    "hist_var": "pr",
    "output_units": "mm day-1",
    "qq_file": "/g/data/wp00/data/QQ-CMIP6/ACCESS-ESM1-5/ssp370/r1i1p1f1/day/pr/v20191115/pr-ssr_day_ACCESS-ESM1-5_ssp370_r1i1p1f1_AUS-r005_20560101-20851231_qdm-multiplicative-monthly-q100-linear_AGCD-19900101-20191231_historical-19950101-20141231.nc",
    "ref_files": "/g/data/wp00/data/QQ-CMIP6/ACCESS-ESM1-5/ssp370/r1i1p1f1/day/pr/v20191115/pr-ssr_day_ACCESS-ESM1-5_ssp370_r1i1p1f1_gn_20560101-20851231.nc",
    "ref_time_bounds": "2056-01-01 2085-12-31",
    "ref_units": "mm day-1",
    "ref_var": "pr",
    "scaling": "multiplicative",
    "target_files": "/g/data/wp00/data/AGCD/precip-ssr_AGCD_r005_19900101-20191231_daily.nc",
    "target_time_bounds": "1990-01-01 2019-12-31",
    "target_units": "mm day-1",
    "target_var": "precip"
   },
   "start_time": "2023-05-30T04:55:13.264329",
   "version": "2.3.4"
  }
 },
 "nbformat": 4,
 "nbformat_minor": 5
}
