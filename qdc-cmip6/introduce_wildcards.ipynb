{
 "cells": [
  {
   "cell_type": "code",
   "execution_count": 26,
   "id": "fa36c5dd",
   "metadata": {},
   "outputs": [],
   "source": [
    "import os\n",
    "import sys\n",
    "import difflib\n",
    "import re"
   ]
  },
  {
   "cell_type": "code",
   "execution_count": 2,
   "id": "7db67ba0",
   "metadata": {},
   "outputs": [
    {
     "data": {
      "text/plain": [
       "['/g/data/xv83/dbi599/miniconda3/envs/qqscale/lib/python3.10/site-packages/ipykernel_launcher.py',\n",
       " '-f',\n",
       " '/home/599/dbi599/.local/share/jupyter/runtime/kernel-e685ff0e-19d1-409c-b5ac-a01345758654.json']"
      ]
     },
     "execution_count": 2,
     "metadata": {},
     "output_type": "execute_result"
    }
   ],
   "source": [
    "sys.argv"
   ]
  },
  {
   "cell_type": "code",
   "execution_count": 4,
   "id": "3e7a52df",
   "metadata": {},
   "outputs": [
    {
     "data": {
      "text/plain": [
       "''"
      ]
     },
     "execution_count": 4,
     "metadata": {},
     "output_type": "execute_result"
    }
   ],
   "source": [
    "os.path.commonprefix(sys.argv)"
   ]
  },
  {
   "cell_type": "code",
   "execution_count": 88,
   "id": "0ca86add",
   "metadata": {},
   "outputs": [],
   "source": [
    "test = '/g/data/xv83/dbi599/miniconda3/envs/qqscale/bin/python /home/599/dbi599/qqscale/adjust.py /g/data/ob53/BARRA2/output/reanalysis/AUS-11/BOM/ERA5/historical/hres/BARRA-R2/v1/day/pr/v20231001/pr_AUS-11_ERA5_historical_hres_BOM_BARRA-R2_v1_day_201401-201401.nc /g/data/ob53/BARRA2/output/reanalysis/AUS-11/BOM/ERA5/historical/hres/BARRA-R2/v1/day/pr/v20231001/pr_AUS-11_ERA5_historical_hres_BOM_BARRA-R2_v1_day_201402-201402.nc /g/data/ob53/BARRA2/output/reanalysis/AUS-11/BOM/ERA5/historical/hres/BARRA-R2/v1/day/pr/v20231001/pr_AUS-11_ERA5_historical_hres_BOM_BARRA-R2_v1_day_201403-201403.nc /g/data/ob53/BARRA2/output/reanalysis/AUS-11/BOM/ERA5/historical/hres/BARRA-R2/v1/day/pr/v20231001/pr_AUS-11_ERA5_historical_hres_BOM_BARRA-R2_v1_day_201404-201404.nc /g/data/ob53/BARRA2/output/reanalysis/AUS-11/BOM/ERA5/historical/hres/BARRA-R2/v1/day/pr/v20231001/pr_AUS-11_ERA5_historical_hres_BOM_BARRA-R2_v1_day_201405-201405.nc /g/data/ob53/BARRA2/output/reanalysis/AUS-11/BOM/ERA5/historical/hres/BARRA-R2/v1/day/pr/v20231001/pr_AUS-11_ERA5_historical_hres_BOM_BARRA-R2_v1_day_201406-201406.nc /g/data/ob53/BARRA2/output/reanalysis/AUS-11/BOM/ERA5/historical/hres/BARRA-R2/v1/day/pr/v20231001/pr_AUS-11_ERA5_historical_hres_BOM_BARRA-R2_v1_day_201407-201407.nc /g/data/ob53/BARRA2/output/reanalysis/AUS-11/BOM/ERA5/historical/hres/BARRA-R2/v1/day/pr/v20231001/pr_AUS-11_ERA5_historical_hres_BOM_BARRA-R2_v1_day_201408-201408.nc /g/data/ob53/BARRA2/output/reanalysis/AUS-11/BOM/ERA5/historical/hres/BARRA-R2/v1/day/pr/v20231001/pr_AUS-11_ERA5_historical_hres_BOM_BARRA-R2_v1_day_201409-201409.nc /g/data/ob53/BARRA2/output/reanalysis/AUS-11/BOM/ERA5/historical/hres/BARRA-R2/v1/day/pr/v20231001/pr_AUS-11_ERA5_historical_hres_BOM_BARRA-R2_v1_day_201410-201410.nc /g/data/ob53/BARRA2/output/reanalysis/AUS-11/BOM/ERA5/historical/hres/BARRA-R2/v1/day/pr/v20231001/pr_AUS-11_ERA5_historical_hres_BOM_BARRA-R2_v1_day_201411-201411.nc /g/data/ob53/BARRA2/output/reanalysis/AUS-11/BOM/ERA5/historical/hres/BARRA-R2/v1/day/pr/v20231001/pr_AUS-11_ERA5_historical_hres_BOM_BARRA-R2_v1_day_201412-201412.nc /g/data/ob53/BARRA2/output/reanalysis/AUS-11/BOM/ERA5/historical/hres/BARRA-R2/v1/day/pr/v20231001/pr_AUS-11_ERA5_historical_hres_BOM_BARRA-R2_v1_day_201501-201501.nc /g/data/ob53/BARRA2/output/reanalysis/AUS-11/BOM/ERA5/historical/hres/BARRA-R2/v1/day/pr/v20231001/pr_AUS-11_ERA5_historical_hres_BOM_BARRA-R2_v1_day_201502-201502.nc /g/data/ob53/BARRA2/output/reanalysis/AUS-11/BOM/ERA5/historical/hres/BARRA-R2/v1/day/pr/v20231001/pr_AUS-11_ERA5_historical_hres_BOM_BARRA-R2_v1_day_201503-201503.nc /g/data/ob53/BARRA2/output/reanalysis/AUS-11/BOM/ERA5/historical/hres/BARRA-R2/v1/day/pr/v20231001/pr_AUS-11_ERA5_historical_hres_BOM_BARRA-R2_v1_day_201504-201504.nc /g/data/ob53/BARRA2/output/reanalysis/AUS-11/BOM/ERA5/historical/hres/BARRA-R2/v1/day/pr/v20231001/pr_AUS-11_ERA5_historical_hres_BOM_BARRA-R2_v1_day_201505-201505.nc /g/data/ob53/BARRA2/output/reanalysis/AUS-11/BOM/ERA5/historical/hres/BARRA-R2/v1/day/pr/v20231001/pr_AUS-11_ERA5_historical_hres_BOM_BARRA-R2_v1_day_201506-201506.nc /g/data/ob53/BARRA2/output/reanalysis/AUS-11/BOM/ERA5/historical/hres/BARRA-R2/v1/day/pr/v20231001/pr_AUS-11_ERA5_historical_hres_BOM_BARRA-R2_v1_day_201507-201507.nc /g/data/ob53/BARRA2/output/reanalysis/AUS-11/BOM/ERA5/historical/hres/BARRA-R2/v1/day/pr/v20231001/pr_AUS-11_ERA5_historical_hres_BOM_BARRA-R2_v1_day_201508-201508.nc /g/data/ob53/BARRA2/output/reanalysis/AUS-11/BOM/ERA5/historical/hres/BARRA-R2/v1/day/pr/v20231001/pr_AUS-11_ERA5_historical_hres_BOM_BARRA-R2_v1_day_201509-201509.nc /g/data/ob53/BARRA2/output/reanalysis/AUS-11/BOM/ERA5/historical/hres/BARRA-R2/v1/day/pr/v20231001/pr_AUS-11_ERA5_historical_hres_BOM_BARRA-R2_v1_day_201510-201510.nc /g/data/ob53/BARRA2/output/reanalysis/AUS-11/BOM/ERA5/historical/hres/BARRA-R2/v1/day/pr/v20231001/pr_AUS-11_ERA5_historical_hres_BOM_BARRA-R2_v1_day_201511-201511.nc /g/data/ob53/BARRA2/output/reanalysis/AUS-11/BOM/ERA5/historical/hres/BARRA-R2/v1/day/pr/v20231001/pr_AUS-11_ERA5_historical_hres_BOM_BARRA-R2_v1_day_201512-201512.nc /g/data/ob53/BARRA2/output/reanalysis/AUS-11/BOM/ERA5/historical/hres/BARRA-R2/v1/day/pr/v20231001/pr_AUS-11_ERA5_historical_hres_BOM_BARRA-R2_v1_day_201601-201601.nc /g/data/ob53/BARRA2/output/reanalysis/AUS-11/BOM/ERA5/historical/hres/BARRA-R2/v1/day/pr/v20231001/pr_AUS-11_ERA5_historical_hres_BOM_BARRA-R2_v1_day_201602-201602.nc /g/data/ob53/BARRA2/output/reanalysis/AUS-11/BOM/ERA5/historical/hres/BARRA-R2/v1/day/pr/v20231001/pr_AUS-11_ERA5_historical_hres_BOM_BARRA-R2_v1_day_201603-201603.nc /g/data/ob53/BARRA2/output/reanalysis/AUS-11/BOM/ERA5/historical/hres/BARRA-R2/v1/day/pr/v20231001/pr_AUS-11_ERA5_historical_hres_BOM_BARRA-R2_v1_day_201604-201604.nc /g/data/ob53/BARRA2/output/reanalysis/AUS-11/BOM/ERA5/historical/hres/BARRA-R2/v1/day/pr/v20231001/pr_AUS-11_ERA5_historical_hres_BOM_BARRA-R2_v1_day_201605-201605.nc /g/data/ob53/BARRA2/output/reanalysis/AUS-11/BOM/ERA5/historical/hres/BARRA-R2/v1/day/pr/v20231001/pr_AUS-11_ERA5_historical_hres_BOM_BARRA-R2_v1_day_201606-201606.nc /g/data/ob53/BARRA2/output/reanalysis/AUS-11/BOM/ERA5/historical/hres/BARRA-R2/v1/day/pr/v20231001/pr_AUS-11_ERA5_historical_hres_BOM_BARRA-R2_v1_day_201607-201607.nc /g/data/ob53/BARRA2/output/reanalysis/AUS-11/BOM/ERA5/historical/hres/BARRA-R2/v1/day/pr/v20231001/pr_AUS-11_ERA5_historical_hres_BOM_BARRA-R2_v1_day_201608-201608.nc /g/data/ob53/BARRA2/output/reanalysis/AUS-11/BOM/ERA5/historical/hres/BARRA-R2/v1/day/pr/v20231001/pr_AUS-11_ERA5_historical_hres_BOM_BARRA-R2_v1_day_201609-201609.nc /g/data/ob53/BARRA2/output/reanalysis/AUS-11/BOM/ERA5/historical/hres/BARRA-R2/v1/day/pr/v20231001/pr_AUS-11_ERA5_historical_hres_BOM_BARRA-R2_v1_day_201610-201610.nc /g/data/ob53/BARRA2/output/reanalysis/AUS-11/BOM/ERA5/historical/hres/BARRA-R2/v1/day/pr/v20231001/pr_AUS-11_ERA5_historical_hres_BOM_BARRA-R2_v1_day_201611-201611.nc /g/data/ob53/BARRA2/output/reanalysis/AUS-11/BOM/ERA5/historical/hres/BARRA-R2/v1/day/pr/v20231001/pr_AUS-11_ERA5_historical_hres_BOM_BARRA-R2_v1_day_201612-201612.nc /g/data/ob53/BARRA2/output/reanalysis/AUS-11/BOM/ERA5/historical/hres/BARRA-R2/v1/day/pr/v20231001/pr_AUS-11_ERA5_historical_hres_BOM_BARRA-R2_v1_day_201701-201701.nc /g/data/ob53/BARRA2/output/reanalysis/AUS-11/BOM/ERA5/historical/hres/BARRA-R2/v1/day/pr/v20231001/pr_AUS-11_ERA5_historical_hres_BOM_BARRA-R2_v1_day_201702-201702.nc /g/data/ob53/BARRA2/output/reanalysis/AUS-11/BOM/ERA5/historical/hres/BARRA-R2/v1/day/pr/v20231001/pr_AUS-11_ERA5_historical_hres_BOM_BARRA-R2_v1_day_201703-201703.nc /g/data/ob53/BARRA2/output/reanalysis/AUS-11/BOM/ERA5/historical/hres/BARRA-R2/v1/day/pr/v20231001/pr_AUS-11_ERA5_historical_hres_BOM_BARRA-R2_v1_day_201704-201704.nc /g/data/ob53/BARRA2/output/reanalysis/AUS-11/BOM/ERA5/historical/hres/BARRA-R2/v1/day/pr/v20231001/pr_AUS-11_ERA5_historical_hres_BOM_BARRA-R2_v1_day_201705-201705.nc /g/data/ob53/BARRA2/output/reanalysis/AUS-11/BOM/ERA5/historical/hres/BARRA-R2/v1/day/pr/v20231001/pr_AUS-11_ERA5_historical_hres_BOM_BARRA-R2_v1_day_201706-201706.nc /g/data/ob53/BARRA2/output/reanalysis/AUS-11/BOM/ERA5/historical/hres/BARRA-R2/v1/day/pr/v20231001/pr_AUS-11_ERA5_historical_hres_BOM_BARRA-R2_v1_day_201707-201707.nc /g/data/ob53/BARRA2/output/reanalysis/AUS-11/BOM/ERA5/historical/hres/BARRA-R2/v1/day/pr/v20231001/pr_AUS-11_ERA5_historical_hres_BOM_BARRA-R2_v1_day_201708-201708.nc /g/data/ob53/BARRA2/output/reanalysis/AUS-11/BOM/ERA5/historical/hres/BARRA-R2/v1/day/pr/v20231001/pr_AUS-11_ERA5_historical_hres_BOM_BARRA-R2_v1_day_201709-201709.nc /g/data/ob53/BARRA2/output/reanalysis/AUS-11/BOM/ERA5/historical/hres/BARRA-R2/v1/day/pr/v20231001/pr_AUS-11_ERA5_historical_hres_BOM_BARRA-R2_v1_day_201710-201710.nc /g/data/ob53/BARRA2/output/reanalysis/AUS-11/BOM/ERA5/historical/hres/BARRA-R2/v1/day/pr/v20231001/pr_AUS-11_ERA5_historical_hres_BOM_BARRA-R2_v1_day_201711-201711.nc /g/data/ob53/BARRA2/output/reanalysis/AUS-11/BOM/ERA5/historical/hres/BARRA-R2/v1/day/pr/v20231001/pr_AUS-11_ERA5_historical_hres_BOM_BARRA-R2_v1_day_201712-201712.nc /g/data/ob53/BARRA2/output/reanalysis/AUS-11/BOM/ERA5/historical/hres/BARRA-R2/v1/day/pr/v20231001/pr_AUS-11_ERA5_historical_hres_BOM_BARRA-R2_v1_day_201801-201801.nc /g/data/ob53/BARRA2/output/reanalysis/AUS-11/BOM/ERA5/historical/hres/BARRA-R2/v1/day/pr/v20231001/pr_AUS-11_ERA5_historical_hres_BOM_BARRA-R2_v1_day_201802-201802.nc /g/data/ob53/BARRA2/output/reanalysis/AUS-11/BOM/ERA5/historical/hres/BARRA-R2/v1/day/pr/v20231001/pr_AUS-11_ERA5_historical_hres_BOM_BARRA-R2_v1_day_201803-201803.nc /g/data/ob53/BARRA2/output/reanalysis/AUS-11/BOM/ERA5/historical/hres/BARRA-R2/v1/day/pr/v20231001/pr_AUS-11_ERA5_historical_hres_BOM_BARRA-R2_v1_day_201804-201804.nc /g/data/ob53/BARRA2/output/reanalysis/AUS-11/BOM/ERA5/historical/hres/BARRA-R2/v1/day/pr/v20231001/pr_AUS-11_ERA5_historical_hres_BOM_BARRA-R2_v1_day_201805-201805.nc /g/data/ob53/BARRA2/output/reanalysis/AUS-11/BOM/ERA5/historical/hres/BARRA-R2/v1/day/pr/v20231001/pr_AUS-11_ERA5_historical_hres_BOM_BARRA-R2_v1_day_201806-201806.nc /g/data/ob53/BARRA2/output/reanalysis/AUS-11/BOM/ERA5/historical/hres/BARRA-R2/v1/day/pr/v20231001/pr_AUS-11_ERA5_historical_hres_BOM_BARRA-R2_v1_day_201807-201807.nc /g/data/ob53/BARRA2/output/reanalysis/AUS-11/BOM/ERA5/historical/hres/BARRA-R2/v1/day/pr/v20231001/pr_AUS-11_ERA5_historical_hres_BOM_BARRA-R2_v1_day_201808-201808.nc /g/data/ob53/BARRA2/output/reanalysis/AUS-11/BOM/ERA5/historical/hres/BARRA-R2/v1/day/pr/v20231001/pr_AUS-11_ERA5_historical_hres_BOM_BARRA-R2_v1_day_201809-201809.nc /g/data/ob53/BARRA2/output/reanalysis/AUS-11/BOM/ERA5/historical/hres/BARRA-R2/v1/day/pr/v20231001/pr_AUS-11_ERA5_historical_hres_BOM_BARRA-R2_v1_day_201810-201810.nc /g/data/ob53/BARRA2/output/reanalysis/AUS-11/BOM/ERA5/historical/hres/BARRA-R2/v1/day/pr/v20231001/pr_AUS-11_ERA5_historical_hres_BOM_BARRA-R2_v1_day_201811-201811.nc /g/data/ob53/BARRA2/output/reanalysis/AUS-11/BOM/ERA5/historical/hres/BARRA-R2/v1/day/pr/v20231001/pr_AUS-11_ERA5_historical_hres_BOM_BARRA-R2_v1_day_201812-201812.nc /g/data/ob53/BARRA2/output/reanalysis/AUS-11/BOM/ERA5/historical/hres/BARRA-R2/v1/day/pr/v20231001/pr_AUS-11_ERA5_historical_hres_BOM_BARRA-R2_v1_day_201901-201901.nc /g/data/ob53/BARRA2/output/reanalysis/AUS-11/BOM/ERA5/historical/hres/BARRA-R2/v1/day/pr/v20231001/pr_AUS-11_ERA5_historical_hres_BOM_BARRA-R2_v1_day_201902-201902.nc /g/data/ob53/BARRA2/output/reanalysis/AUS-11/BOM/ERA5/historical/hres/BARRA-R2/v1/day/pr/v20231001/pr_AUS-11_ERA5_historical_hres_BOM_BARRA-R2_v1_day_201903-201903.nc /g/data/ob53/BARRA2/output/reanalysis/AUS-11/BOM/ERA5/historical/hres/BARRA-R2/v1/day/pr/v20231001/pr_AUS-11_ERA5_historical_hres_BOM_BARRA-R2_v1_day_201904-201904.nc /g/data/ob53/BARRA2/output/reanalysis/AUS-11/BOM/ERA5/historical/hres/BARRA-R2/v1/day/pr/v20231001/pr_AUS-11_ERA5_historical_hres_BOM_BARRA-R2_v1_day_201905-201905.nc /g/data/ob53/BARRA2/output/reanalysis/AUS-11/BOM/ERA5/historical/hres/BARRA-R2/v1/day/pr/v20231001/pr_AUS-11_ERA5_historical_hres_BOM_BARRA-R2_v1_day_201906-201906.nc /g/data/ob53/BARRA2/output/reanalysis/AUS-11/BOM/ERA5/historical/hres/BARRA-R2/v1/day/pr/v20231001/pr_AUS-11_ERA5_historical_hres_BOM_BARRA-R2_v1_day_201907-201907.nc /g/data/ob53/BARRA2/output/reanalysis/AUS-11/BOM/ERA5/historical/hres/BARRA-R2/v1/day/pr/v20231001/pr_AUS-11_ERA5_historical_hres_BOM_BARRA-R2_v1_day_201908-201908.nc /g/data/ob53/BARRA2/output/reanalysis/AUS-11/BOM/ERA5/historical/hres/BARRA-R2/v1/day/pr/v20231001/pr_AUS-11_ERA5_historical_hres_BOM_BARRA-R2_v1_day_201909-201909.nc /g/data/ob53/BARRA2/output/reanalysis/AUS-11/BOM/ERA5/historical/hres/BARRA-R2/v1/day/pr/v20231001/pr_AUS-11_ERA5_historical_hres_BOM_BARRA-R2_v1_day_201910-201910.nc /g/data/ob53/BARRA2/output/reanalysis/AUS-11/BOM/ERA5/historical/hres/BARRA-R2/v1/day/pr/v20231001/pr_AUS-11_ERA5_historical_hres_BOM_BARRA-R2_v1_day_201911-201911.nc /g/data/ob53/BARRA2/output/reanalysis/AUS-11/BOM/ERA5/historical/hres/BARRA-R2/v1/day/pr/v20231001/pr_AUS-11_ERA5_historical_hres_BOM_BARRA-R2_v1_day_201912-201912.nc /g/data/ob53/BARRA2/output/reanalysis/AUS-11/BOM/ERA5/historical/hres/BARRA-R2/v1/day/pr/v20231001/pr_AUS-11_ERA5_historical_hres_BOM_BARRA-R2_v1_day_202001-202001.nc /g/data/ob53/BARRA2/output/reanalysis/AUS-11/BOM/ERA5/historical/hres/BARRA-R2/v1/day/pr/v20231001/pr_AUS-11_ERA5_historical_hres_BOM_BARRA-R2_v1_day_202002-202002.nc /g/data/ob53/BARRA2/output/reanalysis/AUS-11/BOM/ERA5/historical/hres/BARRA-R2/v1/day/pr/v20231001/pr_AUS-11_ERA5_historical_hres_BOM_BARRA-R2_v1_day_202003-202003.nc /g/data/ob53/BARRA2/output/reanalysis/AUS-11/BOM/ERA5/historical/hres/BARRA-R2/v1/day/pr/v20231001/pr_AUS-11_ERA5_historical_hres_BOM_BARRA-R2_v1_day_202004-202004.nc /g/data/ob53/BARRA2/output/reanalysis/AUS-11/BOM/ERA5/historical/hres/BARRA-R2/v1/day/pr/v20231001/pr_AUS-11_ERA5_historical_hres_BOM_BARRA-R2_v1_day_202005-202005.nc /g/data/ob53/BARRA2/output/reanalysis/AUS-11/BOM/ERA5/historical/hres/BARRA-R2/v1/day/pr/v20231001/pr_AUS-11_ERA5_historical_hres_BOM_BARRA-R2_v1_day_202006-202006.nc /g/data/ob53/BARRA2/output/reanalysis/AUS-11/BOM/ERA5/historical/hres/BARRA-R2/v1/day/pr/v20231001/pr_AUS-11_ERA5_historical_hres_BOM_BARRA-R2_v1_day_202007-202007.nc /g/data/ob53/BARRA2/output/reanalysis/AUS-11/BOM/ERA5/historical/hres/BARRA-R2/v1/day/pr/v20231001/pr_AUS-11_ERA5_historical_hres_BOM_BARRA-R2_v1_day_202008-202008.nc /g/data/ob53/BARRA2/output/reanalysis/AUS-11/BOM/ERA5/historical/hres/BARRA-R2/v1/day/pr/v20231001/pr_AUS-11_ERA5_historical_hres_BOM_BARRA-R2_v1_day_202009-202009.nc /g/data/ob53/BARRA2/output/reanalysis/AUS-11/BOM/ERA5/historical/hres/BARRA-R2/v1/day/pr/v20231001/pr_AUS-11_ERA5_historical_hres_BOM_BARRA-R2_v1_day_202010-202010.nc /g/data/ob53/BARRA2/output/reanalysis/AUS-11/BOM/ERA5/historical/hres/BARRA-R2/v1/day/pr/v20231001/pr_AUS-11_ERA5_historical_hres_BOM_BARRA-R2_v1_day_202011-202011.nc /g/data/ob53/BARRA2/output/reanalysis/AUS-11/BOM/ERA5/historical/hres/BARRA-R2/v1/day/pr/v20231001/pr_AUS-11_ERA5_historical_hres_BOM_BARRA-R2_v1_day_202012-202012.nc /g/data/ob53/BARRA2/output/reanalysis/AUS-11/BOM/ERA5/historical/hres/BARRA-R2/v1/day/pr/v20231001/pr_AUS-11_ERA5_historical_hres_BOM_BARRA-R2_v1_day_202101-202101.nc /g/data/ob53/BARRA2/output/reanalysis/AUS-11/BOM/ERA5/historical/hres/BARRA-R2/v1/day/pr/v20231001/pr_AUS-11_ERA5_historical_hres_BOM_BARRA-R2_v1_day_202102-202102.nc /g/data/ob53/BARRA2/output/reanalysis/AUS-11/BOM/ERA5/historical/hres/BARRA-R2/v1/day/pr/v20231001/pr_AUS-11_ERA5_historical_hres_BOM_BARRA-R2_v1_day_202103-202103.nc /g/data/ob53/BARRA2/output/reanalysis/AUS-11/BOM/ERA5/historical/hres/BARRA-R2/v1/day/pr/v20231001/pr_AUS-11_ERA5_historical_hres_BOM_BARRA-R2_v1_day_202104-202104.nc /g/data/ob53/BARRA2/output/reanalysis/AUS-11/BOM/ERA5/historical/hres/BARRA-R2/v1/day/pr/v20231001/pr_AUS-11_ERA5_historical_hres_BOM_BARRA-R2_v1_day_202105-202105.nc /g/data/ob53/BARRA2/output/reanalysis/AUS-11/BOM/ERA5/historical/hres/BARRA-R2/v1/day/pr/v20231001/pr_AUS-11_ERA5_historical_hres_BOM_BARRA-R2_v1_day_202106-202106.nc /g/data/ob53/BARRA2/output/reanalysis/AUS-11/BOM/ERA5/historical/hres/BARRA-R2/v1/day/pr/v20231001/pr_AUS-11_ERA5_historical_hres_BOM_BARRA-R2_v1_day_202107-202107.nc /g/data/ob53/BARRA2/output/reanalysis/AUS-11/BOM/ERA5/historical/hres/BARRA-R2/v1/day/pr/v20231001/pr_AUS-11_ERA5_historical_hres_BOM_BARRA-R2_v1_day_202108-202108.nc /g/data/ob53/BARRA2/output/reanalysis/AUS-11/BOM/ERA5/historical/hres/BARRA-R2/v1/day/pr/v20231001/pr_AUS-11_ERA5_historical_hres_BOM_BARRA-R2_v1_day_202109-202109.nc /g/data/ob53/BARRA2/output/reanalysis/AUS-11/BOM/ERA5/historical/hres/BARRA-R2/v1/day/pr/v20231001/pr_AUS-11_ERA5_historical_hres_BOM_BARRA-R2_v1_day_202110-202110.nc /g/data/ob53/BARRA2/output/reanalysis/AUS-11/BOM/ERA5/historical/hres/BARRA-R2/v1/day/pr/v20231001/pr_AUS-11_ERA5_historical_hres_BOM_BARRA-R2_v1_day_202111-202111.nc /g/data/ob53/BARRA2/output/reanalysis/AUS-11/BOM/ERA5/historical/hres/BARRA-R2/v1/day/pr/v20231001/pr_AUS-11_ERA5_historical_hres_BOM_BARRA-R2_v1_day_202112-202112.nc /g/data/ob53/BARRA2/output/reanalysis/AUS-11/BOM/ERA5/historical/hres/BARRA-R2/v1/day/pr/v20231001/pr_AUS-11_ERA5_historical_hres_BOM_BARRA-R2_v1_day_202201-202201.nc /g/data/ob53/BARRA2/output/reanalysis/AUS-11/BOM/ERA5/historical/hres/BARRA-R2/v1/day/pr/v20231001/pr_AUS-11_ERA5_historical_hres_BOM_BARRA-R2_v1_day_202202-202202.nc /g/data/ob53/BARRA2/output/reanalysis/AUS-11/BOM/ERA5/historical/hres/BARRA-R2/v1/day/pr/v20231001/pr_AUS-11_ERA5_historical_hres_BOM_BARRA-R2_v1_day_202203-202203.nc /g/data/ob53/BARRA2/output/reanalysis/AUS-11/BOM/ERA5/historical/hres/BARRA-R2/v1/day/pr/v20231001/pr_AUS-11_ERA5_historical_hres_BOM_BARRA-R2_v1_day_202204-202204.nc /g/data/ob53/BARRA2/output/reanalysis/AUS-11/BOM/ERA5/historical/hres/BARRA-R2/v1/day/pr/v20231001/pr_AUS-11_ERA5_historical_hres_BOM_BARRA-R2_v1_day_202205-202205.nc /g/data/ob53/BARRA2/output/reanalysis/AUS-11/BOM/ERA5/historical/hres/BARRA-R2/v1/day/pr/v20231001/pr_AUS-11_ERA5_historical_hres_BOM_BARRA-R2_v1_day_202206-202206.nc /g/data/ob53/BARRA2/output/reanalysis/AUS-11/BOM/ERA5/historical/hres/BARRA-R2/v1/day/pr/v20231001/pr_AUS-11_ERA5_historical_hres_BOM_BARRA-R2_v1_day_202207-202207.nc /g/data/ob53/BARRA2/output/reanalysis/AUS-11/BOM/ERA5/historical/hres/BARRA-R2/v1/day/pr/v20231001/pr_AUS-11_ERA5_historical_hres_BOM_BARRA-R2_v1_day_202208-202208.nc /g/data/ob53/BARRA2/output/reanalysis/AUS-11/BOM/ERA5/historical/hres/BARRA-R2/v1/day/pr/v20231001/pr_AUS-11_ERA5_historical_hres_BOM_BARRA-R2_v1_day_202209-202209.nc /g/data/ob53/BARRA2/output/reanalysis/AUS-11/BOM/ERA5/historical/hres/BARRA-R2/v1/day/pr/v20231001/pr_AUS-11_ERA5_historical_hres_BOM_BARRA-R2_v1_day_202210-202210.nc /g/data/ob53/BARRA2/output/reanalysis/AUS-11/BOM/ERA5/historical/hres/BARRA-R2/v1/day/pr/v20231001/pr_AUS-11_ERA5_historical_hres_BOM_BARRA-R2_v1_day_202211-202211.nc /g/data/ob53/BARRA2/output/reanalysis/AUS-11/BOM/ERA5/historical/hres/BARRA-R2/v1/day/pr/v20231001/pr_AUS-11_ERA5_historical_hres_BOM_BARRA-R2_v1_day_202212-202212.nc /g/data/ob53/BARRA2/output/reanalysis/AUS-11/BOM/ERA5/historical/hres/BARRA-R2/v1/day/pr/v20231001/pr_AUS-11_ERA5_historical_hres_BOM_BARRA-R2_v1_day_202301-202301.nc /g/data/ob53/BARRA2/output/reanalysis/AUS-11/BOM/ERA5/historical/hres/BARRA-R2/v1/day/pr/v20231001/pr_AUS-11_ERA5_historical_hres_BOM_BARRA-R2_v1_day_202302-202302.nc /g/data/ob53/BARRA2/output/reanalysis/AUS-11/BOM/ERA5/historical/hres/BARRA-R2/v1/day/pr/v20231001/pr_AUS-11_ERA5_historical_hres_BOM_BARRA-R2_v1_day_202303-202303.nc /g/data/ob53/BARRA2/output/reanalysis/AUS-11/BOM/ERA5/historical/hres/BARRA-R2/v1/day/pr/v20231001/pr_AUS-11_ERA5_historical_hres_BOM_BARRA-R2_v1_day_202304-202304.nc /g/data/ob53/BARRA2/output/reanalysis/AUS-11/BOM/ERA5/historical/hres/BARRA-R2/v1/day/pr/v20231001/pr_AUS-11_ERA5_historical_hres_BOM_BARRA-R2_v1_day_202305-202305.nc /g/data/ob53/BARRA2/output/reanalysis/AUS-11/BOM/ERA5/historical/hres/BARRA-R2/v1/day/pr/v20231001/pr_AUS-11_ERA5_historical_hres_BOM_BARRA-R2_v1_day_202306-202306.nc /g/data/ob53/BARRA2/output/reanalysis/AUS-11/BOM/ERA5/historical/hres/BARRA-R2/v1/day/pr/v20231001/pr_AUS-11_ERA5_historical_hres_BOM_BARRA-R2_v1_day_202307-202307.nc /g/data/ob53/BARRA2/output/reanalysis/AUS-11/BOM/ERA5/historical/hres/BARRA-R2/v1/day/pr/v20231001/pr_AUS-11_ERA5_historical_hres_BOM_BARRA-R2_v1_day_202308-202308.nc pr /g/data/ia39/australian-climate-service/test-data/QDC-CMIP6/BARRA-R2/CMCC-ESM2/ssp370/r1i1p1f1/day/pr/2035-2064/pr-qdc-multiplicative-q1000-adjustment-factors_CMCC-ESM2_ssp370_r1i1p1f1_gn_20350101-20641231_wrt_19850101-20141231.nc /g/data/ia39/australian-climate-service/test-data/QDC-CMIP6/BARRA-R2/CMCC-ESM2/ssp370/r1i1p1f1/day/pr/2035-2064/pr_day_CMCC-ESM2_ssp370_r1i1p1f1_AUS-11_20350101-20641231_qdc-multiplicative-q1000-linear_BARRA-R2-baseline-19850101-20141231_model-baseline-19850101-20141231.nc --adjustment_tbounds 1985-01-01 2014-12-31 --input_units kg m-2 s-1 --output_units mm day-1 --spatial_grid input --interp linear --verbose --ssr --outfile_attrs /g/data/ia39/australian-climate-service/test-data/QDC-CMIP6/BARRA-R2/CMCC-ESM2/ssp370/r1i1p1f1/day/pr/2035-2064/pr_day_CMCC-ESM2_ssp370_r1i1p1f1_AUS-11_20350101-20641231_qdc-multiplicative-q1000-linear_BARRA-R2-baseline-19850101-20141231_model-baseline-19850101-20141231.yaml --output_time_units days_since_1850-01-01 --ref_time'"
   ]
  },
  {
   "cell_type": "code",
   "execution_count": 89,
   "id": "1e99399d",
   "metadata": {},
   "outputs": [],
   "source": [
    "test = test.split(' ')"
   ]
  },
  {
   "cell_type": "code",
   "execution_count": 90,
   "id": "24b86b3d",
   "metadata": {},
   "outputs": [],
   "source": [
    "test = [i for i in test if i != '']"
   ]
  },
  {
   "cell_type": "code",
   "execution_count": 91,
   "id": "ea4480d9",
   "metadata": {},
   "outputs": [
    {
     "data": {
      "text/plain": [
       "['/g/data/xv83/dbi599/miniconda3/envs/qqscale/bin/python',\n",
       " '/home/599/dbi599/qqscale/adjust.py',\n",
       " '/g/data/ob53/BARRA2/output/reanalysis/AUS-11/BOM/ERA5/historical/hres/BARRA-R2/v1/day/pr/v20231001/pr_AUS-11_ERA5_historical_hres_BOM_BARRA-R2_v1_day_201401-201401.nc',\n",
       " '/g/data/ob53/BARRA2/output/reanalysis/AUS-11/BOM/ERA5/historical/hres/BARRA-R2/v1/day/pr/v20231001/pr_AUS-11_ERA5_historical_hres_BOM_BARRA-R2_v1_day_201402-201402.nc',\n",
       " '/g/data/ob53/BARRA2/output/reanalysis/AUS-11/BOM/ERA5/historical/hres/BARRA-R2/v1/day/pr/v20231001/pr_AUS-11_ERA5_historical_hres_BOM_BARRA-R2_v1_day_201403-201403.nc',\n",
       " '/g/data/ob53/BARRA2/output/reanalysis/AUS-11/BOM/ERA5/historical/hres/BARRA-R2/v1/day/pr/v20231001/pr_AUS-11_ERA5_historical_hres_BOM_BARRA-R2_v1_day_201404-201404.nc',\n",
       " '/g/data/ob53/BARRA2/output/reanalysis/AUS-11/BOM/ERA5/historical/hres/BARRA-R2/v1/day/pr/v20231001/pr_AUS-11_ERA5_historical_hres_BOM_BARRA-R2_v1_day_201405-201405.nc',\n",
       " '/g/data/ob53/BARRA2/output/reanalysis/AUS-11/BOM/ERA5/historical/hres/BARRA-R2/v1/day/pr/v20231001/pr_AUS-11_ERA5_historical_hres_BOM_BARRA-R2_v1_day_201406-201406.nc',\n",
       " '/g/data/ob53/BARRA2/output/reanalysis/AUS-11/BOM/ERA5/historical/hres/BARRA-R2/v1/day/pr/v20231001/pr_AUS-11_ERA5_historical_hres_BOM_BARRA-R2_v1_day_201407-201407.nc',\n",
       " '/g/data/ob53/BARRA2/output/reanalysis/AUS-11/BOM/ERA5/historical/hres/BARRA-R2/v1/day/pr/v20231001/pr_AUS-11_ERA5_historical_hres_BOM_BARRA-R2_v1_day_201408-201408.nc',\n",
       " '/g/data/ob53/BARRA2/output/reanalysis/AUS-11/BOM/ERA5/historical/hres/BARRA-R2/v1/day/pr/v20231001/pr_AUS-11_ERA5_historical_hres_BOM_BARRA-R2_v1_day_201409-201409.nc',\n",
       " '/g/data/ob53/BARRA2/output/reanalysis/AUS-11/BOM/ERA5/historical/hres/BARRA-R2/v1/day/pr/v20231001/pr_AUS-11_ERA5_historical_hres_BOM_BARRA-R2_v1_day_201410-201410.nc',\n",
       " '/g/data/ob53/BARRA2/output/reanalysis/AUS-11/BOM/ERA5/historical/hres/BARRA-R2/v1/day/pr/v20231001/pr_AUS-11_ERA5_historical_hres_BOM_BARRA-R2_v1_day_201411-201411.nc',\n",
       " '/g/data/ob53/BARRA2/output/reanalysis/AUS-11/BOM/ERA5/historical/hres/BARRA-R2/v1/day/pr/v20231001/pr_AUS-11_ERA5_historical_hres_BOM_BARRA-R2_v1_day_201412-201412.nc',\n",
       " '/g/data/ob53/BARRA2/output/reanalysis/AUS-11/BOM/ERA5/historical/hres/BARRA-R2/v1/day/pr/v20231001/pr_AUS-11_ERA5_historical_hres_BOM_BARRA-R2_v1_day_201501-201501.nc',\n",
       " '/g/data/ob53/BARRA2/output/reanalysis/AUS-11/BOM/ERA5/historical/hres/BARRA-R2/v1/day/pr/v20231001/pr_AUS-11_ERA5_historical_hres_BOM_BARRA-R2_v1_day_201502-201502.nc',\n",
       " '/g/data/ob53/BARRA2/output/reanalysis/AUS-11/BOM/ERA5/historical/hres/BARRA-R2/v1/day/pr/v20231001/pr_AUS-11_ERA5_historical_hres_BOM_BARRA-R2_v1_day_201503-201503.nc',\n",
       " '/g/data/ob53/BARRA2/output/reanalysis/AUS-11/BOM/ERA5/historical/hres/BARRA-R2/v1/day/pr/v20231001/pr_AUS-11_ERA5_historical_hres_BOM_BARRA-R2_v1_day_201504-201504.nc',\n",
       " '/g/data/ob53/BARRA2/output/reanalysis/AUS-11/BOM/ERA5/historical/hres/BARRA-R2/v1/day/pr/v20231001/pr_AUS-11_ERA5_historical_hres_BOM_BARRA-R2_v1_day_201505-201505.nc',\n",
       " '/g/data/ob53/BARRA2/output/reanalysis/AUS-11/BOM/ERA5/historical/hres/BARRA-R2/v1/day/pr/v20231001/pr_AUS-11_ERA5_historical_hres_BOM_BARRA-R2_v1_day_201506-201506.nc',\n",
       " '/g/data/ob53/BARRA2/output/reanalysis/AUS-11/BOM/ERA5/historical/hres/BARRA-R2/v1/day/pr/v20231001/pr_AUS-11_ERA5_historical_hres_BOM_BARRA-R2_v1_day_201507-201507.nc',\n",
       " '/g/data/ob53/BARRA2/output/reanalysis/AUS-11/BOM/ERA5/historical/hres/BARRA-R2/v1/day/pr/v20231001/pr_AUS-11_ERA5_historical_hres_BOM_BARRA-R2_v1_day_201508-201508.nc',\n",
       " '/g/data/ob53/BARRA2/output/reanalysis/AUS-11/BOM/ERA5/historical/hres/BARRA-R2/v1/day/pr/v20231001/pr_AUS-11_ERA5_historical_hres_BOM_BARRA-R2_v1_day_201509-201509.nc',\n",
       " '/g/data/ob53/BARRA2/output/reanalysis/AUS-11/BOM/ERA5/historical/hres/BARRA-R2/v1/day/pr/v20231001/pr_AUS-11_ERA5_historical_hres_BOM_BARRA-R2_v1_day_201510-201510.nc',\n",
       " '/g/data/ob53/BARRA2/output/reanalysis/AUS-11/BOM/ERA5/historical/hres/BARRA-R2/v1/day/pr/v20231001/pr_AUS-11_ERA5_historical_hres_BOM_BARRA-R2_v1_day_201511-201511.nc',\n",
       " '/g/data/ob53/BARRA2/output/reanalysis/AUS-11/BOM/ERA5/historical/hres/BARRA-R2/v1/day/pr/v20231001/pr_AUS-11_ERA5_historical_hres_BOM_BARRA-R2_v1_day_201512-201512.nc',\n",
       " '/g/data/ob53/BARRA2/output/reanalysis/AUS-11/BOM/ERA5/historical/hres/BARRA-R2/v1/day/pr/v20231001/pr_AUS-11_ERA5_historical_hres_BOM_BARRA-R2_v1_day_201601-201601.nc',\n",
       " '/g/data/ob53/BARRA2/output/reanalysis/AUS-11/BOM/ERA5/historical/hres/BARRA-R2/v1/day/pr/v20231001/pr_AUS-11_ERA5_historical_hres_BOM_BARRA-R2_v1_day_201602-201602.nc',\n",
       " '/g/data/ob53/BARRA2/output/reanalysis/AUS-11/BOM/ERA5/historical/hres/BARRA-R2/v1/day/pr/v20231001/pr_AUS-11_ERA5_historical_hres_BOM_BARRA-R2_v1_day_201603-201603.nc',\n",
       " '/g/data/ob53/BARRA2/output/reanalysis/AUS-11/BOM/ERA5/historical/hres/BARRA-R2/v1/day/pr/v20231001/pr_AUS-11_ERA5_historical_hres_BOM_BARRA-R2_v1_day_201604-201604.nc',\n",
       " '/g/data/ob53/BARRA2/output/reanalysis/AUS-11/BOM/ERA5/historical/hres/BARRA-R2/v1/day/pr/v20231001/pr_AUS-11_ERA5_historical_hres_BOM_BARRA-R2_v1_day_201605-201605.nc',\n",
       " '/g/data/ob53/BARRA2/output/reanalysis/AUS-11/BOM/ERA5/historical/hres/BARRA-R2/v1/day/pr/v20231001/pr_AUS-11_ERA5_historical_hres_BOM_BARRA-R2_v1_day_201606-201606.nc',\n",
       " '/g/data/ob53/BARRA2/output/reanalysis/AUS-11/BOM/ERA5/historical/hres/BARRA-R2/v1/day/pr/v20231001/pr_AUS-11_ERA5_historical_hres_BOM_BARRA-R2_v1_day_201607-201607.nc',\n",
       " '/g/data/ob53/BARRA2/output/reanalysis/AUS-11/BOM/ERA5/historical/hres/BARRA-R2/v1/day/pr/v20231001/pr_AUS-11_ERA5_historical_hres_BOM_BARRA-R2_v1_day_201608-201608.nc',\n",
       " '/g/data/ob53/BARRA2/output/reanalysis/AUS-11/BOM/ERA5/historical/hres/BARRA-R2/v1/day/pr/v20231001/pr_AUS-11_ERA5_historical_hres_BOM_BARRA-R2_v1_day_201609-201609.nc',\n",
       " '/g/data/ob53/BARRA2/output/reanalysis/AUS-11/BOM/ERA5/historical/hres/BARRA-R2/v1/day/pr/v20231001/pr_AUS-11_ERA5_historical_hres_BOM_BARRA-R2_v1_day_201610-201610.nc',\n",
       " '/g/data/ob53/BARRA2/output/reanalysis/AUS-11/BOM/ERA5/historical/hres/BARRA-R2/v1/day/pr/v20231001/pr_AUS-11_ERA5_historical_hres_BOM_BARRA-R2_v1_day_201611-201611.nc',\n",
       " '/g/data/ob53/BARRA2/output/reanalysis/AUS-11/BOM/ERA5/historical/hres/BARRA-R2/v1/day/pr/v20231001/pr_AUS-11_ERA5_historical_hres_BOM_BARRA-R2_v1_day_201612-201612.nc',\n",
       " '/g/data/ob53/BARRA2/output/reanalysis/AUS-11/BOM/ERA5/historical/hres/BARRA-R2/v1/day/pr/v20231001/pr_AUS-11_ERA5_historical_hres_BOM_BARRA-R2_v1_day_201701-201701.nc',\n",
       " '/g/data/ob53/BARRA2/output/reanalysis/AUS-11/BOM/ERA5/historical/hres/BARRA-R2/v1/day/pr/v20231001/pr_AUS-11_ERA5_historical_hres_BOM_BARRA-R2_v1_day_201702-201702.nc',\n",
       " '/g/data/ob53/BARRA2/output/reanalysis/AUS-11/BOM/ERA5/historical/hres/BARRA-R2/v1/day/pr/v20231001/pr_AUS-11_ERA5_historical_hres_BOM_BARRA-R2_v1_day_201703-201703.nc',\n",
       " '/g/data/ob53/BARRA2/output/reanalysis/AUS-11/BOM/ERA5/historical/hres/BARRA-R2/v1/day/pr/v20231001/pr_AUS-11_ERA5_historical_hres_BOM_BARRA-R2_v1_day_201704-201704.nc',\n",
       " '/g/data/ob53/BARRA2/output/reanalysis/AUS-11/BOM/ERA5/historical/hres/BARRA-R2/v1/day/pr/v20231001/pr_AUS-11_ERA5_historical_hres_BOM_BARRA-R2_v1_day_201705-201705.nc',\n",
       " '/g/data/ob53/BARRA2/output/reanalysis/AUS-11/BOM/ERA5/historical/hres/BARRA-R2/v1/day/pr/v20231001/pr_AUS-11_ERA5_historical_hres_BOM_BARRA-R2_v1_day_201706-201706.nc',\n",
       " '/g/data/ob53/BARRA2/output/reanalysis/AUS-11/BOM/ERA5/historical/hres/BARRA-R2/v1/day/pr/v20231001/pr_AUS-11_ERA5_historical_hres_BOM_BARRA-R2_v1_day_201707-201707.nc',\n",
       " '/g/data/ob53/BARRA2/output/reanalysis/AUS-11/BOM/ERA5/historical/hres/BARRA-R2/v1/day/pr/v20231001/pr_AUS-11_ERA5_historical_hres_BOM_BARRA-R2_v1_day_201708-201708.nc',\n",
       " '/g/data/ob53/BARRA2/output/reanalysis/AUS-11/BOM/ERA5/historical/hres/BARRA-R2/v1/day/pr/v20231001/pr_AUS-11_ERA5_historical_hres_BOM_BARRA-R2_v1_day_201709-201709.nc',\n",
       " '/g/data/ob53/BARRA2/output/reanalysis/AUS-11/BOM/ERA5/historical/hres/BARRA-R2/v1/day/pr/v20231001/pr_AUS-11_ERA5_historical_hres_BOM_BARRA-R2_v1_day_201710-201710.nc',\n",
       " '/g/data/ob53/BARRA2/output/reanalysis/AUS-11/BOM/ERA5/historical/hres/BARRA-R2/v1/day/pr/v20231001/pr_AUS-11_ERA5_historical_hres_BOM_BARRA-R2_v1_day_201711-201711.nc',\n",
       " '/g/data/ob53/BARRA2/output/reanalysis/AUS-11/BOM/ERA5/historical/hres/BARRA-R2/v1/day/pr/v20231001/pr_AUS-11_ERA5_historical_hres_BOM_BARRA-R2_v1_day_201712-201712.nc',\n",
       " '/g/data/ob53/BARRA2/output/reanalysis/AUS-11/BOM/ERA5/historical/hres/BARRA-R2/v1/day/pr/v20231001/pr_AUS-11_ERA5_historical_hres_BOM_BARRA-R2_v1_day_201801-201801.nc',\n",
       " '/g/data/ob53/BARRA2/output/reanalysis/AUS-11/BOM/ERA5/historical/hres/BARRA-R2/v1/day/pr/v20231001/pr_AUS-11_ERA5_historical_hres_BOM_BARRA-R2_v1_day_201802-201802.nc',\n",
       " '/g/data/ob53/BARRA2/output/reanalysis/AUS-11/BOM/ERA5/historical/hres/BARRA-R2/v1/day/pr/v20231001/pr_AUS-11_ERA5_historical_hres_BOM_BARRA-R2_v1_day_201803-201803.nc',\n",
       " '/g/data/ob53/BARRA2/output/reanalysis/AUS-11/BOM/ERA5/historical/hres/BARRA-R2/v1/day/pr/v20231001/pr_AUS-11_ERA5_historical_hres_BOM_BARRA-R2_v1_day_201804-201804.nc',\n",
       " '/g/data/ob53/BARRA2/output/reanalysis/AUS-11/BOM/ERA5/historical/hres/BARRA-R2/v1/day/pr/v20231001/pr_AUS-11_ERA5_historical_hres_BOM_BARRA-R2_v1_day_201805-201805.nc',\n",
       " '/g/data/ob53/BARRA2/output/reanalysis/AUS-11/BOM/ERA5/historical/hres/BARRA-R2/v1/day/pr/v20231001/pr_AUS-11_ERA5_historical_hres_BOM_BARRA-R2_v1_day_201806-201806.nc',\n",
       " '/g/data/ob53/BARRA2/output/reanalysis/AUS-11/BOM/ERA5/historical/hres/BARRA-R2/v1/day/pr/v20231001/pr_AUS-11_ERA5_historical_hres_BOM_BARRA-R2_v1_day_201807-201807.nc',\n",
       " '/g/data/ob53/BARRA2/output/reanalysis/AUS-11/BOM/ERA5/historical/hres/BARRA-R2/v1/day/pr/v20231001/pr_AUS-11_ERA5_historical_hres_BOM_BARRA-R2_v1_day_201808-201808.nc',\n",
       " '/g/data/ob53/BARRA2/output/reanalysis/AUS-11/BOM/ERA5/historical/hres/BARRA-R2/v1/day/pr/v20231001/pr_AUS-11_ERA5_historical_hres_BOM_BARRA-R2_v1_day_201809-201809.nc',\n",
       " '/g/data/ob53/BARRA2/output/reanalysis/AUS-11/BOM/ERA5/historical/hres/BARRA-R2/v1/day/pr/v20231001/pr_AUS-11_ERA5_historical_hres_BOM_BARRA-R2_v1_day_201810-201810.nc',\n",
       " '/g/data/ob53/BARRA2/output/reanalysis/AUS-11/BOM/ERA5/historical/hres/BARRA-R2/v1/day/pr/v20231001/pr_AUS-11_ERA5_historical_hres_BOM_BARRA-R2_v1_day_201811-201811.nc',\n",
       " '/g/data/ob53/BARRA2/output/reanalysis/AUS-11/BOM/ERA5/historical/hres/BARRA-R2/v1/day/pr/v20231001/pr_AUS-11_ERA5_historical_hres_BOM_BARRA-R2_v1_day_201812-201812.nc',\n",
       " '/g/data/ob53/BARRA2/output/reanalysis/AUS-11/BOM/ERA5/historical/hres/BARRA-R2/v1/day/pr/v20231001/pr_AUS-11_ERA5_historical_hres_BOM_BARRA-R2_v1_day_201901-201901.nc',\n",
       " '/g/data/ob53/BARRA2/output/reanalysis/AUS-11/BOM/ERA5/historical/hres/BARRA-R2/v1/day/pr/v20231001/pr_AUS-11_ERA5_historical_hres_BOM_BARRA-R2_v1_day_201902-201902.nc',\n",
       " '/g/data/ob53/BARRA2/output/reanalysis/AUS-11/BOM/ERA5/historical/hres/BARRA-R2/v1/day/pr/v20231001/pr_AUS-11_ERA5_historical_hres_BOM_BARRA-R2_v1_day_201903-201903.nc',\n",
       " '/g/data/ob53/BARRA2/output/reanalysis/AUS-11/BOM/ERA5/historical/hres/BARRA-R2/v1/day/pr/v20231001/pr_AUS-11_ERA5_historical_hres_BOM_BARRA-R2_v1_day_201904-201904.nc',\n",
       " '/g/data/ob53/BARRA2/output/reanalysis/AUS-11/BOM/ERA5/historical/hres/BARRA-R2/v1/day/pr/v20231001/pr_AUS-11_ERA5_historical_hres_BOM_BARRA-R2_v1_day_201905-201905.nc',\n",
       " '/g/data/ob53/BARRA2/output/reanalysis/AUS-11/BOM/ERA5/historical/hres/BARRA-R2/v1/day/pr/v20231001/pr_AUS-11_ERA5_historical_hres_BOM_BARRA-R2_v1_day_201906-201906.nc',\n",
       " '/g/data/ob53/BARRA2/output/reanalysis/AUS-11/BOM/ERA5/historical/hres/BARRA-R2/v1/day/pr/v20231001/pr_AUS-11_ERA5_historical_hres_BOM_BARRA-R2_v1_day_201907-201907.nc',\n",
       " '/g/data/ob53/BARRA2/output/reanalysis/AUS-11/BOM/ERA5/historical/hres/BARRA-R2/v1/day/pr/v20231001/pr_AUS-11_ERA5_historical_hres_BOM_BARRA-R2_v1_day_201908-201908.nc',\n",
       " '/g/data/ob53/BARRA2/output/reanalysis/AUS-11/BOM/ERA5/historical/hres/BARRA-R2/v1/day/pr/v20231001/pr_AUS-11_ERA5_historical_hres_BOM_BARRA-R2_v1_day_201909-201909.nc',\n",
       " '/g/data/ob53/BARRA2/output/reanalysis/AUS-11/BOM/ERA5/historical/hres/BARRA-R2/v1/day/pr/v20231001/pr_AUS-11_ERA5_historical_hres_BOM_BARRA-R2_v1_day_201910-201910.nc',\n",
       " '/g/data/ob53/BARRA2/output/reanalysis/AUS-11/BOM/ERA5/historical/hres/BARRA-R2/v1/day/pr/v20231001/pr_AUS-11_ERA5_historical_hres_BOM_BARRA-R2_v1_day_201911-201911.nc',\n",
       " '/g/data/ob53/BARRA2/output/reanalysis/AUS-11/BOM/ERA5/historical/hres/BARRA-R2/v1/day/pr/v20231001/pr_AUS-11_ERA5_historical_hres_BOM_BARRA-R2_v1_day_201912-201912.nc',\n",
       " '/g/data/ob53/BARRA2/output/reanalysis/AUS-11/BOM/ERA5/historical/hres/BARRA-R2/v1/day/pr/v20231001/pr_AUS-11_ERA5_historical_hres_BOM_BARRA-R2_v1_day_202001-202001.nc',\n",
       " '/g/data/ob53/BARRA2/output/reanalysis/AUS-11/BOM/ERA5/historical/hres/BARRA-R2/v1/day/pr/v20231001/pr_AUS-11_ERA5_historical_hres_BOM_BARRA-R2_v1_day_202002-202002.nc',\n",
       " '/g/data/ob53/BARRA2/output/reanalysis/AUS-11/BOM/ERA5/historical/hres/BARRA-R2/v1/day/pr/v20231001/pr_AUS-11_ERA5_historical_hres_BOM_BARRA-R2_v1_day_202003-202003.nc',\n",
       " '/g/data/ob53/BARRA2/output/reanalysis/AUS-11/BOM/ERA5/historical/hres/BARRA-R2/v1/day/pr/v20231001/pr_AUS-11_ERA5_historical_hres_BOM_BARRA-R2_v1_day_202004-202004.nc',\n",
       " '/g/data/ob53/BARRA2/output/reanalysis/AUS-11/BOM/ERA5/historical/hres/BARRA-R2/v1/day/pr/v20231001/pr_AUS-11_ERA5_historical_hres_BOM_BARRA-R2_v1_day_202005-202005.nc',\n",
       " '/g/data/ob53/BARRA2/output/reanalysis/AUS-11/BOM/ERA5/historical/hres/BARRA-R2/v1/day/pr/v20231001/pr_AUS-11_ERA5_historical_hres_BOM_BARRA-R2_v1_day_202006-202006.nc',\n",
       " '/g/data/ob53/BARRA2/output/reanalysis/AUS-11/BOM/ERA5/historical/hres/BARRA-R2/v1/day/pr/v20231001/pr_AUS-11_ERA5_historical_hres_BOM_BARRA-R2_v1_day_202007-202007.nc',\n",
       " '/g/data/ob53/BARRA2/output/reanalysis/AUS-11/BOM/ERA5/historical/hres/BARRA-R2/v1/day/pr/v20231001/pr_AUS-11_ERA5_historical_hres_BOM_BARRA-R2_v1_day_202008-202008.nc',\n",
       " '/g/data/ob53/BARRA2/output/reanalysis/AUS-11/BOM/ERA5/historical/hres/BARRA-R2/v1/day/pr/v20231001/pr_AUS-11_ERA5_historical_hres_BOM_BARRA-R2_v1_day_202009-202009.nc',\n",
       " '/g/data/ob53/BARRA2/output/reanalysis/AUS-11/BOM/ERA5/historical/hres/BARRA-R2/v1/day/pr/v20231001/pr_AUS-11_ERA5_historical_hres_BOM_BARRA-R2_v1_day_202010-202010.nc',\n",
       " '/g/data/ob53/BARRA2/output/reanalysis/AUS-11/BOM/ERA5/historical/hres/BARRA-R2/v1/day/pr/v20231001/pr_AUS-11_ERA5_historical_hres_BOM_BARRA-R2_v1_day_202011-202011.nc',\n",
       " '/g/data/ob53/BARRA2/output/reanalysis/AUS-11/BOM/ERA5/historical/hres/BARRA-R2/v1/day/pr/v20231001/pr_AUS-11_ERA5_historical_hres_BOM_BARRA-R2_v1_day_202012-202012.nc',\n",
       " '/g/data/ob53/BARRA2/output/reanalysis/AUS-11/BOM/ERA5/historical/hres/BARRA-R2/v1/day/pr/v20231001/pr_AUS-11_ERA5_historical_hres_BOM_BARRA-R2_v1_day_202101-202101.nc',\n",
       " '/g/data/ob53/BARRA2/output/reanalysis/AUS-11/BOM/ERA5/historical/hres/BARRA-R2/v1/day/pr/v20231001/pr_AUS-11_ERA5_historical_hres_BOM_BARRA-R2_v1_day_202102-202102.nc',\n",
       " '/g/data/ob53/BARRA2/output/reanalysis/AUS-11/BOM/ERA5/historical/hres/BARRA-R2/v1/day/pr/v20231001/pr_AUS-11_ERA5_historical_hres_BOM_BARRA-R2_v1_day_202103-202103.nc',\n",
       " '/g/data/ob53/BARRA2/output/reanalysis/AUS-11/BOM/ERA5/historical/hres/BARRA-R2/v1/day/pr/v20231001/pr_AUS-11_ERA5_historical_hres_BOM_BARRA-R2_v1_day_202104-202104.nc',\n",
       " '/g/data/ob53/BARRA2/output/reanalysis/AUS-11/BOM/ERA5/historical/hres/BARRA-R2/v1/day/pr/v20231001/pr_AUS-11_ERA5_historical_hres_BOM_BARRA-R2_v1_day_202105-202105.nc',\n",
       " '/g/data/ob53/BARRA2/output/reanalysis/AUS-11/BOM/ERA5/historical/hres/BARRA-R2/v1/day/pr/v20231001/pr_AUS-11_ERA5_historical_hres_BOM_BARRA-R2_v1_day_202106-202106.nc',\n",
       " '/g/data/ob53/BARRA2/output/reanalysis/AUS-11/BOM/ERA5/historical/hres/BARRA-R2/v1/day/pr/v20231001/pr_AUS-11_ERA5_historical_hres_BOM_BARRA-R2_v1_day_202107-202107.nc',\n",
       " '/g/data/ob53/BARRA2/output/reanalysis/AUS-11/BOM/ERA5/historical/hres/BARRA-R2/v1/day/pr/v20231001/pr_AUS-11_ERA5_historical_hres_BOM_BARRA-R2_v1_day_202108-202108.nc',\n",
       " '/g/data/ob53/BARRA2/output/reanalysis/AUS-11/BOM/ERA5/historical/hres/BARRA-R2/v1/day/pr/v20231001/pr_AUS-11_ERA5_historical_hres_BOM_BARRA-R2_v1_day_202109-202109.nc',\n",
       " '/g/data/ob53/BARRA2/output/reanalysis/AUS-11/BOM/ERA5/historical/hres/BARRA-R2/v1/day/pr/v20231001/pr_AUS-11_ERA5_historical_hres_BOM_BARRA-R2_v1_day_202110-202110.nc',\n",
       " '/g/data/ob53/BARRA2/output/reanalysis/AUS-11/BOM/ERA5/historical/hres/BARRA-R2/v1/day/pr/v20231001/pr_AUS-11_ERA5_historical_hres_BOM_BARRA-R2_v1_day_202111-202111.nc',\n",
       " '/g/data/ob53/BARRA2/output/reanalysis/AUS-11/BOM/ERA5/historical/hres/BARRA-R2/v1/day/pr/v20231001/pr_AUS-11_ERA5_historical_hres_BOM_BARRA-R2_v1_day_202112-202112.nc',\n",
       " '/g/data/ob53/BARRA2/output/reanalysis/AUS-11/BOM/ERA5/historical/hres/BARRA-R2/v1/day/pr/v20231001/pr_AUS-11_ERA5_historical_hres_BOM_BARRA-R2_v1_day_202201-202201.nc',\n",
       " '/g/data/ob53/BARRA2/output/reanalysis/AUS-11/BOM/ERA5/historical/hres/BARRA-R2/v1/day/pr/v20231001/pr_AUS-11_ERA5_historical_hres_BOM_BARRA-R2_v1_day_202202-202202.nc',\n",
       " '/g/data/ob53/BARRA2/output/reanalysis/AUS-11/BOM/ERA5/historical/hres/BARRA-R2/v1/day/pr/v20231001/pr_AUS-11_ERA5_historical_hres_BOM_BARRA-R2_v1_day_202203-202203.nc',\n",
       " '/g/data/ob53/BARRA2/output/reanalysis/AUS-11/BOM/ERA5/historical/hres/BARRA-R2/v1/day/pr/v20231001/pr_AUS-11_ERA5_historical_hres_BOM_BARRA-R2_v1_day_202204-202204.nc',\n",
       " '/g/data/ob53/BARRA2/output/reanalysis/AUS-11/BOM/ERA5/historical/hres/BARRA-R2/v1/day/pr/v20231001/pr_AUS-11_ERA5_historical_hres_BOM_BARRA-R2_v1_day_202205-202205.nc',\n",
       " '/g/data/ob53/BARRA2/output/reanalysis/AUS-11/BOM/ERA5/historical/hres/BARRA-R2/v1/day/pr/v20231001/pr_AUS-11_ERA5_historical_hres_BOM_BARRA-R2_v1_day_202206-202206.nc',\n",
       " '/g/data/ob53/BARRA2/output/reanalysis/AUS-11/BOM/ERA5/historical/hres/BARRA-R2/v1/day/pr/v20231001/pr_AUS-11_ERA5_historical_hres_BOM_BARRA-R2_v1_day_202207-202207.nc',\n",
       " '/g/data/ob53/BARRA2/output/reanalysis/AUS-11/BOM/ERA5/historical/hres/BARRA-R2/v1/day/pr/v20231001/pr_AUS-11_ERA5_historical_hres_BOM_BARRA-R2_v1_day_202208-202208.nc',\n",
       " '/g/data/ob53/BARRA2/output/reanalysis/AUS-11/BOM/ERA5/historical/hres/BARRA-R2/v1/day/pr/v20231001/pr_AUS-11_ERA5_historical_hres_BOM_BARRA-R2_v1_day_202209-202209.nc',\n",
       " '/g/data/ob53/BARRA2/output/reanalysis/AUS-11/BOM/ERA5/historical/hres/BARRA-R2/v1/day/pr/v20231001/pr_AUS-11_ERA5_historical_hres_BOM_BARRA-R2_v1_day_202210-202210.nc',\n",
       " '/g/data/ob53/BARRA2/output/reanalysis/AUS-11/BOM/ERA5/historical/hres/BARRA-R2/v1/day/pr/v20231001/pr_AUS-11_ERA5_historical_hres_BOM_BARRA-R2_v1_day_202211-202211.nc',\n",
       " '/g/data/ob53/BARRA2/output/reanalysis/AUS-11/BOM/ERA5/historical/hres/BARRA-R2/v1/day/pr/v20231001/pr_AUS-11_ERA5_historical_hres_BOM_BARRA-R2_v1_day_202212-202212.nc',\n",
       " '/g/data/ob53/BARRA2/output/reanalysis/AUS-11/BOM/ERA5/historical/hres/BARRA-R2/v1/day/pr/v20231001/pr_AUS-11_ERA5_historical_hres_BOM_BARRA-R2_v1_day_202301-202301.nc',\n",
       " '/g/data/ob53/BARRA2/output/reanalysis/AUS-11/BOM/ERA5/historical/hres/BARRA-R2/v1/day/pr/v20231001/pr_AUS-11_ERA5_historical_hres_BOM_BARRA-R2_v1_day_202302-202302.nc',\n",
       " '/g/data/ob53/BARRA2/output/reanalysis/AUS-11/BOM/ERA5/historical/hres/BARRA-R2/v1/day/pr/v20231001/pr_AUS-11_ERA5_historical_hres_BOM_BARRA-R2_v1_day_202303-202303.nc',\n",
       " '/g/data/ob53/BARRA2/output/reanalysis/AUS-11/BOM/ERA5/historical/hres/BARRA-R2/v1/day/pr/v20231001/pr_AUS-11_ERA5_historical_hres_BOM_BARRA-R2_v1_day_202304-202304.nc',\n",
       " '/g/data/ob53/BARRA2/output/reanalysis/AUS-11/BOM/ERA5/historical/hres/BARRA-R2/v1/day/pr/v20231001/pr_AUS-11_ERA5_historical_hres_BOM_BARRA-R2_v1_day_202305-202305.nc',\n",
       " '/g/data/ob53/BARRA2/output/reanalysis/AUS-11/BOM/ERA5/historical/hres/BARRA-R2/v1/day/pr/v20231001/pr_AUS-11_ERA5_historical_hres_BOM_BARRA-R2_v1_day_202306-202306.nc',\n",
       " '/g/data/ob53/BARRA2/output/reanalysis/AUS-11/BOM/ERA5/historical/hres/BARRA-R2/v1/day/pr/v20231001/pr_AUS-11_ERA5_historical_hres_BOM_BARRA-R2_v1_day_202307-202307.nc',\n",
       " '/g/data/ob53/BARRA2/output/reanalysis/AUS-11/BOM/ERA5/historical/hres/BARRA-R2/v1/day/pr/v20231001/pr_AUS-11_ERA5_historical_hres_BOM_BARRA-R2_v1_day_202308-202308.nc',\n",
       " 'pr',\n",
       " '/g/data/ia39/australian-climate-service/test-data/QDC-CMIP6/BARRA-R2/CMCC-ESM2/ssp370/r1i1p1f1/day/pr/2035-2064/pr-qdc-multiplicative-q1000-adjustment-factors_CMCC-ESM2_ssp370_r1i1p1f1_gn_20350101-20641231_wrt_19850101-20141231.nc',\n",
       " '/g/data/ia39/australian-climate-service/test-data/QDC-CMIP6/BARRA-R2/CMCC-ESM2/ssp370/r1i1p1f1/day/pr/2035-2064/pr_day_CMCC-ESM2_ssp370_r1i1p1f1_AUS-11_20350101-20641231_qdc-multiplicative-q1000-linear_BARRA-R2-baseline-19850101-20141231_model-baseline-19850101-20141231.nc',\n",
       " '--adjustment_tbounds',\n",
       " '1985-01-01',\n",
       " '2014-12-31',\n",
       " '--input_units',\n",
       " 'kg',\n",
       " 'm-2',\n",
       " 's-1',\n",
       " '--output_units',\n",
       " 'mm',\n",
       " 'day-1',\n",
       " '--spatial_grid',\n",
       " 'input',\n",
       " '--interp',\n",
       " 'linear',\n",
       " '--verbose',\n",
       " '--ssr',\n",
       " '--outfile_attrs',\n",
       " '/g/data/ia39/australian-climate-service/test-data/QDC-CMIP6/BARRA-R2/CMCC-ESM2/ssp370/r1i1p1f1/day/pr/2035-2064/pr_day_CMCC-ESM2_ssp370_r1i1p1f1_AUS-11_20350101-20641231_qdc-multiplicative-q1000-linear_BARRA-R2-baseline-19850101-20141231_model-baseline-19850101-20141231.yaml',\n",
       " '--output_time_units',\n",
       " 'days_since_1850-01-01',\n",
       " '--ref_time']"
      ]
     },
     "execution_count": 91,
     "metadata": {},
     "output_type": "execute_result"
    }
   ],
   "source": [
    "test"
   ]
  },
  {
   "cell_type": "code",
   "execution_count": 27,
   "id": "4d17b915",
   "metadata": {},
   "outputs": [],
   "source": [
    "def bolg(filepaths, minOrphanCharacters=2):\n",
    "    \"\"\"\n",
    "    Approximate inverse of `glob.glob`: take a sequence of `filepaths`\n",
    "    and compute a glob pattern that matches them all. Only the star\n",
    "    character will be used (no question marks or square brackets).\n",
    "\n",
    "    Define an \"orphan\" substring as a sequence of characters, not\n",
    "    including a file separator, that is sandwiched between two stars.   \n",
    "    Orphan substrings shorter than `minOrphanCharacters` will be\n",
    "    reduced to a star. If you don't mind having short orphan\n",
    "    substrings in your result, set `minOrphanCharacters=1` or 0.\n",
    "    Then you might get ugly results like '*0*2*.txt' (which contains\n",
    "    two orphan substrings, both of length 1).\n",
    "    \"\"\"\n",
    "    if os.path.sep == '\\\\':\n",
    "        # On Windows, convert to forward-slashes (Python can handle\n",
    "        # it, and Windows doesn't permit them in filenames anyway):\n",
    "        filepaths = [filepath.replace('\\\\', '/') for filepath in filepaths]\n",
    "    out = ''\n",
    "    for filepath in filepaths:\n",
    "        if not out: out = filepath; continue\n",
    "        # Replace differing characters with stars:\n",
    "        out = ''.join(x[-1] if x[0] == ' ' or x[-1] == '/' else '*' for x in difflib.ndiff(out, filepath))\n",
    "        # Collapse multiple consecutive stars into one:\n",
    "        out = re.sub(r'\\*+', '*', out)\n",
    "    # Deal with short orphan substrings:\n",
    "    if minOrphanCharacters > 1:\n",
    "        pattern = r'\\*+[^/]{0,%d}\\*+' % (minOrphanCharacters - 1)\n",
    "        while True:\n",
    "            reduced = re.sub(pattern, '*', out)\n",
    "            if reduced == out: break\n",
    "            out = reduced\n",
    "    # Collapse any intermediate-directory globbing into a double-star:\n",
    "    out = re.sub(r'(^|/).*\\*.*/', r'\\1**/', out)\n",
    "    return out"
   ]
  },
  {
   "cell_type": "code",
   "execution_count": 117,
   "id": "ecddbac1",
   "metadata": {},
   "outputs": [],
   "source": [
    "def introduce_wildcards(cmdline_args, limit=4):\n",
    "    \"\"\"Put in wildcards\"\"\"\n",
    "\n",
    "    output = []\n",
    "    locs = list(range(len(cmdline_args)))\n",
    "    locs_iter = iter(locs)\n",
    "    for loc in locs_iter:\n",
    "        print(loc)\n",
    "        step = limit\n",
    "        match_pair = bolg(cmdline_args[loc: loc + 2])\n",
    "        if (loc + limit < len(test)) and (not match_pair[0] in ['*', '-']):\n",
    "            match_multiple = bolg(cmdline_args[loc: loc + step])\n",
    "            if match_pair == match_multiple:\n",
    "                while match_pair == match_multiple:\n",
    "                    step = step + 1\n",
    "                    match_multiple = bolg(cmdline_args[loc: loc + step])\n",
    "#                common_prefix = os.path.commonprefix(cmdline_args[loc: loc + step])\n",
    "#                if common_prefix in match_pair:\n",
    "#                else:\n",
    "                output.append(match_pair)\n",
    "                for i in range(step-2):\n",
    "                    next(locs_iter, None)\n",
    "            else:\n",
    "                output.append(cmdline_args[loc])\n",
    "        else:\n",
    "            output.append(cmdline_args[loc])\n",
    "    \n",
    "    return output"
   ]
  },
  {
   "cell_type": "code",
   "execution_count": 107,
   "id": "d5826f5b",
   "metadata": {},
   "outputs": [
    {
     "data": {
      "text/plain": [
       "['/g/data/xv83/dbi599/miniconda3/envs/qqscale/bin/python',\n",
       " '/home/599/dbi599/qqscale/adjust.py',\n",
       " '/g/data/ob53/BARRA2/output/reanalysis/AUS-11/BOM/ERA5/historical/hres/BARRA-R2/v1/day/pr/v20231001/pr_AUS-11_ERA5_historical_hres_BOM_BARRA-R2_v1_day_20140*-20140*.nc',\n",
       " '/g/data/ob53/BARRA2/output/reanalysis/AUS-11/BOM/ERA5/historical/hres/BARRA-R2/v1/day/pr/v20231001/pr_AUS-11_ERA5_historical_hres_BOM_BARRA-R2_v1_day_201410-201410.nc',\n",
       " '/g/data/ob53/BARRA2/output/reanalysis/AUS-11/BOM/ERA5/historical/hres/BARRA-R2/v1/day/pr/v20231001/pr_AUS-11_ERA5_historical_hres_BOM_BARRA-R2_v1_day_201411-201411.nc',\n",
       " '/g/data/ob53/BARRA2/output/reanalysis/AUS-11/BOM/ERA5/historical/hres/BARRA-R2/v1/day/pr/v20231001/pr_AUS-11_ERA5_historical_hres_BOM_BARRA-R2_v1_day_201*-201*.nc',\n",
       " '/g/data/ob53/BARRA2/output/reanalysis/AUS-11/BOM/ERA5/historical/hres/BARRA-R2/v1/day/pr/v20231001/pr_AUS-11_ERA5_historical_hres_BOM_BARRA-R2_v1_day_20200*-20200*.nc',\n",
       " '/g/data/ob53/BARRA2/output/reanalysis/AUS-11/BOM/ERA5/historical/hres/BARRA-R2/v1/day/pr/v20231001/pr_AUS-11_ERA5_historical_hres_BOM_BARRA-R2_v1_day_202010-202010.nc',\n",
       " '/g/data/ob53/BARRA2/output/reanalysis/AUS-11/BOM/ERA5/historical/hres/BARRA-R2/v1/day/pr/v20231001/pr_AUS-11_ERA5_historical_hres_BOM_BARRA-R2_v1_day_202011-202011.nc',\n",
       " '/g/data/ob53/BARRA2/output/reanalysis/AUS-11/BOM/ERA5/historical/hres/BARRA-R2/v1/day/pr/v20231001/pr_AUS-11_ERA5_historical_hres_BOM_BARRA-R2_v1_day_202012-202012.nc',\n",
       " '/g/data/ob53/BARRA2/output/reanalysis/AUS-11/BOM/ERA5/historical/hres/BARRA-R2/v1/day/pr/v20231001/pr_AUS-11_ERA5_historical_hres_BOM_BARRA-R2_v1_day_20210*-20210*.nc',\n",
       " '/g/data/ob53/BARRA2/output/reanalysis/AUS-11/BOM/ERA5/historical/hres/BARRA-R2/v1/day/pr/v20231001/pr_AUS-11_ERA5_historical_hres_BOM_BARRA-R2_v1_day_202110-202110.nc',\n",
       " '/g/data/ob53/BARRA2/output/reanalysis/AUS-11/BOM/ERA5/historical/hres/BARRA-R2/v1/day/pr/v20231001/pr_AUS-11_ERA5_historical_hres_BOM_BARRA-R2_v1_day_202111-202111.nc',\n",
       " '/g/data/ob53/BARRA2/output/reanalysis/AUS-11/BOM/ERA5/historical/hres/BARRA-R2/v1/day/pr/v20231001/pr_AUS-11_ERA5_historical_hres_BOM_BARRA-R2_v1_day_202*-202*.nc',\n",
       " 'pr',\n",
       " '/g/data/ia39/australian-climate-service/test-data/QDC-CMIP6/BARRA-R2/CMCC-ESM2/ssp370/r1i1p1f1/day/pr/2035-2064/pr-qdc-multiplicative-q1000-adjustment-factors_CMCC-ESM2_ssp370_r1i1p1f1_gn_20350101-20641231_wrt_19850101-20141231.nc',\n",
       " '/g/data/ia39/australian-climate-service/test-data/QDC-CMIP6/BARRA-R2/CMCC-ESM2/ssp370/r1i1p1f1/day/pr/2035-2064/pr_day_CMCC-ESM2_ssp370_r1i1p1f1_AUS-11_20350101-20641231_qdc-multiplicative-q1000-linear_BARRA-R2-baseline-19850101-20141231_model-baseline-19850101-20141231.nc',\n",
       " '--adjustment_tbounds',\n",
       " '1985-01-01',\n",
       " '2014-12-31',\n",
       " '--input_units',\n",
       " 'kg',\n",
       " 'm-2',\n",
       " 's-1',\n",
       " '--output_units',\n",
       " 'mm',\n",
       " 'day-1',\n",
       " '--spatial_grid',\n",
       " 'input',\n",
       " '--interp',\n",
       " 'linear',\n",
       " '--verbose',\n",
       " '--ssr',\n",
       " '--outfile_attrs',\n",
       " '/g/data/ia39/australian-climate-service/test-data/QDC-CMIP6/BARRA-R2/CMCC-ESM2/ssp370/r1i1p1f1/day/pr/2035-2064/pr_day_CMCC-ESM2_ssp370_r1i1p1f1_AUS-11_20350101-20641231_qdc-multiplicative-q1000-linear_BARRA-R2-baseline-19850101-20141231_model-baseline-19850101-20141231.yaml',\n",
       " '--output_time_units',\n",
       " 'days_since_1850-01-01',\n",
       " '--ref_time']"
      ]
     },
     "execution_count": 107,
     "metadata": {},
     "output_type": "execute_result"
    }
   ],
   "source": [
    "introduce_wildcards(test)"
   ]
  },
  {
   "cell_type": "code",
   "execution_count": 108,
   "id": "7563b196",
   "metadata": {},
   "outputs": [
    {
     "data": {
      "text/plain": [
       "['/g/data/xv83/dbi599/miniconda3/envs/qqscale/bin/python',\n",
       " '/home/599/dbi599/qqscale/adjust.py',\n",
       " '/g/data/ob53/BARRA2/output/reanalysis/AUS-11/BOM/ERA5/historical/hres/BARRA-R2/v1/day/pr/v20231001/pr_AUS-11_ERA5_historical_hres_BOM_BARRA-R2_v1_day_20140*-20140*.nc',\n",
       " '/g/data/ob53/BARRA2/output/reanalysis/AUS-11/BOM/ERA5/historical/hres/BARRA-R2/v1/day/pr/v20231001/pr_AUS-11_ERA5_historical_hres_BOM_BARRA-R2_v1_day_201410-201410.nc',\n",
       " '/g/data/ob53/BARRA2/output/reanalysis/AUS-11/BOM/ERA5/historical/hres/BARRA-R2/v1/day/pr/v20231001/pr_AUS-11_ERA5_historical_hres_BOM_BARRA-R2_v1_day_201411-201411.nc',\n",
       " '/g/data/ob53/BARRA2/output/reanalysis/AUS-11/BOM/ERA5/historical/hres/BARRA-R2/v1/day/pr/v20231001/pr_AUS-11_ERA5_historical_hres_BOM_BARRA-R2_v1_day_20*-20*.nc',\n",
       " '/g/data/ob53/BARRA2/output/reanalysis/AUS-11/BOM/ERA5/historical/hres/BARRA-R2/v1/day/pr/v20231001/pr_AUS-11_ERA5_historical_hres_BOM_BARRA-R2_v1_day_20210*-20210*.nc',\n",
       " '/g/data/ob53/BARRA2/output/reanalysis/AUS-11/BOM/ERA5/historical/hres/BARRA-R2/v1/day/pr/v20231001/pr_AUS-11_ERA5_historical_hres_BOM_BARRA-R2_v1_day_202110-202110.nc',\n",
       " '/g/data/ob53/BARRA2/output/reanalysis/AUS-11/BOM/ERA5/historical/hres/BARRA-R2/v1/day/pr/v20231001/pr_AUS-11_ERA5_historical_hres_BOM_BARRA-R2_v1_day_202111-202111.nc',\n",
       " '/g/data/ob53/BARRA2/output/reanalysis/AUS-11/BOM/ERA5/historical/hres/BARRA-R2/v1/day/pr/v20231001/pr_AUS-11_ERA5_historical_hres_BOM_BARRA-R2_v1_day_202*-202*.nc',\n",
       " 'pr',\n",
       " '/g/data/ia39/australian-climate-service/test-data/QDC-CMIP6/BARRA-R2/CMCC-ESM2/ssp370/r1i1p1f1/day/pr/2035-2064/pr-qdc-multiplicative-q1000-adjustment-factors_CMCC-ESM2_ssp370_r1i1p1f1_gn_20350101-20641231_wrt_19850101-20141231.nc',\n",
       " '/g/data/ia39/australian-climate-service/test-data/QDC-CMIP6/BARRA-R2/CMCC-ESM2/ssp370/r1i1p1f1/day/pr/2035-2064/pr_day_CMCC-ESM2_ssp370_r1i1p1f1_AUS-11_20350101-20641231_qdc-multiplicative-q1000-linear_BARRA-R2-baseline-19850101-20141231_model-baseline-19850101-20141231.nc',\n",
       " '--adjustment_tbounds',\n",
       " '1985-01-01',\n",
       " '2014-12-31',\n",
       " '--input_units',\n",
       " 'kg',\n",
       " 'm-2',\n",
       " 's-1',\n",
       " '--output_units',\n",
       " 'mm',\n",
       " 'day-1',\n",
       " '--spatial_grid',\n",
       " 'input',\n",
       " '--interp',\n",
       " 'linear',\n",
       " '--verbose',\n",
       " '--ssr',\n",
       " '--outfile_attrs',\n",
       " '/g/data/ia39/australian-climate-service/test-data/QDC-CMIP6/BARRA-R2/CMCC-ESM2/ssp370/r1i1p1f1/day/pr/2035-2064/pr_day_CMCC-ESM2_ssp370_r1i1p1f1_AUS-11_20350101-20641231_qdc-multiplicative-q1000-linear_BARRA-R2-baseline-19850101-20141231_model-baseline-19850101-20141231.yaml',\n",
       " '--output_time_units',\n",
       " 'days_since_1850-01-01',\n",
       " '--ref_time']"
      ]
     },
     "execution_count": 108,
     "metadata": {},
     "output_type": "execute_result"
    }
   ],
   "source": [
    "introduce_wildcards((introduce_wildcards(test)))"
   ]
  },
  {
   "cell_type": "code",
   "execution_count": 109,
   "id": "676f851b",
   "metadata": {},
   "outputs": [
    {
     "data": {
      "text/plain": [
       "['/g/data/xv83/dbi599/miniconda3/envs/qqscale/bin/python',\n",
       " '/home/599/dbi599/qqscale/adjust.py',\n",
       " '/g/data/ob53/BARRA2/output/reanalysis/AUS-11/BOM/ERA5/historical/hres/BARRA-R2/v1/day/pr/v20231001/pr_AUS-11_ERA5_historical_hres_BOM_BARRA-R2_v1_day_20140*-20140*.nc',\n",
       " '/g/data/ob53/BARRA2/output/reanalysis/AUS-11/BOM/ERA5/historical/hres/BARRA-R2/v1/day/pr/v20231001/pr_AUS-11_ERA5_historical_hres_BOM_BARRA-R2_v1_day_201410-201410.nc',\n",
       " '/g/data/ob53/BARRA2/output/reanalysis/AUS-11/BOM/ERA5/historical/hres/BARRA-R2/v1/day/pr/v20231001/pr_AUS-11_ERA5_historical_hres_BOM_BARRA-R2_v1_day_201411-201411.nc',\n",
       " '/g/data/ob53/BARRA2/output/reanalysis/AUS-11/BOM/ERA5/historical/hres/BARRA-R2/v1/day/pr/v20231001/pr_AUS-11_ERA5_historical_hres_BOM_BARRA-R2_v1_day_20*-2*.nc',\n",
       " 'pr',\n",
       " '/g/data/ia39/australian-climate-service/test-data/QDC-CMIP6/BARRA-R2/CMCC-ESM2/ssp370/r1i1p1f1/day/pr/2035-2064/pr-qdc-multiplicative-q1000-adjustment-factors_CMCC-ESM2_ssp370_r1i1p1f1_gn_20350101-20641231_wrt_19850101-20141231.nc',\n",
       " '/g/data/ia39/australian-climate-service/test-data/QDC-CMIP6/BARRA-R2/CMCC-ESM2/ssp370/r1i1p1f1/day/pr/2035-2064/pr_day_CMCC-ESM2_ssp370_r1i1p1f1_AUS-11_20350101-20641231_qdc-multiplicative-q1000-linear_BARRA-R2-baseline-19850101-20141231_model-baseline-19850101-20141231.nc',\n",
       " '--adjustment_tbounds',\n",
       " '1985-01-01',\n",
       " '2014-12-31',\n",
       " '--input_units',\n",
       " 'kg',\n",
       " 'm-2',\n",
       " 's-1',\n",
       " '--output_units',\n",
       " 'mm',\n",
       " 'day-1',\n",
       " '--spatial_grid',\n",
       " 'input',\n",
       " '--interp',\n",
       " 'linear',\n",
       " '--verbose',\n",
       " '--ssr',\n",
       " '--outfile_attrs',\n",
       " '/g/data/ia39/australian-climate-service/test-data/QDC-CMIP6/BARRA-R2/CMCC-ESM2/ssp370/r1i1p1f1/day/pr/2035-2064/pr_day_CMCC-ESM2_ssp370_r1i1p1f1_AUS-11_20350101-20641231_qdc-multiplicative-q1000-linear_BARRA-R2-baseline-19850101-20141231_model-baseline-19850101-20141231.yaml',\n",
       " '--output_time_units',\n",
       " 'days_since_1850-01-01',\n",
       " '--ref_time']"
      ]
     },
     "execution_count": 109,
     "metadata": {},
     "output_type": "execute_result"
    }
   ],
   "source": [
    "introduce_wildcards(introduce_wildcards((introduce_wildcards(test))))"
   ]
  },
  {
   "cell_type": "code",
   "execution_count": 111,
   "id": "ed1c0ae8",
   "metadata": {},
   "outputs": [],
   "source": [
    "hello = introduce_wildcards(introduce_wildcards(introduce_wildcards((introduce_wildcards(test)))))"
   ]
  },
  {
   "cell_type": "code",
   "execution_count": 113,
   "id": "5f298380",
   "metadata": {},
   "outputs": [
    {
     "data": {
      "text/plain": [
       "['/g/data/xv83/dbi599/miniconda3/envs/qqscale/bin/python',\n",
       " '/home/599/dbi599/qqscale/adjust.py',\n",
       " '/g/data/ob53/BARRA2/output/reanalysis/AUS-11/BOM/ERA5/historical/hres/BARRA-R2/v1/day/pr/v20231001/pr_AUS-11_ERA5_historical_hres_BOM_BARRA-R2_v1_day_20140*-20140*.nc',\n",
       " '/g/data/ob53/BARRA2/output/reanalysis/AUS-11/BOM/ERA5/historical/hres/BARRA-R2/v1/day/pr/v20231001/pr_AUS-11_ERA5_historical_hres_BOM_BARRA-R2_v1_day_201410-201410.nc',\n",
       " '/g/data/ob53/BARRA2/output/reanalysis/AUS-11/BOM/ERA5/historical/hres/BARRA-R2/v1/day/pr/v20231001/pr_AUS-11_ERA5_historical_hres_BOM_BARRA-R2_v1_day_201411-201411.nc',\n",
       " '/g/data/ob53/BARRA2/output/reanalysis/AUS-11/BOM/ERA5/historical/hres/BARRA-R2/v1/day/pr/v20231001/pr_AUS-11_ERA5_historical_hres_BOM_BARRA-R2_v1_day_20*-2*.nc',\n",
       " 'pr',\n",
       " '/g/data/ia39/australian-climate-service/test-data/QDC-CMIP6/BARRA-R2/CMCC-ESM2/ssp370/r1i1p1f1/day/pr/2035-2064/pr-qdc-multiplicative-q1000-adjustment-factors_CMCC-ESM2_ssp370_r1i1p1f1_gn_20350101-20641231_wrt_19850101-20141231.nc',\n",
       " '/g/data/ia39/australian-climate-service/test-data/QDC-CMIP6/BARRA-R2/CMCC-ESM2/ssp370/r1i1p1f1/day/pr/2035-2064/pr_day_CMCC-ESM2_ssp370_r1i1p1f1_AUS-11_20350101-20641231_qdc-multiplicative-q1000-linear_BARRA-R2-baseline-19850101-20141231_model-baseline-19850101-20141231.nc',\n",
       " '--adjustment_tbounds',\n",
       " '1985-01-01',\n",
       " '2014-12-31',\n",
       " '--input_units',\n",
       " 'kg',\n",
       " 'm-2',\n",
       " 's-1',\n",
       " '--output_units',\n",
       " 'mm',\n",
       " 'day-1',\n",
       " '--spatial_grid',\n",
       " 'input',\n",
       " '--interp',\n",
       " 'linear',\n",
       " '--verbose',\n",
       " '--ssr',\n",
       " '--outfile_attrs',\n",
       " '/g/data/ia39/australian-climate-service/test-data/QDC-CMIP6/BARRA-R2/CMCC-ESM2/ssp370/r1i1p1f1/day/pr/2035-2064/pr_day_CMCC-ESM2_ssp370_r1i1p1f1_AUS-11_20350101-20641231_qdc-multiplicative-q1000-linear_BARRA-R2-baseline-19850101-20141231_model-baseline-19850101-20141231.yaml',\n",
       " '--output_time_units',\n",
       " 'days_since_1850-01-01',\n",
       " '--ref_time']"
      ]
     },
     "execution_count": 113,
     "metadata": {},
     "output_type": "execute_result"
    }
   ],
   "source": [
    "hello"
   ]
  },
  {
   "cell_type": "code",
   "execution_count": 118,
   "id": "151c37c2",
   "metadata": {
    "scrolled": true
   },
   "outputs": [
    {
     "name": "stdout",
     "output_type": "stream",
     "text": [
      "0\n",
      "1\n",
      "2\n",
      "5\n",
      "6\n",
      "7\n",
      "9\n",
      "10\n",
      "11\n",
      "12\n",
      "13\n",
      "14\n",
      "15\n",
      "16\n",
      "17\n",
      "18\n",
      "19\n",
      "20\n",
      "21\n",
      "22\n",
      "23\n",
      "24\n",
      "25\n",
      "26\n",
      "27\n",
      "28\n",
      "29\n"
     ]
    },
    {
     "data": {
      "text/plain": [
       "['/g/data/xv83/dbi599/miniconda3/envs/qqscale/bin/python',\n",
       " '/home/599/dbi599/qqscale/adjust.py',\n",
       " '/g/data/ob53/BARRA2/output/reanalysis/AUS-11/BOM/ERA5/historical/hres/BARRA-R2/v1/day/pr/v20231001/pr_AUS-11_ERA5_historical_hres_BOM_BARRA-R2_v1_day_2014*-2014*.nc',\n",
       " '/g/data/ob53/BARRA2/output/reanalysis/AUS-11/BOM/ERA5/historical/hres/BARRA-R2/v1/day/pr/v20231001/pr_AUS-11_ERA5_historical_hres_BOM_BARRA-R2_v1_day_20*-2*.nc',\n",
       " 'pr',\n",
       " '/g/data/ia39/australian-climate-service/test-data/QDC-CMIP6/BARRA-R2/CMCC-ESM2/ssp370/r1i1p1f1/day/pr/2035-2064/pr*qdc-multiplicative-q1000-*19850101-20141231*.nc',\n",
       " '--adjustment_tbounds',\n",
       " '1985-01-01',\n",
       " '2014-12-31',\n",
       " '--input_units',\n",
       " 'kg',\n",
       " 'm-2',\n",
       " 's-1',\n",
       " '--output_units',\n",
       " 'mm',\n",
       " 'day-1',\n",
       " '--spatial_grid',\n",
       " 'input',\n",
       " '--interp',\n",
       " 'linear',\n",
       " '--verbose',\n",
       " '--ssr',\n",
       " '--outfile_attrs',\n",
       " '/g/data/ia39/australian-climate-service/test-data/QDC-CMIP6/BARRA-R2/CMCC-ESM2/ssp370/r1i1p1f1/day/pr/2035-2064/pr_day_CMCC-ESM2_ssp370_r1i1p1f1_AUS-11_20350101-20641231_qdc-multiplicative-q1000-linear_BARRA-R2-baseline-19850101-20141231_model-baseline-19850101-20141231.yaml',\n",
       " '--output_time_units',\n",
       " 'days_since_1850-01-01',\n",
       " '--ref_time']"
      ]
     },
     "execution_count": 118,
     "metadata": {},
     "output_type": "execute_result"
    }
   ],
   "source": [
    "introduce_wildcards(hello, limit=2)"
   ]
  },
  {
   "cell_type": "code",
   "execution_count": 116,
   "id": "6c20f23d",
   "metadata": {},
   "outputs": [
    {
     "data": {
      "text/plain": [
       "'/g/data/ob53/BARRA2/output/reanalysis/AUS-11/BOM/ERA5/historical/hres/BARRA-R2/v1/day/pr/v20231001/pr_AUS-11_ERA5_historical_hres_BOM_BARRA-R2_v1_day_20*-2*.nc'"
      ]
     },
     "execution_count": 116,
     "metadata": {},
     "output_type": "execute_result"
    }
   ],
   "source": [
    "boo = [\n",
    "    '/g/data/ob53/BARRA2/output/reanalysis/AUS-11/BOM/ERA5/historical/hres/BARRA-R2/v1/day/pr/v20231001/pr_AUS-11_ERA5_historical_hres_BOM_BARRA-R2_v1_day_2014*-2014*.nc',\n",
    "    '/g/data/ob53/BARRA2/output/reanalysis/AUS-11/BOM/ERA5/historical/hres/BARRA-R2/v1/day/pr/v20231001/pr_AUS-11_ERA5_historical_hres_BOM_BARRA-R2_v1_day_20*-2*.nc'\n",
    "]\n",
    "bolg(boo)"
   ]
  },
  {
   "cell_type": "code",
   "execution_count": null,
   "id": "57f651bf",
   "metadata": {},
   "outputs": [],
   "source": []
  }
 ],
 "metadata": {
  "kernelspec": {
   "display_name": "Python 3 (ipykernel)",
   "language": "python",
   "name": "python3"
  },
  "language_info": {
   "codemirror_mode": {
    "name": "ipython",
    "version": 3
   },
   "file_extension": ".py",
   "mimetype": "text/x-python",
   "name": "python",
   "nbconvert_exporter": "python",
   "pygments_lexer": "ipython3",
   "version": "3.10.4"
  }
 },
 "nbformat": 4,
 "nbformat_minor": 5
}
