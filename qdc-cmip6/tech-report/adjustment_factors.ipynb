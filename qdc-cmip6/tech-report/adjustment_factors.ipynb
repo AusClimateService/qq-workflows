{
 "cells": [
  {
   "cell_type": "code",
   "execution_count": null,
   "id": "190aa894",
   "metadata": {},
   "outputs": [],
   "source": [
    "import calendar\n",
    "import glob\n",
    "\n",
    "import numpy as np\n",
    "import matplotlib.pyplot as plt\n",
    "import xarray as xr\n",
    "import cmocean"
   ]
  },
  {
   "cell_type": "code",
   "execution_count": null,
   "id": "5782967e",
   "metadata": {},
   "outputs": [],
   "source": [
    "city_lat_lon = {\n",
    "    'Hobart': (-42.9, 147.3),\n",
    "    'Melbourne': (-37.8, 145.0),\n",
    "    'Mildura': (-34.2, 142.1),\n",
    "    'Thredbo': (-36.5, 148.3),\n",
    "    'Sydney': (-33.9, 151.2),\n",
    "    'Brisbane': (-27.5, 153.0),\n",
    "    'Cairns': (-16.9, 145.8),\n",
    "    'Darwin': (-12.5, 130.8),\n",
    "    'Alice Springs': (-23.7, 133.9),\n",
    "    'Port Hedland': (-20.3, 118.6),\n",
    "    'Karlamilyi National Park': (-22.7, 122.2),\n",
    "    'Perth': (-32.0, 115.9),\n",
    "    'Adelaide': (-34.9, 138.6),\n",
    "}"
   ]
  },
  {
   "cell_type": "markdown",
   "id": "b52b2908",
   "metadata": {},
   "source": [
    "## Wind speed example"
   ]
  },
  {
   "cell_type": "code",
   "execution_count": null,
   "id": "393864f1",
   "metadata": {},
   "outputs": [],
   "source": [
    "adjustment_file = \"/g/data/ia39/australian-climate-service/test-data/QDC-CMIP6-v2/BARRA-R2/ACCESS-CM2/ssp370/r4i1p1f1/day/sfcWind/2070-2099/sfcWind-qdc-multiplicative-monthly-q100-adjustment-factors_ACCESS-CM2_ssp370_r4i1p1f1_gn_2070-2099_wrt_1985-2014.nc\""
   ]
  },
  {
   "cell_type": "code",
   "execution_count": null,
   "id": "83602f8a",
   "metadata": {},
   "outputs": [],
   "source": [
    "ds_adjust = xr.open_dataset(adjustment_file)"
   ]
  },
  {
   "cell_type": "code",
   "execution_count": null,
   "id": "89defdb2",
   "metadata": {},
   "outputs": [],
   "source": [
    "lat, lon = city_lat_lon['Hobart']\n",
    "point_selection = {'lat': lat, 'lon': lon}\n",
    "da_af_point = ds_adjust['af'].sel(point_selection, method='nearest').compute()"
   ]
  },
  {
   "cell_type": "code",
   "execution_count": null,
   "id": "d5c82062",
   "metadata": {},
   "outputs": [],
   "source": [
    "fig = plt.figure(figsize=[10, 10])\n",
    "ax = fig.add_subplot(111)\n",
    "\n",
    "da_af_point.transpose('month', 'quantiles').plot.imshow(\n",
    "    ax=ax,\n",
    "    cmap='RdBu_r',\n",
    "    extend='both',\n",
    "    vmin=-1.5,\n",
    "    vmax=1.5\n",
    ")\n",
    "yticks = np.arange(1,13)\n",
    "ytick_labels = [calendar.month_abbr[i] for i in yticks]\n",
    "ax.set_yticks(yticks, ytick_labels)\n",
    "ax.invert_yaxis()\n",
    "ax.set_title(title)"
   ]
  },
  {
   "cell_type": "markdown",
   "id": "f9c8a8cc",
   "metadata": {},
   "source": [
    "## Rainfall example"
   ]
  },
  {
   "cell_type": "code",
   "execution_count": null,
   "id": "f07285e6",
   "metadata": {},
   "outputs": [],
   "source": [
    "adjustment_file = \"/g/data/ia39/australian-climate-service/test-data/QDC-CMIP6-v2/AGCD/EC-Earth3/ssp370/r1i1p1f1/day/pr/2070-2099/pr-qdc-multiplicative-monthly-q100-adjustment-factors_EC-Earth3_ssp370_r1i1p1f1_gn_2070-2099_wrt_1985-2014.nc\""
   ]
  },
  {
   "cell_type": "code",
   "execution_count": null,
   "id": "d36d0720",
   "metadata": {},
   "outputs": [],
   "source": [
    "hist_files = sorted(glob.glob(\"/g/data/oi10/replicas/CMIP6/CMIP/EC-Earth-Consortium/EC-Earth3/historical/r1i1p1f1/day/pr/gr/v20200310/pr_day_EC-Earth3_historical_r1i1p1f1_gr_*.nc\"))\n",
    "ref_files = sorted(glob.glob(\"/g/data/oi10/replicas/CMIP6/ScenarioMIP/EC-Earth-Consortium/EC-Earth3/ssp370/r1i1p1f1/day/pr/gr/v20200310/pr_day_EC-Earth3_ssp370_r1i1p1f1_gr_21000101-21001231.nc\"))\n",
    "target_files = sorted(glob.glob(\"/g/data/xv83/agcd-csiro/precip/daily/precip-total_AGCD-CSIRO_r005_20230101-20231231_daily.nc\"))"
   ]
  },
  {
   "cell_type": "code",
   "execution_count": null,
   "id": "3960398a",
   "metadata": {},
   "outputs": [],
   "source": [
    "ds_hist = utils.read_data(\n",
    "    hist_files,\n",
    "    'pr',\n",
    "    time_bounds=\"1985 2014\",\n",
    "    input_units=\"kg m-2 s-1\",\n",
    "    output_units=\"mm day-1\",\n",
    ")\n",
    "try:\n",
    "    ds_hist = ds_hist.drop_vars('crs')\n",
    "except ValueError:\n",
    "    pass"
   ]
  },
  {
   "cell_type": "code",
   "execution_count": null,
   "id": "bef66945",
   "metadata": {},
   "outputs": [],
   "source": [
    "ds_ref = utils.read_data(\n",
    "    ref_files,\n",
    "    'pr',\n",
    "    time_bounds=\"2070 2099\",\n",
    "    input_units=\"kg m-2 s-1\",\n",
    "    output_units=\"mm day-1\",\n",
    ")\n",
    "try:\n",
    "    ds_ref = ds_ref.drop_vars('crs')\n",
    "except ValueError:\n",
    "    pass"
   ]
  },
  {
   "cell_type": "code",
   "execution_count": null,
   "id": "8e613b8f",
   "metadata": {},
   "outputs": [],
   "source": [
    "ds_target = utils.read_data(\n",
    "    target_files,\n",
    "    'pr',\n",
    "    time_bounds=\"1985 2014\",\n",
    "    input_units=\"kg m-2 s-1\",\n",
    "    output_units=\"mm day-1\",\n",
    ")\n",
    "try:\n",
    "    ds_target = ds_target.drop_vars('crs')\n",
    "except ValueError:\n",
    "    pass"
   ]
  },
  {
   "cell_type": "code",
   "execution_count": null,
   "id": "84ef906a",
   "metadata": {},
   "outputs": [],
   "source": [
    "ds_adjust = xr.open_dataset(adjustment_file)"
   ]
  },
  {
   "cell_type": "code",
   "execution_count": null,
   "id": "555de601",
   "metadata": {},
   "outputs": [],
   "source": [
    "lat, lon = city_lat_lon['Alice Springs']\n",
    "month = 5\n",
    "point_selection = {'lat': lat, 'lon': lon, 'month': month}"
   ]
  },
  {
   "cell_type": "code",
   "execution_count": null,
   "id": "300cd8e9",
   "metadata": {},
   "outputs": [],
   "source": [
    "da_af_point = ds_adjust['af'].sel(point_selection, method='nearest').compute()\n",
    "da_hist_point = ds_hist['pr'].sel(point_selection, method='nearest').compute()\n",
    "da_ref_point = ds_ref['pr'].sel(point_selection, method='nearest').compute()\n",
    "da_target_point = ds_target['pr'].sel(point_selection, method='nearest').compute()"
   ]
  },
  {
   "cell_type": "code",
   "execution_count": null,
   "id": "1a1417e5",
   "metadata": {},
   "outputs": [],
   "source": [
    "quantiles = ds_adjust['quantiles'].data\n",
    "da_hist_q_point = utils.get_quantiles(da_hist_point, quantiles, timescale='annual')\n",
    "da_ref_q_point = utils.get_quantiles(da_ref_point, quantiles, timescale='annual')\n",
    "da_target_q_point = utils.get_quantiles(da_target_point, quantiles, timescale='annual')"
   ]
  },
  {
   "cell_type": "code",
   "execution_count": null,
   "id": "996fba0f",
   "metadata": {},
   "outputs": [],
   "source": [
    "da_af_point = da_af_point.expand_dims(dim={'month': 1})"
   ]
  },
  {
   "cell_type": "code",
   "execution_count": null,
   "id": "b05c9751",
   "metadata": {},
   "outputs": [],
   "source": [
    "fig = plt.figure(figsize=[20, 14])\n",
    "ax1 = fig.add_subplot(411)\n",
    "ax2 = fig.add_subplot(412)\n",
    "ax3 = fig.add_subplot(413)\n",
    "ax4 = fig.add_subplot(414)\n",
    "\n",
    "#reference quantiles\n",
    "da_ref_q_point.transpose('month', 'quantiles').plot.imshow(\n",
    "    ax=ax1,\n",
    "    cmap=cmocean.cm.rain,\n",
    "    extend='max',\n",
    "    levels=[0, 0.01, 0.25, 0.5, 1, 2, 5, 10, 20, 40, 60],\n",
    ")    \n",
    "ax1.set_title('(a) model quantiles (SSP3-7.0; 2070-2099)')\n",
    "\n",
    "#historical quantiles\n",
    "da_hist_q_point.transpose('month', 'quantiles').plot.imshow(\n",
    "    ax=ax2,\n",
    "    cmap=cmocean.cm.rain,\n",
    "    extend='max',\n",
    "    levels=[0, 0.01, 0.25, 0.5, 1, 2, 5, 10, 20, 40, 60],\n",
    ")  \n",
    "ax2.set_title('(b) model quantiles (historical; 1985-2014)')\n",
    "\n",
    "#historical quantiles\n",
    "da_target_q_point.transpose('month', 'quantiles').plot.imshow(\n",
    "    ax=ax3,\n",
    "    cmap=cmocean.cm.rain,\n",
    "    extend='max',\n",
    "    levels=[0, 0.01, 0.25, 0.5, 1, 2, 5, 10, 20, 40, 60],\n",
    ")  \n",
    "ax3.set_title('(c) BARRA-R2 quantiles (1985-2014)')\n",
    "\n",
    "#adjustment factors\n",
    "da_af_point.transpose('month', 'quantiles').plot.imshow(\n",
    "    ax=ax4,\n",
    "    cmap='BrBG',\n",
    "    extend='both',\n",
    "    levels=[0.125, 0.25, 0.5, 0.67, 0.8, 1, 1.25, 1.5, 2, 4, 8]\n",
    ")    \n",
    "\n",
    "#ax.set_yticks([1], [])\n",
    "#ax.set_ylabel('')\n",
    "#ax.set_xlabel('')\n",
    "plt.show()"
   ]
  },
  {
   "cell_type": "code",
   "execution_count": null,
   "id": "45ae996d",
   "metadata": {},
   "outputs": [],
   "source": []
  }
 ],
 "metadata": {
  "kernelspec": {
   "display_name": "Python 3 (ipykernel)",
   "language": "python",
   "name": "python3"
  },
  "language_info": {
   "codemirror_mode": {
    "name": "ipython",
    "version": 3
   },
   "file_extension": ".py",
   "mimetype": "text/x-python",
   "name": "python",
   "nbconvert_exporter": "python",
   "pygments_lexer": "ipython3",
   "version": "3.9.12"
  }
 },
 "nbformat": 4,
 "nbformat_minor": 5
}
