{
 "cells": [
  {
   "cell_type": "code",
   "execution_count": 22,
   "id": "6782dc90",
   "metadata": {},
   "outputs": [],
   "source": [
    "import sys\n",
    "\n",
    "import pandas as pd\n",
    "from plotly.subplots import make_subplots\n",
    "import plotly.graph_objects as go\n",
    "\n",
    "sys.path.append('/g/data/xv83/quantile-mapping/gwls')\n",
    "import gwl"
   ]
  },
  {
   "cell_type": "code",
   "execution_count": 30,
   "id": "e4bc2f2f",
   "metadata": {},
   "outputs": [],
   "source": [
    "models = {\n",
    "    'UKESM1-0-LL': 'r1i1p1f2',\n",
    "    'NorESM2-MM': 'r1i1p1f1',\n",
    "    'MPI-ESM1-2-HR': 'r1i1p1f1',\n",
    "    'EC-Earth3': 'r1i1p1f1',\n",
    "    'CNRM-ESM2-1': 'r1i1p1f2',\n",
    "    'CMCC-ESM2': 'r1i1p1f1',\n",
    "    'CESM2': 'r11i1p1f1',\n",
    "    'ACCESS-ESM1.5': 'r6i1p1f1',\n",
    "    'ACCESS-CM2': 'r4i1p1f1',\n",
    "}"
   ]
  },
  {
   "cell_type": "code",
   "execution_count": 31,
   "id": "51116077",
   "metadata": {},
   "outputs": [],
   "source": [
    "data = {\n",
    "    'model': [],\n",
    "    'start_year': [],\n",
    "    'end_year': [],\n",
    "    'x': [],\n",
    "    'warming_level': []\n",
    "}\n",
    "\n",
    "for level in [1.0, 1.5, 2.0, 3.0]:\n",
    "    x = 0\n",
    "    for model in models:\n",
    "        run = models[model]\n",
    "        start_year, end_year = gwl.get_GWL_syear_eyear('CMIP6', model, run, 'ssp370', level)\n",
    "        data['model'].append(model)\n",
    "        data['start_year'].append(start_year)\n",
    "        data['end_year'].append(end_year)\n",
    "        data['x'].append(x)\n",
    "        data['warming_level'].append(level)\n",
    "        x = x + 1"
   ]
  },
  {
   "cell_type": "code",
   "execution_count": 32,
   "id": "90184378",
   "metadata": {},
   "outputs": [],
   "source": [
    "df = pd.DataFrame(data)"
   ]
  },
  {
   "cell_type": "code",
   "execution_count": 33,
   "id": "29f612d8",
   "metadata": {},
   "outputs": [],
   "source": [
    "w10 = df[df['warming_level'] == 1.0]\n",
    "w15 = df[df['warming_level'] == 1.5]\n",
    "w20 = df[df['warming_level'] == 2.0]\n",
    "w30 = df[df['warming_level'] == 3.0]"
   ]
  },
  {
   "cell_type": "code",
   "execution_count": 36,
   "id": "bfed063f",
   "metadata": {},
   "outputs": [
    {
     "data": {
      "application/vnd.plotly.v1+json": {
       "config": {
        "plotlyServerURL": "https://plot.ly"
       },
       "data": [
        {
         "error_x": {
          "array": [
           29,
           29,
           29,
           29,
           29,
           29,
           29,
           29,
           29
          ],
          "arrayminus": [
           0,
           0,
           0,
           0,
           0,
           0,
           0,
           0,
           0
          ],
          "symmetric": false,
          "thickness": 12,
          "type": "data",
          "width": 6
         },
         "marker": {
          "color": "blue",
          "size": 10
         },
         "mode": "markers",
         "name": "1.0°C",
         "type": "scatter",
         "x": [
          1995,
          1995,
          1995,
          1995,
          1995,
          1995,
          1995,
          1995,
          1995
         ],
         "xaxis": "x",
         "y": [
          0,
          1,
          2,
          3,
          4,
          5,
          6,
          7,
          8
         ],
         "yaxis": "y"
        },
        {
         "error_x": {
          "array": [
           29,
           29,
           29,
           29,
           29,
           29,
           29,
           29,
           29
          ],
          "arrayminus": [
           0,
           0,
           0,
           0,
           0,
           0,
           0,
           0,
           0
          ],
          "symmetric": false,
          "thickness": 12,
          "type": "data",
          "width": 6
         },
         "marker": {
          "color": "green",
          "size": 10
         },
         "mode": "markers",
         "name": "1.5°C",
         "type": "scatter",
         "x": [
          2000,
          2000,
          2000,
          2000,
          2000,
          2000,
          2000,
          2000,
          2000
         ],
         "xaxis": "x2",
         "y": [
          0,
          1,
          2,
          3,
          4,
          5,
          6,
          7,
          8
         ],
         "yaxis": "y2"
        },
        {
         "error_x": {
          "array": [
           29,
           29,
           29,
           29,
           29,
           29,
           29,
           29,
           29
          ],
          "arrayminus": [
           0,
           0,
           0,
           0,
           0,
           0,
           0,
           0,
           0
          ],
          "symmetric": false,
          "thickness": 12,
          "type": "data",
          "width": 6
         },
         "marker": {
          "color": "orange",
          "size": 10
         },
         "mode": "markers",
         "name": "2.0°C",
         "type": "scatter",
         "x": [
          2005,
          2005,
          2005,
          2005,
          2005,
          2005,
          2005,
          2005,
          2005
         ],
         "xaxis": "x3",
         "y": [
          0,
          1,
          2,
          3,
          4,
          5,
          6,
          7,
          8
         ],
         "yaxis": "y3"
        },
        {
         "error_x": {
          "array": [
           29,
           29,
           29,
           29,
           29,
           29,
           29,
           29,
           29
          ],
          "arrayminus": [
           0,
           0,
           0,
           0,
           0,
           0,
           0,
           0,
           0
          ],
          "symmetric": false,
          "thickness": 12,
          "type": "data",
          "width": 6
         },
         "marker": {
          "color": "red",
          "size": 10
         },
         "mode": "markers",
         "name": "3.0°C",
         "type": "scatter",
         "x": [
          2015,
          2015,
          2015,
          2015,
          2015,
          2015,
          2015,
          2015,
          2015
         ],
         "xaxis": "x4",
         "y": [
          0,
          1,
          2,
          3,
          4,
          5,
          6,
          7,
          8
         ],
         "yaxis": "y4"
        }
       ],
       "layout": {
        "annotations": [
         {
          "showarrow": false,
          "text": "<b>Year<b>",
          "x": 0.5,
          "xref": "x domain",
          "y": -3.5,
          "yref": "y domain"
         },
         {
          "showarrow": false,
          "text": "<b>Climate Model<b>",
          "textangle": -90,
          "x": -0.13,
          "xref": "x domain",
          "y": -1.5,
          "yref": "y domain"
         }
        ],
        "height": 800,
        "legend": {
         "title": {
          "text": "Global Warming Level"
         },
         "x": 0.85,
         "y": 0.98
        },
        "template": {
         "data": {
          "bar": [
           {
            "error_x": {
             "color": "#2a3f5f"
            },
            "error_y": {
             "color": "#2a3f5f"
            },
            "marker": {
             "line": {
              "color": "#E5ECF6",
              "width": 0.5
             },
             "pattern": {
              "fillmode": "overlay",
              "size": 10,
              "solidity": 0.2
             }
            },
            "type": "bar"
           }
          ],
          "barpolar": [
           {
            "marker": {
             "line": {
              "color": "#E5ECF6",
              "width": 0.5
             },
             "pattern": {
              "fillmode": "overlay",
              "size": 10,
              "solidity": 0.2
             }
            },
            "type": "barpolar"
           }
          ],
          "carpet": [
           {
            "aaxis": {
             "endlinecolor": "#2a3f5f",
             "gridcolor": "white",
             "linecolor": "white",
             "minorgridcolor": "white",
             "startlinecolor": "#2a3f5f"
            },
            "baxis": {
             "endlinecolor": "#2a3f5f",
             "gridcolor": "white",
             "linecolor": "white",
             "minorgridcolor": "white",
             "startlinecolor": "#2a3f5f"
            },
            "type": "carpet"
           }
          ],
          "choropleth": [
           {
            "colorbar": {
             "outlinewidth": 0,
             "ticks": ""
            },
            "type": "choropleth"
           }
          ],
          "contour": [
           {
            "colorbar": {
             "outlinewidth": 0,
             "ticks": ""
            },
            "colorscale": [
             [
              0,
              "#0d0887"
             ],
             [
              0.1111111111111111,
              "#46039f"
             ],
             [
              0.2222222222222222,
              "#7201a8"
             ],
             [
              0.3333333333333333,
              "#9c179e"
             ],
             [
              0.4444444444444444,
              "#bd3786"
             ],
             [
              0.5555555555555556,
              "#d8576b"
             ],
             [
              0.6666666666666666,
              "#ed7953"
             ],
             [
              0.7777777777777778,
              "#fb9f3a"
             ],
             [
              0.8888888888888888,
              "#fdca26"
             ],
             [
              1,
              "#f0f921"
             ]
            ],
            "type": "contour"
           }
          ],
          "contourcarpet": [
           {
            "colorbar": {
             "outlinewidth": 0,
             "ticks": ""
            },
            "type": "contourcarpet"
           }
          ],
          "heatmap": [
           {
            "colorbar": {
             "outlinewidth": 0,
             "ticks": ""
            },
            "colorscale": [
             [
              0,
              "#0d0887"
             ],
             [
              0.1111111111111111,
              "#46039f"
             ],
             [
              0.2222222222222222,
              "#7201a8"
             ],
             [
              0.3333333333333333,
              "#9c179e"
             ],
             [
              0.4444444444444444,
              "#bd3786"
             ],
             [
              0.5555555555555556,
              "#d8576b"
             ],
             [
              0.6666666666666666,
              "#ed7953"
             ],
             [
              0.7777777777777778,
              "#fb9f3a"
             ],
             [
              0.8888888888888888,
              "#fdca26"
             ],
             [
              1,
              "#f0f921"
             ]
            ],
            "type": "heatmap"
           }
          ],
          "heatmapgl": [
           {
            "colorbar": {
             "outlinewidth": 0,
             "ticks": ""
            },
            "colorscale": [
             [
              0,
              "#0d0887"
             ],
             [
              0.1111111111111111,
              "#46039f"
             ],
             [
              0.2222222222222222,
              "#7201a8"
             ],
             [
              0.3333333333333333,
              "#9c179e"
             ],
             [
              0.4444444444444444,
              "#bd3786"
             ],
             [
              0.5555555555555556,
              "#d8576b"
             ],
             [
              0.6666666666666666,
              "#ed7953"
             ],
             [
              0.7777777777777778,
              "#fb9f3a"
             ],
             [
              0.8888888888888888,
              "#fdca26"
             ],
             [
              1,
              "#f0f921"
             ]
            ],
            "type": "heatmapgl"
           }
          ],
          "histogram": [
           {
            "marker": {
             "pattern": {
              "fillmode": "overlay",
              "size": 10,
              "solidity": 0.2
             }
            },
            "type": "histogram"
           }
          ],
          "histogram2d": [
           {
            "colorbar": {
             "outlinewidth": 0,
             "ticks": ""
            },
            "colorscale": [
             [
              0,
              "#0d0887"
             ],
             [
              0.1111111111111111,
              "#46039f"
             ],
             [
              0.2222222222222222,
              "#7201a8"
             ],
             [
              0.3333333333333333,
              "#9c179e"
             ],
             [
              0.4444444444444444,
              "#bd3786"
             ],
             [
              0.5555555555555556,
              "#d8576b"
             ],
             [
              0.6666666666666666,
              "#ed7953"
             ],
             [
              0.7777777777777778,
              "#fb9f3a"
             ],
             [
              0.8888888888888888,
              "#fdca26"
             ],
             [
              1,
              "#f0f921"
             ]
            ],
            "type": "histogram2d"
           }
          ],
          "histogram2dcontour": [
           {
            "colorbar": {
             "outlinewidth": 0,
             "ticks": ""
            },
            "colorscale": [
             [
              0,
              "#0d0887"
             ],
             [
              0.1111111111111111,
              "#46039f"
             ],
             [
              0.2222222222222222,
              "#7201a8"
             ],
             [
              0.3333333333333333,
              "#9c179e"
             ],
             [
              0.4444444444444444,
              "#bd3786"
             ],
             [
              0.5555555555555556,
              "#d8576b"
             ],
             [
              0.6666666666666666,
              "#ed7953"
             ],
             [
              0.7777777777777778,
              "#fb9f3a"
             ],
             [
              0.8888888888888888,
              "#fdca26"
             ],
             [
              1,
              "#f0f921"
             ]
            ],
            "type": "histogram2dcontour"
           }
          ],
          "mesh3d": [
           {
            "colorbar": {
             "outlinewidth": 0,
             "ticks": ""
            },
            "type": "mesh3d"
           }
          ],
          "parcoords": [
           {
            "line": {
             "colorbar": {
              "outlinewidth": 0,
              "ticks": ""
             }
            },
            "type": "parcoords"
           }
          ],
          "pie": [
           {
            "automargin": true,
            "type": "pie"
           }
          ],
          "scatter": [
           {
            "marker": {
             "colorbar": {
              "outlinewidth": 0,
              "ticks": ""
             }
            },
            "type": "scatter"
           }
          ],
          "scatter3d": [
           {
            "line": {
             "colorbar": {
              "outlinewidth": 0,
              "ticks": ""
             }
            },
            "marker": {
             "colorbar": {
              "outlinewidth": 0,
              "ticks": ""
             }
            },
            "type": "scatter3d"
           }
          ],
          "scattercarpet": [
           {
            "marker": {
             "colorbar": {
              "outlinewidth": 0,
              "ticks": ""
             }
            },
            "type": "scattercarpet"
           }
          ],
          "scattergeo": [
           {
            "marker": {
             "colorbar": {
              "outlinewidth": 0,
              "ticks": ""
             }
            },
            "type": "scattergeo"
           }
          ],
          "scattergl": [
           {
            "marker": {
             "colorbar": {
              "outlinewidth": 0,
              "ticks": ""
             }
            },
            "type": "scattergl"
           }
          ],
          "scattermapbox": [
           {
            "marker": {
             "colorbar": {
              "outlinewidth": 0,
              "ticks": ""
             }
            },
            "type": "scattermapbox"
           }
          ],
          "scatterpolar": [
           {
            "marker": {
             "colorbar": {
              "outlinewidth": 0,
              "ticks": ""
             }
            },
            "type": "scatterpolar"
           }
          ],
          "scatterpolargl": [
           {
            "marker": {
             "colorbar": {
              "outlinewidth": 0,
              "ticks": ""
             }
            },
            "type": "scatterpolargl"
           }
          ],
          "scatterternary": [
           {
            "marker": {
             "colorbar": {
              "outlinewidth": 0,
              "ticks": ""
             }
            },
            "type": "scatterternary"
           }
          ],
          "surface": [
           {
            "colorbar": {
             "outlinewidth": 0,
             "ticks": ""
            },
            "colorscale": [
             [
              0,
              "#0d0887"
             ],
             [
              0.1111111111111111,
              "#46039f"
             ],
             [
              0.2222222222222222,
              "#7201a8"
             ],
             [
              0.3333333333333333,
              "#9c179e"
             ],
             [
              0.4444444444444444,
              "#bd3786"
             ],
             [
              0.5555555555555556,
              "#d8576b"
             ],
             [
              0.6666666666666666,
              "#ed7953"
             ],
             [
              0.7777777777777778,
              "#fb9f3a"
             ],
             [
              0.8888888888888888,
              "#fdca26"
             ],
             [
              1,
              "#f0f921"
             ]
            ],
            "type": "surface"
           }
          ],
          "table": [
           {
            "cells": {
             "fill": {
              "color": "#EBF0F8"
             },
             "line": {
              "color": "white"
             }
            },
            "header": {
             "fill": {
              "color": "#C8D4E3"
             },
             "line": {
              "color": "white"
             }
            },
            "type": "table"
           }
          ]
         },
         "layout": {
          "annotationdefaults": {
           "arrowcolor": "#2a3f5f",
           "arrowhead": 0,
           "arrowwidth": 1
          },
          "autotypenumbers": "strict",
          "coloraxis": {
           "colorbar": {
            "outlinewidth": 0,
            "ticks": ""
           }
          },
          "colorscale": {
           "diverging": [
            [
             0,
             "#8e0152"
            ],
            [
             0.1,
             "#c51b7d"
            ],
            [
             0.2,
             "#de77ae"
            ],
            [
             0.3,
             "#f1b6da"
            ],
            [
             0.4,
             "#fde0ef"
            ],
            [
             0.5,
             "#f7f7f7"
            ],
            [
             0.6,
             "#e6f5d0"
            ],
            [
             0.7,
             "#b8e186"
            ],
            [
             0.8,
             "#7fbc41"
            ],
            [
             0.9,
             "#4d9221"
            ],
            [
             1,
             "#276419"
            ]
           ],
           "sequential": [
            [
             0,
             "#0d0887"
            ],
            [
             0.1111111111111111,
             "#46039f"
            ],
            [
             0.2222222222222222,
             "#7201a8"
            ],
            [
             0.3333333333333333,
             "#9c179e"
            ],
            [
             0.4444444444444444,
             "#bd3786"
            ],
            [
             0.5555555555555556,
             "#d8576b"
            ],
            [
             0.6666666666666666,
             "#ed7953"
            ],
            [
             0.7777777777777778,
             "#fb9f3a"
            ],
            [
             0.8888888888888888,
             "#fdca26"
            ],
            [
             1,
             "#f0f921"
            ]
           ],
           "sequentialminus": [
            [
             0,
             "#0d0887"
            ],
            [
             0.1111111111111111,
             "#46039f"
            ],
            [
             0.2222222222222222,
             "#7201a8"
            ],
            [
             0.3333333333333333,
             "#9c179e"
            ],
            [
             0.4444444444444444,
             "#bd3786"
            ],
            [
             0.5555555555555556,
             "#d8576b"
            ],
            [
             0.6666666666666666,
             "#ed7953"
            ],
            [
             0.7777777777777778,
             "#fb9f3a"
            ],
            [
             0.8888888888888888,
             "#fdca26"
            ],
            [
             1,
             "#f0f921"
            ]
           ]
          },
          "colorway": [
           "#636efa",
           "#EF553B",
           "#00cc96",
           "#ab63fa",
           "#FFA15A",
           "#19d3f3",
           "#FF6692",
           "#B6E880",
           "#FF97FF",
           "#FECB52"
          ],
          "font": {
           "color": "#2a3f5f"
          },
          "geo": {
           "bgcolor": "white",
           "lakecolor": "white",
           "landcolor": "#E5ECF6",
           "showlakes": true,
           "showland": true,
           "subunitcolor": "white"
          },
          "hoverlabel": {
           "align": "left"
          },
          "hovermode": "closest",
          "mapbox": {
           "style": "light"
          },
          "paper_bgcolor": "white",
          "plot_bgcolor": "#E5ECF6",
          "polar": {
           "angularaxis": {
            "gridcolor": "white",
            "linecolor": "white",
            "ticks": ""
           },
           "bgcolor": "#E5ECF6",
           "radialaxis": {
            "gridcolor": "white",
            "linecolor": "white",
            "ticks": ""
           }
          },
          "scene": {
           "xaxis": {
            "backgroundcolor": "#E5ECF6",
            "gridcolor": "white",
            "gridwidth": 2,
            "linecolor": "white",
            "showbackground": true,
            "ticks": "",
            "zerolinecolor": "white"
           },
           "yaxis": {
            "backgroundcolor": "#E5ECF6",
            "gridcolor": "white",
            "gridwidth": 2,
            "linecolor": "white",
            "showbackground": true,
            "ticks": "",
            "zerolinecolor": "white"
           },
           "zaxis": {
            "backgroundcolor": "#E5ECF6",
            "gridcolor": "white",
            "gridwidth": 2,
            "linecolor": "white",
            "showbackground": true,
            "ticks": "",
            "zerolinecolor": "white"
           }
          },
          "shapedefaults": {
           "line": {
            "color": "#2a3f5f"
           }
          },
          "ternary": {
           "aaxis": {
            "gridcolor": "white",
            "linecolor": "white",
            "ticks": ""
           },
           "baxis": {
            "gridcolor": "white",
            "linecolor": "white",
            "ticks": ""
           },
           "bgcolor": "#E5ECF6",
           "caxis": {
            "gridcolor": "white",
            "linecolor": "white",
            "ticks": ""
           }
          },
          "title": {
           "x": 0.05
          },
          "xaxis": {
           "automargin": true,
           "gridcolor": "white",
           "linecolor": "white",
           "ticks": "",
           "title": {
            "standoff": 15
           },
           "zerolinecolor": "white",
           "zerolinewidth": 2
          },
          "yaxis": {
           "automargin": true,
           "gridcolor": "white",
           "linecolor": "white",
           "ticks": "",
           "title": {
            "standoff": 15
           },
           "zerolinecolor": "white",
           "zerolinewidth": 2
          }
         }
        },
        "width": 1200,
        "xaxis": {
         "anchor": "y3",
         "domain": [
          0,
          1
         ],
         "matches": "x4",
         "showticklabels": false,
         "title": {
          "text": ""
         }
        },
        "xaxis2": {
         "anchor": "y2",
         "domain": [
          0,
          1
         ],
         "matches": "x4",
         "showticklabels": false
        },
        "xaxis3": {
         "anchor": "y3",
         "domain": [
          0,
          1
         ],
         "matches": "x4",
         "showticklabels": false
        },
        "xaxis4": {
         "anchor": "y4",
         "domain": [
          0,
          1
         ]
        },
        "yaxis": {
         "anchor": "x",
         "domain": [
          0.7649999999999999,
          0.9999999999999999
         ],
         "ticktext": [
          "UKESM1-0-LL",
          "NorESM2-MM",
          "MPI-ESM1-2-HR",
          "EC-Earth3",
          "CNRM-ESM2-1",
          "CMCC-ESM2",
          "CESM2",
          "ACCESS-ESM1.5",
          "ACCESS-CM2"
         ],
         "tickvals": [
          0,
          1,
          2,
          3,
          4,
          5,
          6,
          7,
          8
         ],
         "title": {
          "text": ""
         }
        },
        "yaxis2": {
         "anchor": "x2",
         "domain": [
          0.51,
          0.745
         ],
         "ticktext": [
          "UKESM1-0-LL",
          "NorESM2-MM",
          "MPI-ESM1-2-HR",
          "EC-Earth3",
          "CNRM-ESM2-1",
          "CMCC-ESM2",
          "CESM2",
          "ACCESS-ESM1.5",
          "ACCESS-CM2"
         ],
         "tickvals": [
          0,
          1,
          2,
          3,
          4,
          5,
          6,
          7,
          8
         ]
        },
        "yaxis3": {
         "anchor": "x3",
         "domain": [
          0.255,
          0.49
         ],
         "ticktext": [
          "UKESM1-0-LL",
          "NorESM2-MM",
          "MPI-ESM1-2-HR",
          "EC-Earth3",
          "CNRM-ESM2-1",
          "CMCC-ESM2",
          "CESM2",
          "ACCESS-ESM1.5",
          "ACCESS-CM2"
         ],
         "tickvals": [
          0,
          1,
          2,
          3,
          4,
          5,
          6,
          7,
          8
         ]
        },
        "yaxis4": {
         "anchor": "x4",
         "domain": [
          0,
          0.235
         ],
         "ticktext": [
          "UKESM1-0-LL",
          "NorESM2-MM",
          "MPI-ESM1-2-HR",
          "EC-Earth3",
          "CNRM-ESM2-1",
          "CMCC-ESM2",
          "CESM2",
          "ACCESS-ESM1.5",
          "ACCESS-CM2"
         ],
         "tickvals": [
          0,
          1,
          2,
          3,
          4,
          5,
          6,
          7,
          8
         ]
        }
       }
      },
      "text/html": [
       "<div>                            <div id=\"1edf2bde-b03a-41a5-b03e-23c73348981c\" class=\"plotly-graph-div\" style=\"height:800px; width:1200px;\"></div>            <script type=\"text/javascript\">                require([\"plotly\"], function(Plotly) {                    window.PLOTLYENV=window.PLOTLYENV || {};                                    if (document.getElementById(\"1edf2bde-b03a-41a5-b03e-23c73348981c\")) {                    Plotly.newPlot(                        \"1edf2bde-b03a-41a5-b03e-23c73348981c\",                        [{\"error_x\":{\"array\":[29.0,29.0,29.0,29.0,29.0,29.0,29.0,29.0,29.0],\"arrayminus\":[0.0,0.0,0.0,0.0,0.0,0.0,0.0,0.0,0.0],\"symmetric\":false,\"thickness\":12,\"type\":\"data\",\"width\":6},\"marker\":{\"color\":\"blue\",\"size\":10},\"mode\":\"markers\",\"name\":\"1.0\\u00b0C\",\"x\":[1995.0,1995.0,1995.0,1995.0,1995.0,1995.0,1995.0,1995.0,1995.0],\"xaxis\":\"x\",\"y\":[0,1,2,3,4,5,6,7,8],\"yaxis\":\"y\",\"type\":\"scatter\"},{\"error_x\":{\"array\":[29.0,29.0,29.0,29.0,29.0,29.0,29.0,29.0,29.0],\"arrayminus\":[0.0,0.0,0.0,0.0,0.0,0.0,0.0,0.0,0.0],\"symmetric\":false,\"thickness\":12,\"type\":\"data\",\"width\":6},\"marker\":{\"color\":\"green\",\"size\":10},\"mode\":\"markers\",\"name\":\"1.5\\u00b0C\",\"x\":[2000.0,2000.0,2000.0,2000.0,2000.0,2000.0,2000.0,2000.0,2000.0],\"xaxis\":\"x2\",\"y\":[0,1,2,3,4,5,6,7,8],\"yaxis\":\"y2\",\"type\":\"scatter\"},{\"error_x\":{\"array\":[29.0,29.0,29.0,29.0,29.0,29.0,29.0,29.0,29.0],\"arrayminus\":[0.0,0.0,0.0,0.0,0.0,0.0,0.0,0.0,0.0],\"symmetric\":false,\"thickness\":12,\"type\":\"data\",\"width\":6},\"marker\":{\"color\":\"orange\",\"size\":10},\"mode\":\"markers\",\"name\":\"2.0\\u00b0C\",\"x\":[2005.0,2005.0,2005.0,2005.0,2005.0,2005.0,2005.0,2005.0,2005.0],\"xaxis\":\"x3\",\"y\":[0,1,2,3,4,5,6,7,8],\"yaxis\":\"y3\",\"type\":\"scatter\"},{\"error_x\":{\"array\":[29.0,29.0,29.0,29.0,29.0,29.0,29.0,29.0,29.0],\"arrayminus\":[0.0,0.0,0.0,0.0,0.0,0.0,0.0,0.0,0.0],\"symmetric\":false,\"thickness\":12,\"type\":\"data\",\"width\":6},\"marker\":{\"color\":\"red\",\"size\":10},\"mode\":\"markers\",\"name\":\"3.0\\u00b0C\",\"x\":[2015.0,2015.0,2015.0,2015.0,2015.0,2015.0,2015.0,2015.0,2015.0],\"xaxis\":\"x4\",\"y\":[0,1,2,3,4,5,6,7,8],\"yaxis\":\"y4\",\"type\":\"scatter\"}],                        {\"template\":{\"data\":{\"bar\":[{\"error_x\":{\"color\":\"#2a3f5f\"},\"error_y\":{\"color\":\"#2a3f5f\"},\"marker\":{\"line\":{\"color\":\"#E5ECF6\",\"width\":0.5},\"pattern\":{\"fillmode\":\"overlay\",\"size\":10,\"solidity\":0.2}},\"type\":\"bar\"}],\"barpolar\":[{\"marker\":{\"line\":{\"color\":\"#E5ECF6\",\"width\":0.5},\"pattern\":{\"fillmode\":\"overlay\",\"size\":10,\"solidity\":0.2}},\"type\":\"barpolar\"}],\"carpet\":[{\"aaxis\":{\"endlinecolor\":\"#2a3f5f\",\"gridcolor\":\"white\",\"linecolor\":\"white\",\"minorgridcolor\":\"white\",\"startlinecolor\":\"#2a3f5f\"},\"baxis\":{\"endlinecolor\":\"#2a3f5f\",\"gridcolor\":\"white\",\"linecolor\":\"white\",\"minorgridcolor\":\"white\",\"startlinecolor\":\"#2a3f5f\"},\"type\":\"carpet\"}],\"choropleth\":[{\"colorbar\":{\"outlinewidth\":0,\"ticks\":\"\"},\"type\":\"choropleth\"}],\"contour\":[{\"colorbar\":{\"outlinewidth\":0,\"ticks\":\"\"},\"colorscale\":[[0.0,\"#0d0887\"],[0.1111111111111111,\"#46039f\"],[0.2222222222222222,\"#7201a8\"],[0.3333333333333333,\"#9c179e\"],[0.4444444444444444,\"#bd3786\"],[0.5555555555555556,\"#d8576b\"],[0.6666666666666666,\"#ed7953\"],[0.7777777777777778,\"#fb9f3a\"],[0.8888888888888888,\"#fdca26\"],[1.0,\"#f0f921\"]],\"type\":\"contour\"}],\"contourcarpet\":[{\"colorbar\":{\"outlinewidth\":0,\"ticks\":\"\"},\"type\":\"contourcarpet\"}],\"heatmap\":[{\"colorbar\":{\"outlinewidth\":0,\"ticks\":\"\"},\"colorscale\":[[0.0,\"#0d0887\"],[0.1111111111111111,\"#46039f\"],[0.2222222222222222,\"#7201a8\"],[0.3333333333333333,\"#9c179e\"],[0.4444444444444444,\"#bd3786\"],[0.5555555555555556,\"#d8576b\"],[0.6666666666666666,\"#ed7953\"],[0.7777777777777778,\"#fb9f3a\"],[0.8888888888888888,\"#fdca26\"],[1.0,\"#f0f921\"]],\"type\":\"heatmap\"}],\"heatmapgl\":[{\"colorbar\":{\"outlinewidth\":0,\"ticks\":\"\"},\"colorscale\":[[0.0,\"#0d0887\"],[0.1111111111111111,\"#46039f\"],[0.2222222222222222,\"#7201a8\"],[0.3333333333333333,\"#9c179e\"],[0.4444444444444444,\"#bd3786\"],[0.5555555555555556,\"#d8576b\"],[0.6666666666666666,\"#ed7953\"],[0.7777777777777778,\"#fb9f3a\"],[0.8888888888888888,\"#fdca26\"],[1.0,\"#f0f921\"]],\"type\":\"heatmapgl\"}],\"histogram\":[{\"marker\":{\"pattern\":{\"fillmode\":\"overlay\",\"size\":10,\"solidity\":0.2}},\"type\":\"histogram\"}],\"histogram2d\":[{\"colorbar\":{\"outlinewidth\":0,\"ticks\":\"\"},\"colorscale\":[[0.0,\"#0d0887\"],[0.1111111111111111,\"#46039f\"],[0.2222222222222222,\"#7201a8\"],[0.3333333333333333,\"#9c179e\"],[0.4444444444444444,\"#bd3786\"],[0.5555555555555556,\"#d8576b\"],[0.6666666666666666,\"#ed7953\"],[0.7777777777777778,\"#fb9f3a\"],[0.8888888888888888,\"#fdca26\"],[1.0,\"#f0f921\"]],\"type\":\"histogram2d\"}],\"histogram2dcontour\":[{\"colorbar\":{\"outlinewidth\":0,\"ticks\":\"\"},\"colorscale\":[[0.0,\"#0d0887\"],[0.1111111111111111,\"#46039f\"],[0.2222222222222222,\"#7201a8\"],[0.3333333333333333,\"#9c179e\"],[0.4444444444444444,\"#bd3786\"],[0.5555555555555556,\"#d8576b\"],[0.6666666666666666,\"#ed7953\"],[0.7777777777777778,\"#fb9f3a\"],[0.8888888888888888,\"#fdca26\"],[1.0,\"#f0f921\"]],\"type\":\"histogram2dcontour\"}],\"mesh3d\":[{\"colorbar\":{\"outlinewidth\":0,\"ticks\":\"\"},\"type\":\"mesh3d\"}],\"parcoords\":[{\"line\":{\"colorbar\":{\"outlinewidth\":0,\"ticks\":\"\"}},\"type\":\"parcoords\"}],\"pie\":[{\"automargin\":true,\"type\":\"pie\"}],\"scatter\":[{\"marker\":{\"colorbar\":{\"outlinewidth\":0,\"ticks\":\"\"}},\"type\":\"scatter\"}],\"scatter3d\":[{\"line\":{\"colorbar\":{\"outlinewidth\":0,\"ticks\":\"\"}},\"marker\":{\"colorbar\":{\"outlinewidth\":0,\"ticks\":\"\"}},\"type\":\"scatter3d\"}],\"scattercarpet\":[{\"marker\":{\"colorbar\":{\"outlinewidth\":0,\"ticks\":\"\"}},\"type\":\"scattercarpet\"}],\"scattergeo\":[{\"marker\":{\"colorbar\":{\"outlinewidth\":0,\"ticks\":\"\"}},\"type\":\"scattergeo\"}],\"scattergl\":[{\"marker\":{\"colorbar\":{\"outlinewidth\":0,\"ticks\":\"\"}},\"type\":\"scattergl\"}],\"scattermapbox\":[{\"marker\":{\"colorbar\":{\"outlinewidth\":0,\"ticks\":\"\"}},\"type\":\"scattermapbox\"}],\"scatterpolar\":[{\"marker\":{\"colorbar\":{\"outlinewidth\":0,\"ticks\":\"\"}},\"type\":\"scatterpolar\"}],\"scatterpolargl\":[{\"marker\":{\"colorbar\":{\"outlinewidth\":0,\"ticks\":\"\"}},\"type\":\"scatterpolargl\"}],\"scatterternary\":[{\"marker\":{\"colorbar\":{\"outlinewidth\":0,\"ticks\":\"\"}},\"type\":\"scatterternary\"}],\"surface\":[{\"colorbar\":{\"outlinewidth\":0,\"ticks\":\"\"},\"colorscale\":[[0.0,\"#0d0887\"],[0.1111111111111111,\"#46039f\"],[0.2222222222222222,\"#7201a8\"],[0.3333333333333333,\"#9c179e\"],[0.4444444444444444,\"#bd3786\"],[0.5555555555555556,\"#d8576b\"],[0.6666666666666666,\"#ed7953\"],[0.7777777777777778,\"#fb9f3a\"],[0.8888888888888888,\"#fdca26\"],[1.0,\"#f0f921\"]],\"type\":\"surface\"}],\"table\":[{\"cells\":{\"fill\":{\"color\":\"#EBF0F8\"},\"line\":{\"color\":\"white\"}},\"header\":{\"fill\":{\"color\":\"#C8D4E3\"},\"line\":{\"color\":\"white\"}},\"type\":\"table\"}]},\"layout\":{\"annotationdefaults\":{\"arrowcolor\":\"#2a3f5f\",\"arrowhead\":0,\"arrowwidth\":1},\"autotypenumbers\":\"strict\",\"coloraxis\":{\"colorbar\":{\"outlinewidth\":0,\"ticks\":\"\"}},\"colorscale\":{\"diverging\":[[0,\"#8e0152\"],[0.1,\"#c51b7d\"],[0.2,\"#de77ae\"],[0.3,\"#f1b6da\"],[0.4,\"#fde0ef\"],[0.5,\"#f7f7f7\"],[0.6,\"#e6f5d0\"],[0.7,\"#b8e186\"],[0.8,\"#7fbc41\"],[0.9,\"#4d9221\"],[1,\"#276419\"]],\"sequential\":[[0.0,\"#0d0887\"],[0.1111111111111111,\"#46039f\"],[0.2222222222222222,\"#7201a8\"],[0.3333333333333333,\"#9c179e\"],[0.4444444444444444,\"#bd3786\"],[0.5555555555555556,\"#d8576b\"],[0.6666666666666666,\"#ed7953\"],[0.7777777777777778,\"#fb9f3a\"],[0.8888888888888888,\"#fdca26\"],[1.0,\"#f0f921\"]],\"sequentialminus\":[[0.0,\"#0d0887\"],[0.1111111111111111,\"#46039f\"],[0.2222222222222222,\"#7201a8\"],[0.3333333333333333,\"#9c179e\"],[0.4444444444444444,\"#bd3786\"],[0.5555555555555556,\"#d8576b\"],[0.6666666666666666,\"#ed7953\"],[0.7777777777777778,\"#fb9f3a\"],[0.8888888888888888,\"#fdca26\"],[1.0,\"#f0f921\"]]},\"colorway\":[\"#636efa\",\"#EF553B\",\"#00cc96\",\"#ab63fa\",\"#FFA15A\",\"#19d3f3\",\"#FF6692\",\"#B6E880\",\"#FF97FF\",\"#FECB52\"],\"font\":{\"color\":\"#2a3f5f\"},\"geo\":{\"bgcolor\":\"white\",\"lakecolor\":\"white\",\"landcolor\":\"#E5ECF6\",\"showlakes\":true,\"showland\":true,\"subunitcolor\":\"white\"},\"hoverlabel\":{\"align\":\"left\"},\"hovermode\":\"closest\",\"mapbox\":{\"style\":\"light\"},\"paper_bgcolor\":\"white\",\"plot_bgcolor\":\"#E5ECF6\",\"polar\":{\"angularaxis\":{\"gridcolor\":\"white\",\"linecolor\":\"white\",\"ticks\":\"\"},\"bgcolor\":\"#E5ECF6\",\"radialaxis\":{\"gridcolor\":\"white\",\"linecolor\":\"white\",\"ticks\":\"\"}},\"scene\":{\"xaxis\":{\"backgroundcolor\":\"#E5ECF6\",\"gridcolor\":\"white\",\"gridwidth\":2,\"linecolor\":\"white\",\"showbackground\":true,\"ticks\":\"\",\"zerolinecolor\":\"white\"},\"yaxis\":{\"backgroundcolor\":\"#E5ECF6\",\"gridcolor\":\"white\",\"gridwidth\":2,\"linecolor\":\"white\",\"showbackground\":true,\"ticks\":\"\",\"zerolinecolor\":\"white\"},\"zaxis\":{\"backgroundcolor\":\"#E5ECF6\",\"gridcolor\":\"white\",\"gridwidth\":2,\"linecolor\":\"white\",\"showbackground\":true,\"ticks\":\"\",\"zerolinecolor\":\"white\"}},\"shapedefaults\":{\"line\":{\"color\":\"#2a3f5f\"}},\"ternary\":{\"aaxis\":{\"gridcolor\":\"white\",\"linecolor\":\"white\",\"ticks\":\"\"},\"baxis\":{\"gridcolor\":\"white\",\"linecolor\":\"white\",\"ticks\":\"\"},\"bgcolor\":\"#E5ECF6\",\"caxis\":{\"gridcolor\":\"white\",\"linecolor\":\"white\",\"ticks\":\"\"}},\"title\":{\"x\":0.05},\"xaxis\":{\"automargin\":true,\"gridcolor\":\"white\",\"linecolor\":\"white\",\"ticks\":\"\",\"title\":{\"standoff\":15},\"zerolinecolor\":\"white\",\"zerolinewidth\":2},\"yaxis\":{\"automargin\":true,\"gridcolor\":\"white\",\"linecolor\":\"white\",\"ticks\":\"\",\"title\":{\"standoff\":15},\"zerolinecolor\":\"white\",\"zerolinewidth\":2}}},\"xaxis\":{\"anchor\":\"y3\",\"domain\":[0.0,1.0],\"matches\":\"x4\",\"showticklabels\":false,\"title\":{\"text\":\"\"}},\"yaxis\":{\"anchor\":\"x\",\"domain\":[0.7649999999999999,0.9999999999999999],\"title\":{\"text\":\"\"},\"tickvals\":[0,1,2,3,4,5,6,7,8],\"ticktext\":[\"UKESM1-0-LL\",\"NorESM2-MM\",\"MPI-ESM1-2-HR\",\"EC-Earth3\",\"CNRM-ESM2-1\",\"CMCC-ESM2\",\"CESM2\",\"ACCESS-ESM1.5\",\"ACCESS-CM2\"]},\"xaxis2\":{\"anchor\":\"y2\",\"domain\":[0.0,1.0],\"matches\":\"x4\",\"showticklabels\":false},\"yaxis2\":{\"anchor\":\"x2\",\"domain\":[0.51,0.745],\"tickvals\":[0,1,2,3,4,5,6,7,8],\"ticktext\":[\"UKESM1-0-LL\",\"NorESM2-MM\",\"MPI-ESM1-2-HR\",\"EC-Earth3\",\"CNRM-ESM2-1\",\"CMCC-ESM2\",\"CESM2\",\"ACCESS-ESM1.5\",\"ACCESS-CM2\"]},\"xaxis3\":{\"anchor\":\"y3\",\"domain\":[0.0,1.0],\"matches\":\"x4\",\"showticklabels\":false},\"yaxis3\":{\"anchor\":\"x3\",\"domain\":[0.255,0.49],\"tickvals\":[0,1,2,3,4,5,6,7,8],\"ticktext\":[\"UKESM1-0-LL\",\"NorESM2-MM\",\"MPI-ESM1-2-HR\",\"EC-Earth3\",\"CNRM-ESM2-1\",\"CMCC-ESM2\",\"CESM2\",\"ACCESS-ESM1.5\",\"ACCESS-CM2\"]},\"xaxis4\":{\"anchor\":\"y4\",\"domain\":[0.0,1.0]},\"yaxis4\":{\"anchor\":\"x4\",\"domain\":[0.0,0.235],\"tickvals\":[0,1,2,3,4,5,6,7,8],\"ticktext\":[\"UKESM1-0-LL\",\"NorESM2-MM\",\"MPI-ESM1-2-HR\",\"EC-Earth3\",\"CNRM-ESM2-1\",\"CMCC-ESM2\",\"CESM2\",\"ACCESS-ESM1.5\",\"ACCESS-CM2\"]},\"legend\":{\"title\":{\"text\":\"Global Warming Level\"},\"x\":0.85,\"y\":0.98},\"width\":1200,\"height\":800,\"annotations\":[{\"showarrow\":false,\"text\":\"<b>Year<b>\",\"x\":0.5,\"xref\":\"x domain\",\"y\":-3.5,\"yref\":\"y domain\"},{\"showarrow\":false,\"text\":\"<b>Climate Model<b>\",\"textangle\":-90,\"x\":-0.13,\"xref\":\"x domain\",\"y\":-1.5,\"yref\":\"y domain\"}]},                        {\"responsive\": true}                    ).then(function(){\n",
       "                            \n",
       "var gd = document.getElementById('1edf2bde-b03a-41a5-b03e-23c73348981c');\n",
       "var x = new MutationObserver(function (mutations, observer) {{\n",
       "        var display = window.getComputedStyle(gd).display;\n",
       "        if (!display || display === 'none') {{\n",
       "            console.log([gd, 'removed!']);\n",
       "            Plotly.purge(gd);\n",
       "            observer.disconnect();\n",
       "        }}\n",
       "}});\n",
       "\n",
       "// Listen for the removal of the full notebook cells\n",
       "var notebookContainer = gd.closest('#notebook-container');\n",
       "if (notebookContainer) {{\n",
       "    x.observe(notebookContainer, {childList: true});\n",
       "}}\n",
       "\n",
       "// Listen for the clearing of the current output cell\n",
       "var outputEl = gd.closest('.output');\n",
       "if (outputEl) {{\n",
       "    x.observe(outputEl, {childList: true});\n",
       "}}\n",
       "\n",
       "                        })                };                });            </script>        </div>"
      ]
     },
     "metadata": {},
     "output_type": "display_data"
    }
   ],
   "source": [
    "fig = make_subplots(\n",
    "    rows=4,\n",
    "    cols=1,\n",
    "    shared_xaxes=True,\n",
    "    vertical_spacing=0.02\n",
    ")\n",
    "\n",
    "# GWL 1.0\n",
    "fig.add_trace(\n",
    "    go.Scatter(\n",
    "        xaxis = 'x1',\n",
    "        yaxis = 'y1',\n",
    "        y=w10.x,\n",
    "        x=w10.start_year,\n",
    "        mode='markers',\n",
    "        marker={'size': 10, 'color': 'blue'},\n",
    "        name='1.0\\u00B0C',\n",
    "        error_x={\n",
    "            'thickness': 12,\n",
    "            'width': 6,\n",
    "            'type': 'data',\n",
    "            'symmetric': False,\n",
    "            'array': w10.end_year - w10.start_year,\n",
    "            'arrayminus': w10.start_year - w10.start_year\n",
    "        },\n",
    "    ),\n",
    "    row=1,\n",
    "    col=1,\n",
    ")\n",
    "# GWL 1.5\n",
    "fig.add_trace(\n",
    "    go.Scatter(\n",
    "        xaxis = 'x1',\n",
    "        yaxis = 'y1',\n",
    "        y=w15.x,\n",
    "        x=w15.start_year,\n",
    "        mode='markers',\n",
    "        marker={'size': 10, 'color': 'green'},\n",
    "        name='1.5\\u00B0C',\n",
    "        error_x={\n",
    "            'thickness': 12,\n",
    "            'width': 6,\n",
    "            'type': 'data',\n",
    "            'symmetric': False,\n",
    "            'array': w15.end_year - w15.start_year,\n",
    "            'arrayminus': w15.start_year - w15.start_year\n",
    "        },\n",
    "    ),\n",
    "    row=2,\n",
    "    col=1,\n",
    ")\n",
    "# GWL 2.0\n",
    "fig.add_trace(\n",
    "    go.Scatter(\n",
    "        xaxis = 'x2',\n",
    "        yaxis = 'y2',\n",
    "        y=w20.x,\n",
    "        x=w20.start_year,\n",
    "        mode='markers',\n",
    "        marker={'size': 10, 'color': 'orange'},\n",
    "        name='2.0\\u00B0C',\n",
    "        error_x={\n",
    "            'thickness': 12,\n",
    "            'width': 6,\n",
    "            'type': 'data',\n",
    "            'symmetric': False,\n",
    "            'array': w20.end_year - w20.start_year,\n",
    "            'arrayminus': w20.start_year - w20.start_year\n",
    "        },\n",
    "    ),\n",
    "    row=3,\n",
    "    col=1,\n",
    ")\n",
    "# GWL 3.0\n",
    "fig.add_trace(\n",
    "    go.Scatter(\n",
    "        xaxis = 'x3',\n",
    "        yaxis = 'y3',\n",
    "        y=w30.x,\n",
    "        x=w30.start_year,\n",
    "        mode='markers',\n",
    "        marker={'size': 10, 'color': 'red'},\n",
    "        name='3.0\\u00B0C',\n",
    "        error_x={\n",
    "            'thickness': 12,\n",
    "            'width': 6,\n",
    "            'type': 'data',\n",
    "            'symmetric': False,\n",
    "            'array': w30.end_year - w30.start_year,\n",
    "            'arrayminus': w30.start_year - w30.start_year\n",
    "        },\n",
    "    ),\n",
    "    row=4,\n",
    "    col=1,\n",
    ")\n",
    "fig.update_layout(\n",
    "    width=1200,\n",
    "    height=800,\n",
    "#    title='Date-Range for Different Warming Levels',\n",
    "#    titlefont=dict(size=24, color='black', family='Arial, sans-serif'),\n",
    "    yaxis_title = '',\n",
    "    xaxis_title = '',\n",
    "    legend_title_text='Global Warming Level',\n",
    "    legend = dict(x=0.85, y=0.98),\n",
    "    xaxis=dict(anchor=\"y3\"),\n",
    ")\n",
    "fig.update_yaxes(tickvals=w10.index, ticktext=w10.model)\n",
    "fig.add_annotation(\n",
    "    xref=\"x domain\",\n",
    "    yref=\"y domain\",\n",
    "    x=0.5,\n",
    "    y=-3.5,\n",
    "    text=\"<b>Year<b>\",\n",
    "    showarrow=False\n",
    ")\n",
    "fig.add_annotation(\n",
    "    xref=\"x domain\",\n",
    "    yref=\"y domain\",\n",
    "    x=-0.13,\n",
    "    y=-1.5,\n",
    "    textangle=-90,\n",
    "    text=\"<b>Climate Model<b>\",\n",
    "    showarrow=False\n",
    ")\n",
    "fig.show()"
   ]
  },
  {
   "cell_type": "code",
   "execution_count": null,
   "id": "a67acf4a",
   "metadata": {},
   "outputs": [],
   "source": []
  }
 ],
 "metadata": {
  "kernelspec": {
   "display_name": "Python 3 (ipykernel)",
   "language": "python",
   "name": "python3"
  },
  "language_info": {
   "codemirror_mode": {
    "name": "ipython",
    "version": 3
   },
   "file_extension": ".py",
   "mimetype": "text/x-python",
   "name": "python",
   "nbconvert_exporter": "python",
   "pygments_lexer": "ipython3",
   "version": "3.9.12"
  }
 },
 "nbformat": 4,
 "nbformat_minor": 5
}
