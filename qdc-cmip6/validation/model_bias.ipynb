{
 "cells": [
  {
   "cell_type": "code",
   "execution_count": null,
   "id": "a36f6ffb",
   "metadata": {
    "execution": {
     "iopub.execute_input": "2024-08-22T01:39:33.284976Z",
     "iopub.status.busy": "2024-08-22T01:39:33.284556Z",
     "iopub.status.idle": "2024-08-22T01:40:59.056252Z",
     "shell.execute_reply": "2024-08-22T01:40:59.055314Z"
    },
    "papermill": {
     "duration": 85.790939,
     "end_time": "2024-08-22T01:40:59.059700",
     "exception": false,
     "start_time": "2024-08-22T01:39:33.268761",
     "status": "completed"
    },
    "tags": []
   },
   "outputs": [],
   "source": [
    "import glob\n",
    "import sys\n",
    "import warnings\n",
    "warnings.filterwarnings('ignore')\n",
    "\n",
    "import xarray as xr\n",
    "import cmocean\n",
    "\n",
    "sys.path.append('/g/data/xv83/quantile-mapping/qq-workflows')\n",
    "import validation\n",
    "sys.path.append('/g/data/xv83/quantile-mapping/qqscale')\n",
    "import utils"
   ]
  },
  {
   "cell_type": "code",
   "execution_count": null,
   "id": "7ce75287",
   "metadata": {},
   "outputs": [],
   "source": [
    "# Required parameters\n",
    "\n",
    "assert 'model' in locals(), \"Must provide the name of a GCM (option -p model {model-name})\""
   ]
  },
  {
   "cell_type": "code",
   "execution_count": null,
   "id": "2b52577c",
   "metadata": {
    "execution": {
     "iopub.execute_input": "2024-08-22T01:40:59.079510Z",
     "iopub.status.busy": "2024-08-22T01:40:59.079142Z",
     "iopub.status.idle": "2024-08-22T01:40:59.084529Z",
     "shell.execute_reply": "2024-08-22T01:40:59.084183Z"
    },
    "papermill": {
     "duration": 0.014993,
     "end_time": "2024-08-22T01:40:59.085631",
     "exception": false,
     "start_time": "2024-08-22T01:40:59.070638",
     "status": "completed"
    },
    "tags": []
   },
   "outputs": [],
   "source": [
    "def get_obs_files(obs, var):\n",
    "    \"\"\"Get obs data\"\"\"\n",
    "\n",
    "    if obs == 'BARRA-R2':\n",
    "        if var in ['hursmin', 'hursmax']:\n",
    "            target_files = sorted(glob.glob(f'/g/data/ia39/australian-climate-service/test-data/observations/BARRA2/output/reanalysis/AUS-11/BOM/ERA5/historical/hres/BARRA-R2/v1/day/{var}/v20240516/*.nc'))\n",
    "        else:\n",
    "            target_files = sorted(glob.glob(f\"/g/data/ob53/BARRA2/output/reanalysis/AUS-11/BOM/ERA5/historical/hres/BARRA-R2/v1/day/{var}/latest/*.nc\"))\n",
    "\n",
    "    return target_files[72:432]\n",
    "    \n",
    "    \n",
    "def get_model_files(model, var):\n",
    "    \"\"\"Get model data\"\"\"\n",
    "    \n",
    "    if model == \"ACCESS-CM2\":\n",
    "        hist_files = sorted(glob.glob(f\"/g/data/fs38/publications/CMIP6/CMIP/CSIRO-ARCCSS/ACCESS-CM2/historical/r4i1p1f1/day/{var}/gn/latest/*.nc\"))\n",
    "    elif model == \"EC-Earth3\":\n",
    "        hist_files = sorted(glob.glob(f\"/g/data/oi10/replicas/CMIP6/CMIP/EC-Earth-Consortium/EC-Earth3/historical/r1i1p1f1/day/{var}/gr/v20200310/*.nc\"))        \n",
    "    elif model == \"CMCC-ESM2\":\n",
    "        hist_files = sorted(glob.glob(f\"/g/data/oi10/replicas/CMIP6/CMIP/CMCC/CMCC-ESM2/historical/r1i1p1f1/day/{var}/gn/v20210114/*.nc\"))        \n",
    "          \n",
    "    return hist_files"
   ]
  },
  {
   "cell_type": "code",
   "execution_count": null,
   "id": "f7bf139b",
   "metadata": {
    "execution": {
     "iopub.execute_input": "2024-08-22T01:40:59.097784Z",
     "iopub.status.busy": "2024-08-22T01:40:59.097649Z",
     "iopub.status.idle": "2024-08-22T01:40:59.106554Z",
     "shell.execute_reply": "2024-08-22T01:40:59.106215Z"
    },
    "papermill": {
     "duration": 0.015864,
     "end_time": "2024-08-22T01:40:59.108042",
     "exception": false,
     "start_time": "2024-08-22T01:40:59.092178",
     "status": "completed"
    },
    "tags": []
   },
   "outputs": [],
   "source": [
    "hist_units = {\n",
    "    'rsds': \"W m-2\",\n",
    "    'tasmin': 'K',\n",
    "    'tasmax': 'K',\n",
    "    'hursmin': '%',\n",
    "    'hursmax': '%',\n",
    "    'sfcWind': 'm s-1',\n",
    "    'sfcWindmax': 'm s-1',\n",
    "}\n",
    "\n",
    "target_units = {\n",
    "    'rsds': \"W m-2\",\n",
    "    'tasmin': 'K',\n",
    "    'tasmax': 'K',\n",
    "    'hursmin': '%',\n",
    "    'hursmax': '%',\n",
    "    'sfcWind': 'm s-1',\n",
    "    'sfcWindmax': 'm s-1',\n",
    "}\n",
    "\n",
    "output_units = {\n",
    "    'rsds': \"W m-2\",\n",
    "    'tasmin': 'C',\n",
    "    'tasmax': 'C',\n",
    "    'hursmin': '%',\n",
    "    'hursmax': '%',\n",
    "    'sfcWind': 'm s-1',\n",
    "    'sfcWindmax': 'm s-1',\n",
    "}\n",
    "\n",
    "clim_cbar = {\n",
    "    'rsds': cmocean.cm.solar,\n",
    "    'tasmin': cmocean.cm.thermal,\n",
    "    'tasmax': cmocean.cm.thermal,\n",
    "    'hursmin': cmocean.cm.thermal,\n",
    "    'hursmax': cmocean.cm.thermal,\n",
    "    'sfcWind': cmocean.cm.speed,\n",
    "    'sfcWindmax': cmocean.cm.speed,\n",
    "}\n",
    "\n",
    "clim_levels = {\n",
    "    'rsds': [60, 80, 100, 120, 140, 160, 180, 200, 220, 240, 260, 280, 300, 320, 340],\n",
    "    'tasmin': [-2, 0, 2, 4, 6, 8, 10, 12, 14, 16, 18, 20, 22, 24, 26, 28, 30],\n",
    "    'tasmax': [5, 8, 11, 14, 17, 20, 23, 26, 29, 31, 34, 37, 40],\n",
    "    'hursmin': [5, 10, 15 ,20, 25, 30, 35, 40, 45, 50, 55, 60, 65, 70, 75, 80],\n",
    "    'hursmax': [25, 30, 35, 40, 45, 50, 55, 60, 65, 70, 75, 80, 85, 90, 95],\n",
    "    'sfcWind': [0, 1, 2, 3, 4, 5, 6, 7, 8, 9, 10],\n",
    "    'sfcWindmax': [0, 1, 2, 3, 4, 5, 6, 7, 8, 9, 10, 11, 12],\n",
    "}\n",
    "\n",
    "diff_cbar = {\n",
    "    'rsds': 'RdBu_r',\n",
    "    'tasmin': 'RdBu_r',\n",
    "    'tasmax': 'RdBu_r',\n",
    "    'hursmin': 'RdBu_r',\n",
    "    'hursmax': 'RdBu_r',\n",
    "    'sfcWind': 'RdBu_r',\n",
    "    'sfcWindmax': 'RdBu_r',\n",
    "}\n",
    "\n",
    "ratio_levels = [-40, -35, -30, -25, -20, -15, -10, -5, 0, 5, 10, 15, 20, 25, 30, 35, 40]\n",
    "\n",
    "diff_levels = {\n",
    "    'rsds': [-18, -15, -12, -9, -6, -3, 0, 3, 6, 9, 12, 15, 18],\n",
    "    'tasmin': [-5, -4, -3, -2, -1, 0, 1, 2, 3, 4, 5],\n",
    "    'tasmax': [-5, -4, -3, -2, -1, 0, 1, 2, 3, 4, 5],\n",
    "    'hursmin': [-12, -10, -8, -6, -4, -2, 0, 2, 4, 6, 8, 10, 12],\n",
    "    'hursmax': [-12, -10, -8, -6, -4, -2, 0, 2, 4, 6, 8, 10, 12],\n",
    "    'sfcWind': [-2.0, -1.6, -1.2, -0.8, -0.4, 0, 0.4, 0.8, 1.2, 1.6, 2.0],\n",
    "    'sfcWindmax': [-2.0, -1.6, -1.2, -0.8, -0.4, 0, 0.4, 0.8, 1.2, 1.6, 2.0],\n",
    "}"
   ]
  },
  {
   "cell_type": "code",
   "execution_count": null,
   "id": "8e68f7a2",
   "metadata": {
    "execution": {
     "iopub.execute_input": "2024-08-22T01:40:59.118695Z",
     "iopub.status.busy": "2024-08-22T01:40:59.118566Z",
     "iopub.status.idle": "2024-08-22T01:40:59.122712Z",
     "shell.execute_reply": "2024-08-22T01:40:59.122386Z"
    },
    "papermill": {
     "duration": 0.010872,
     "end_time": "2024-08-22T01:40:59.124055",
     "exception": false,
     "start_time": "2024-08-22T01:40:59.113183",
     "status": "completed"
    },
    "tags": []
   },
   "outputs": [],
   "source": [
    "def get_data(var, model, obs, quantiles=[0.25, 0.5, 0.75]):\n",
    "    \"\"\"Plot the comparison\"\"\"\n",
    "\n",
    "    hist_files = get_model_files(model, var)\n",
    "    ds_hist = utils.read_data(\n",
    "        hist_files,\n",
    "        var,\n",
    "        time_bounds=[\"1985\", \"2014\"],\n",
    "        input_units=hist_units[var],\n",
    "        output_units=output_units[var],\n",
    "    )\n",
    "    hist_pcts = ds_hist[var].quantile(quantiles, dim='time', keep_attrs=True).compute()\n",
    "    \n",
    "    target_files = get_obs_files(obs, var)\n",
    "    ds_target = utils.read_data(\n",
    "        target_files,\n",
    "        var,\n",
    "        time_bounds=[\"1985\", \"2014\"],\n",
    "        input_units=target_units[var],\n",
    "        output_units=output_units[var],\n",
    "    )\n",
    "    try:\n",
    "        ds_target = ds_target.drop_vars('crs')\n",
    "    except ValueError:\n",
    "        pass\n",
    "    target_pcts = ds_target[var].quantile(quantiles, dim='time', keep_attrs=True).compute()\n",
    "    \n",
    "    comparison_ratio = validation.spatial_comparison_data(\n",
    "        target_pcts,\n",
    "        hist_pcts,\n",
    "        'multiplicative'\n",
    "    )\n",
    "    comparison_diff = validation.spatial_comparison_data(\n",
    "        target_pcts,\n",
    "        hist_pcts,\n",
    "        'additive'\n",
    "    )\n",
    "    \n",
    "    return hist_pcts, target_pcts, comparison_diff, comparison_ratio"
   ]
  },
  {
   "cell_type": "markdown",
   "id": "656ad818",
   "metadata": {
    "papermill": {
     "duration": 0.004723,
     "end_time": "2024-08-22T01:40:59.133547",
     "exception": false,
     "start_time": "2024-08-22T01:40:59.128824",
     "status": "completed"
    },
    "tags": []
   },
   "source": [
    "### rsds"
   ]
  },
  {
   "cell_type": "code",
   "execution_count": null,
   "id": "4bf216b7",
   "metadata": {
    "execution": {
     "iopub.execute_input": "2024-08-22T01:40:59.143891Z",
     "iopub.status.busy": "2024-08-22T01:40:59.143763Z",
     "iopub.status.idle": "2024-08-22T01:51:16.238014Z",
     "shell.execute_reply": "2024-08-22T01:51:16.237148Z"
    },
    "papermill": {
     "duration": 617.101912,
     "end_time": "2024-08-22T01:51:16.240407",
     "exception": false,
     "start_time": "2024-08-22T01:40:59.138495",
     "status": "completed"
    },
    "tags": []
   },
   "outputs": [],
   "source": [
    "hist_pcts, target_pcts, comparison_diff, comparison_ratio = get_data(\"rsds\", model, \"BARRA-R2\")"
   ]
  },
  {
   "cell_type": "code",
   "execution_count": null,
   "id": "973c48f2",
   "metadata": {
    "execution": {
     "iopub.execute_input": "2024-08-22T01:51:16.255297Z",
     "iopub.status.busy": "2024-08-22T01:51:16.254474Z",
     "iopub.status.idle": "2024-08-22T01:51:19.826501Z",
     "shell.execute_reply": "2024-08-22T01:51:19.825854Z"
    },
    "papermill": {
     "duration": 3.582038,
     "end_time": "2024-08-22T01:51:19.829421",
     "exception": false,
     "start_time": "2024-08-22T01:51:16.247383",
     "status": "completed"
    },
    "tags": []
   },
   "outputs": [],
   "source": [
    "for quantile in [0.25, 0.5, 0.75]:\n",
    "    percentile = quantile * 100\n",
    "    print(f'percentile: {percentile}')\n",
    "    validation.spatial_comparison_plot(\n",
    "        target_pcts.sel(quantile=quantile),\n",
    "        hist_pcts.sel(quantile=quantile),\n",
    "        comparison_diff.sel(quantile=quantile),\n",
    "        'BARRA-R2',\n",
    "        'ACCESS-CM2',\n",
    "        clim_cbar[\"rsds\"],\n",
    "        diff_cbar[\"rsds\"],\n",
    "        clim_levels[\"rsds\"],\n",
    "        diff_levels[\"rsds\"],\n",
    "        'additive',\n",
    "        land_only=True,\n",
    "        clim_extend='neither',\n",
    "        print_mav=True,\n",
    "    )"
   ]
  },
  {
   "cell_type": "code",
   "execution_count": null,
   "id": "bd18b23f",
   "metadata": {
    "execution": {
     "iopub.execute_input": "2024-08-22T01:51:19.847353Z",
     "iopub.status.busy": "2024-08-22T01:51:19.847180Z",
     "iopub.status.idle": "2024-08-22T01:51:22.565873Z",
     "shell.execute_reply": "2024-08-22T01:51:22.565553Z"
    },
    "papermill": {
     "duration": 2.72795,
     "end_time": "2024-08-22T01:51:22.567079",
     "exception": false,
     "start_time": "2024-08-22T01:51:19.839129",
     "status": "completed"
    },
    "scrolled": true,
    "tags": []
   },
   "outputs": [],
   "source": [
    "for quantile in [0.25, 0.5, 0.75]:\n",
    "    percentile = quantile * 100\n",
    "    print(f'percentile: {percentile}')\n",
    "    validation.spatial_comparison_plot(\n",
    "        target_pcts.sel(quantile=quantile),\n",
    "        hist_pcts.sel(quantile=quantile),\n",
    "        comparison_ratio.sel(quantile=quantile),\n",
    "        'BARRA-R2',\n",
    "        'ACCESS-CM2',\n",
    "        clim_cbar[\"rsds\"],\n",
    "        diff_cbar[\"rsds\"],\n",
    "        clim_levels[\"rsds\"],\n",
    "        ratio_levels,\n",
    "        'multiplicative',\n",
    "        land_only=True,\n",
    "        clim_extend='neither',\n",
    "        print_mav=True,\n",
    "    )"
   ]
  },
  {
   "cell_type": "markdown",
   "id": "1738311c",
   "metadata": {
    "papermill": {
     "duration": 0.007262,
     "end_time": "2024-08-22T01:51:22.582574",
     "exception": false,
     "start_time": "2024-08-22T01:51:22.575312",
     "status": "completed"
    },
    "tags": []
   },
   "source": [
    "### tasmin"
   ]
  },
  {
   "cell_type": "code",
   "execution_count": null,
   "id": "8f41add6",
   "metadata": {
    "execution": {
     "iopub.execute_input": "2024-08-22T01:51:22.597786Z",
     "iopub.status.busy": "2024-08-22T01:51:22.597657Z",
     "iopub.status.idle": "2024-08-22T02:02:56.951426Z",
     "shell.execute_reply": "2024-08-22T02:02:56.950443Z"
    },
    "papermill": {
     "duration": 694.364135,
     "end_time": "2024-08-22T02:02:56.953882",
     "exception": false,
     "start_time": "2024-08-22T01:51:22.589747",
     "status": "completed"
    },
    "tags": []
   },
   "outputs": [],
   "source": [
    "hist_pcts, target_pcts, comparison_diff, comparison_ratio = get_data(\"tasmin\", model, \"BARRA-R2\")"
   ]
  },
  {
   "cell_type": "code",
   "execution_count": null,
   "id": "e7e5e3f2",
   "metadata": {
    "execution": {
     "iopub.execute_input": "2024-08-22T02:02:56.973527Z",
     "iopub.status.busy": "2024-08-22T02:02:56.973192Z",
     "iopub.status.idle": "2024-08-22T02:02:59.841802Z",
     "shell.execute_reply": "2024-08-22T02:02:59.841234Z"
    },
    "papermill": {
     "duration": 2.878968,
     "end_time": "2024-08-22T02:02:59.843083",
     "exception": false,
     "start_time": "2024-08-22T02:02:56.964115",
     "status": "completed"
    },
    "tags": []
   },
   "outputs": [],
   "source": [
    "for quantile in [0.25, 0.5, 0.75]:\n",
    "    percentile = quantile * 100\n",
    "    print(f'percentile: {percentile}')\n",
    "    validation.spatial_comparison_plot(\n",
    "        target_pcts.sel(quantile=quantile),\n",
    "        hist_pcts.sel(quantile=quantile),\n",
    "        comparison_diff.sel(quantile=quantile),\n",
    "        'BARRA-R2',\n",
    "        'ACCESS-CM2',\n",
    "        clim_cbar[\"tasmin\"],\n",
    "        diff_cbar[\"tasmin\"],\n",
    "        clim_levels[\"tasmin\"],\n",
    "        diff_levels[\"tasmin\"],\n",
    "        'additive',\n",
    "        land_only=True,\n",
    "        clim_extend='neither',\n",
    "        print_mav=True,\n",
    "    )"
   ]
  },
  {
   "cell_type": "code",
   "execution_count": null,
   "id": "e8fd6e9c",
   "metadata": {
    "execution": {
     "iopub.execute_input": "2024-08-22T02:02:59.862534Z",
     "iopub.status.busy": "2024-08-22T02:02:59.862260Z",
     "iopub.status.idle": "2024-08-22T02:03:02.551838Z",
     "shell.execute_reply": "2024-08-22T02:03:02.551478Z"
    },
    "papermill": {
     "duration": 2.700135,
     "end_time": "2024-08-22T02:03:02.553169",
     "exception": false,
     "start_time": "2024-08-22T02:02:59.853034",
     "status": "completed"
    },
    "tags": []
   },
   "outputs": [],
   "source": [
    "for quantile in [0.25, 0.5, 0.75]:\n",
    "    percentile = quantile * 100\n",
    "    print(f'percentile: {percentile}')\n",
    "    validation.spatial_comparison_plot(\n",
    "        target_pcts.sel(quantile=quantile),\n",
    "        hist_pcts.sel(quantile=quantile),\n",
    "        comparison_ratio.sel(quantile=quantile),\n",
    "        'BARRA-R2',\n",
    "        'ACCESS-CM2',\n",
    "        clim_cbar[\"tasmin\"],\n",
    "        diff_cbar[\"tasmin\"],\n",
    "        clim_levels[\"tasmin\"],\n",
    "        ratio_levels,\n",
    "        'multiplicative',\n",
    "        land_only=True,\n",
    "        clim_extend='neither',\n",
    "        print_mav=True,\n",
    "    )"
   ]
  },
  {
   "cell_type": "markdown",
   "id": "c42b799f",
   "metadata": {
    "papermill": {
     "duration": 0.009809,
     "end_time": "2024-08-22T02:03:02.574805",
     "exception": false,
     "start_time": "2024-08-22T02:03:02.564996",
     "status": "completed"
    },
    "tags": []
   },
   "source": [
    "### tasmax"
   ]
  },
  {
   "cell_type": "code",
   "execution_count": null,
   "id": "99f80281",
   "metadata": {
    "execution": {
     "iopub.execute_input": "2024-08-22T02:03:02.596808Z",
     "iopub.status.busy": "2024-08-22T02:03:02.596637Z",
     "iopub.status.idle": "2024-08-22T02:14:26.574584Z",
     "shell.execute_reply": "2024-08-22T02:14:26.573645Z"
    },
    "papermill": {
     "duration": 683.991365,
     "end_time": "2024-08-22T02:14:26.577345",
     "exception": false,
     "start_time": "2024-08-22T02:03:02.585980",
     "status": "completed"
    },
    "tags": []
   },
   "outputs": [],
   "source": [
    "hist_pcts, target_pcts, comparison_diff, comparison_ratio = get_data(\"tasmax\", model, \"BARRA-R2\")"
   ]
  },
  {
   "cell_type": "code",
   "execution_count": null,
   "id": "6ebc20a4",
   "metadata": {
    "execution": {
     "iopub.execute_input": "2024-08-22T02:14:26.602867Z",
     "iopub.status.busy": "2024-08-22T02:14:26.602642Z",
     "iopub.status.idle": "2024-08-22T02:14:29.551154Z",
     "shell.execute_reply": "2024-08-22T02:14:29.550764Z"
    },
    "papermill": {
     "duration": 2.961452,
     "end_time": "2024-08-22T02:14:29.552571",
     "exception": false,
     "start_time": "2024-08-22T02:14:26.591119",
     "status": "completed"
    },
    "tags": []
   },
   "outputs": [],
   "source": [
    "for quantile in [0.25, 0.5, 0.75]:\n",
    "    percentile = quantile * 100\n",
    "    print(f'percentile: {percentile}')\n",
    "    validation.spatial_comparison_plot(\n",
    "        target_pcts.sel(quantile=quantile),\n",
    "        hist_pcts.sel(quantile=quantile),\n",
    "        comparison_diff.sel(quantile=quantile),\n",
    "        'BARRA-R2',\n",
    "        'ACCESS-CM2',\n",
    "        clim_cbar[\"tasmax\"],\n",
    "        diff_cbar[\"tasmax\"],\n",
    "        clim_levels[\"tasmax\"],\n",
    "        diff_levels[\"tasmax\"],\n",
    "        'additive',\n",
    "        land_only=True,\n",
    "        clim_extend='neither',\n",
    "        print_mav=True,\n",
    "    )"
   ]
  },
  {
   "cell_type": "code",
   "execution_count": null,
   "id": "81a060f0",
   "metadata": {
    "execution": {
     "iopub.execute_input": "2024-08-22T02:14:29.579119Z",
     "iopub.status.busy": "2024-08-22T02:14:29.578696Z",
     "iopub.status.idle": "2024-08-22T02:14:32.639898Z",
     "shell.execute_reply": "2024-08-22T02:14:32.639515Z"
    },
    "papermill": {
     "duration": 3.074857,
     "end_time": "2024-08-22T02:14:32.641280",
     "exception": false,
     "start_time": "2024-08-22T02:14:29.566423",
     "status": "completed"
    },
    "tags": []
   },
   "outputs": [],
   "source": [
    "for quantile in [0.25, 0.5, 0.75]:\n",
    "    percentile = quantile * 100\n",
    "    print(f'percentile: {percentile}')\n",
    "    validation.spatial_comparison_plot(\n",
    "        target_pcts.sel(quantile=quantile),\n",
    "        hist_pcts.sel(quantile=quantile),\n",
    "        comparison_ratio.sel(quantile=quantile),\n",
    "        'BARRA-R2',\n",
    "        'ACCESS-CM2',\n",
    "        clim_cbar[\"tasmax\"],\n",
    "        diff_cbar[\"tasmax\"],\n",
    "        clim_levels[\"tasmax\"],\n",
    "        ratio_levels,\n",
    "        'multiplicative',\n",
    "        land_only=True,\n",
    "        clim_extend='neither',\n",
    "        print_mav=True,\n",
    "    )"
   ]
  },
  {
   "cell_type": "markdown",
   "id": "c1401188",
   "metadata": {
    "papermill": {
     "duration": 0.012025,
     "end_time": "2024-08-22T02:14:32.668260",
     "exception": false,
     "start_time": "2024-08-22T02:14:32.656235",
     "status": "completed"
    },
    "tags": []
   },
   "source": [
    "### sfcWind"
   ]
  },
  {
   "cell_type": "code",
   "execution_count": null,
   "id": "39de0838",
   "metadata": {
    "execution": {
     "iopub.execute_input": "2024-08-22T02:14:32.692997Z",
     "iopub.status.busy": "2024-08-22T02:14:32.692817Z",
     "iopub.status.idle": "2024-08-22T02:24:58.907519Z",
     "shell.execute_reply": "2024-08-22T02:24:58.906486Z"
    },
    "papermill": {
     "duration": 626.229984,
     "end_time": "2024-08-22T02:24:58.910146",
     "exception": false,
     "start_time": "2024-08-22T02:14:32.680162",
     "status": "completed"
    },
    "tags": []
   },
   "outputs": [],
   "source": [
    "hist_pcts, target_pcts, comparison_diff, comparison_ratio = get_data(\"sfcWind\", model, \"BARRA-R2\")"
   ]
  },
  {
   "cell_type": "code",
   "execution_count": null,
   "id": "387a4f4b",
   "metadata": {
    "execution": {
     "iopub.execute_input": "2024-08-22T02:24:58.942154Z",
     "iopub.status.busy": "2024-08-22T02:24:58.941917Z",
     "iopub.status.idle": "2024-08-22T02:25:01.838643Z",
     "shell.execute_reply": "2024-08-22T02:25:01.838273Z"
    },
    "papermill": {
     "duration": 2.912884,
     "end_time": "2024-08-22T02:25:01.840000",
     "exception": false,
     "start_time": "2024-08-22T02:24:58.927116",
     "status": "completed"
    },
    "tags": []
   },
   "outputs": [],
   "source": [
    "for quantile in [0.25, 0.5, 0.75]:\n",
    "    percentile = quantile * 100\n",
    "    print(f'percentile: {percentile}')\n",
    "    validation.spatial_comparison_plot(\n",
    "        target_pcts.sel(quantile=quantile),\n",
    "        hist_pcts.sel(quantile=quantile),\n",
    "        comparison_diff.sel(quantile=quantile),\n",
    "        'BARRA-R2',\n",
    "        'ACCESS-CM2',\n",
    "        clim_cbar[\"sfcWind\"],\n",
    "        diff_cbar[\"sfcWind\"],\n",
    "        clim_levels[\"sfcWind\"],\n",
    "        diff_levels[\"sfcWind\"],\n",
    "        'additive',\n",
    "        land_only=True,\n",
    "        clim_extend='neither',\n",
    "        print_mav=True,\n",
    "    )"
   ]
  },
  {
   "cell_type": "code",
   "execution_count": null,
   "id": "9ab57933",
   "metadata": {
    "execution": {
     "iopub.execute_input": "2024-08-22T02:25:01.870892Z",
     "iopub.status.busy": "2024-08-22T02:25:01.870713Z",
     "iopub.status.idle": "2024-08-22T02:25:04.937062Z",
     "shell.execute_reply": "2024-08-22T02:25:04.936704Z"
    },
    "papermill": {
     "duration": 3.081905,
     "end_time": "2024-08-22T02:25:04.938351",
     "exception": false,
     "start_time": "2024-08-22T02:25:01.856446",
     "status": "completed"
    },
    "tags": []
   },
   "outputs": [],
   "source": [
    "for quantile in [0.25, 0.5, 0.75]:\n",
    "    percentile = quantile * 100\n",
    "    print(f'percentile: {percentile}')\n",
    "    validation.spatial_comparison_plot(\n",
    "        target_pcts.sel(quantile=quantile),\n",
    "        hist_pcts.sel(quantile=quantile),\n",
    "        comparison_ratio.sel(quantile=quantile),\n",
    "        'BARRA-R2',\n",
    "        'ACCESS-CM2',\n",
    "        clim_cbar[\"sfcWind\"],\n",
    "        diff_cbar[\"sfcWind\"],\n",
    "        clim_levels[\"sfcWind\"],\n",
    "        ratio_levels,\n",
    "        'multiplicative',\n",
    "        land_only=True,\n",
    "        clim_extend='neither',\n",
    "        print_mav=True,\n",
    "    )"
   ]
  },
  {
   "cell_type": "markdown",
   "id": "c238061c",
   "metadata": {
    "papermill": {
     "duration": 0.014679,
     "end_time": "2024-08-22T02:25:04.971089",
     "exception": false,
     "start_time": "2024-08-22T02:25:04.956410",
     "status": "completed"
    },
    "tags": []
   },
   "source": [
    "### sfcWindmax"
   ]
  },
  {
   "cell_type": "code",
   "execution_count": null,
   "id": "b9e3bf5b",
   "metadata": {
    "execution": {
     "iopub.execute_input": "2024-08-22T02:25:05.001070Z",
     "iopub.status.busy": "2024-08-22T02:25:05.000899Z",
     "iopub.status.idle": "2024-08-22T02:35:46.935610Z",
     "shell.execute_reply": "2024-08-22T02:35:46.934639Z"
    },
    "papermill": {
     "duration": 641.95244,
     "end_time": "2024-08-22T02:35:46.938072",
     "exception": false,
     "start_time": "2024-08-22T02:25:04.985632",
     "status": "completed"
    },
    "tags": []
   },
   "outputs": [],
   "source": [
    "hist_pcts, target_pcts, comparison_diff, comparison_ratio = get_data(\"sfcWindmax\", model, \"BARRA-R2\")"
   ]
  },
  {
   "cell_type": "code",
   "execution_count": null,
   "id": "ff275264",
   "metadata": {
    "execution": {
     "iopub.execute_input": "2024-08-22T02:35:46.974809Z",
     "iopub.status.busy": "2024-08-22T02:35:46.974582Z",
     "iopub.status.idle": "2024-08-22T02:35:49.919327Z",
     "shell.execute_reply": "2024-08-22T02:35:49.918995Z"
    },
    "papermill": {
     "duration": 2.962562,
     "end_time": "2024-08-22T02:35:49.920549",
     "exception": false,
     "start_time": "2024-08-22T02:35:46.957987",
     "status": "completed"
    },
    "tags": []
   },
   "outputs": [],
   "source": [
    "for quantile in [0.25, 0.5, 0.75]:\n",
    "    percentile = quantile * 100\n",
    "    print(f'percentile: {percentile}')\n",
    "    validation.spatial_comparison_plot(\n",
    "        target_pcts.sel(quantile=quantile),\n",
    "        hist_pcts.sel(quantile=quantile),\n",
    "        comparison_diff.sel(quantile=quantile),\n",
    "        'BARRA-R2',\n",
    "        'ACCESS-CM2',\n",
    "        clim_cbar[\"sfcWindmax\"],\n",
    "        diff_cbar[\"sfcWindmax\"],\n",
    "        clim_levels[\"sfcWindmax\"],\n",
    "        diff_levels[\"sfcWindmax\"],\n",
    "        'additive',\n",
    "        land_only=True,\n",
    "        clim_extend='neither',\n",
    "        print_mav=True,\n",
    "    )"
   ]
  },
  {
   "cell_type": "code",
   "execution_count": null,
   "id": "e0e103ea",
   "metadata": {
    "execution": {
     "iopub.execute_input": "2024-08-22T02:35:49.956872Z",
     "iopub.status.busy": "2024-08-22T02:35:49.956731Z",
     "iopub.status.idle": "2024-08-22T02:35:53.066549Z",
     "shell.execute_reply": "2024-08-22T02:35:53.066165Z"
    },
    "papermill": {
     "duration": 3.128669,
     "end_time": "2024-08-22T02:35:53.067962",
     "exception": false,
     "start_time": "2024-08-22T02:35:49.939293",
     "status": "completed"
    },
    "tags": []
   },
   "outputs": [],
   "source": [
    "for quantile in [0.25, 0.5, 0.75]:\n",
    "    percentile = quantile * 100\n",
    "    print(f'percentile: {percentile}')\n",
    "    validation.spatial_comparison_plot(\n",
    "        target_pcts.sel(quantile=quantile),\n",
    "        hist_pcts.sel(quantile=quantile),\n",
    "        comparison_ratio.sel(quantile=quantile),\n",
    "        'BARRA-R2',\n",
    "        'ACCESS-CM2',\n",
    "        clim_cbar[\"sfcWindmax\"],\n",
    "        diff_cbar[\"sfcWindmax\"],\n",
    "        clim_levels[\"sfcWindmax\"],\n",
    "        ratio_levels,\n",
    "        'multiplicative',\n",
    "        land_only=True,\n",
    "        clim_extend='neither',\n",
    "        print_mav=True,\n",
    "    )"
   ]
  },
  {
   "cell_type": "markdown",
   "id": "8543dca0",
   "metadata": {
    "papermill": {
     "duration": 0.018255,
     "end_time": "2024-08-22T02:35:53.107938",
     "exception": false,
     "start_time": "2024-08-22T02:35:53.089683",
     "status": "completed"
    },
    "tags": []
   },
   "source": [
    "### hursmin"
   ]
  },
  {
   "cell_type": "code",
   "execution_count": null,
   "id": "6636129e",
   "metadata": {
    "execution": {
     "iopub.execute_input": "2024-08-22T02:35:53.145353Z",
     "iopub.status.busy": "2024-08-22T02:35:53.145169Z",
     "iopub.status.idle": "2024-08-22T02:46:13.278254Z",
     "shell.execute_reply": "2024-08-22T02:46:13.277123Z"
    },
    "papermill": {
     "duration": 620.154577,
     "end_time": "2024-08-22T02:46:13.281059",
     "exception": false,
     "start_time": "2024-08-22T02:35:53.126482",
     "status": "completed"
    },
    "tags": []
   },
   "outputs": [],
   "source": [
    "hist_pcts, target_pcts, comparison_diff, comparison_ratio = get_data(\"hursmin\", model, \"BARRA-R2\")"
   ]
  },
  {
   "cell_type": "code",
   "execution_count": null,
   "id": "ca6ca960",
   "metadata": {
    "execution": {
     "iopub.execute_input": "2024-08-22T02:46:13.375564Z",
     "iopub.status.busy": "2024-08-22T02:46:13.375325Z",
     "iopub.status.idle": "2024-08-22T02:46:16.389253Z",
     "shell.execute_reply": "2024-08-22T02:46:16.388882Z"
    },
    "papermill": {
     "duration": 3.057896,
     "end_time": "2024-08-22T02:46:16.390637",
     "exception": false,
     "start_time": "2024-08-22T02:46:13.332741",
     "status": "completed"
    },
    "tags": []
   },
   "outputs": [],
   "source": [
    "for quantile in [0.25, 0.5, 0.75]:\n",
    "    percentile = quantile * 100\n",
    "    print(f'percentile: {percentile}')\n",
    "    validation.spatial_comparison_plot(\n",
    "        target_pcts.sel(quantile=quantile),\n",
    "        hist_pcts.sel(quantile=quantile),\n",
    "        comparison_diff.sel(quantile=quantile),\n",
    "        'BARRA-R2',\n",
    "        'ACCESS-CM2',\n",
    "        clim_cbar[\"hursmin\"],\n",
    "        diff_cbar[\"hursmin\"],\n",
    "        clim_levels[\"hursmin\"],\n",
    "        diff_levels[\"hursmin\"],\n",
    "        'additive',\n",
    "        land_only=True,\n",
    "        clim_extend='neither',\n",
    "        print_mav=True,\n",
    "    )"
   ]
  },
  {
   "cell_type": "code",
   "execution_count": null,
   "id": "f89688bf",
   "metadata": {
    "execution": {
     "iopub.execute_input": "2024-08-22T02:46:16.473410Z",
     "iopub.status.busy": "2024-08-22T02:46:16.473195Z",
     "iopub.status.idle": "2024-08-22T02:46:19.565936Z",
     "shell.execute_reply": "2024-08-22T02:46:19.565548Z"
    },
    "papermill": {
     "duration": 3.136451,
     "end_time": "2024-08-22T02:46:19.567343",
     "exception": false,
     "start_time": "2024-08-22T02:46:16.430892",
     "status": "completed"
    },
    "tags": []
   },
   "outputs": [],
   "source": [
    "for quantile in [0.25, 0.5, 0.75]:\n",
    "    percentile = quantile * 100\n",
    "    print(f'percentile: {percentile}')\n",
    "    validation.spatial_comparison_plot(\n",
    "        target_pcts.sel(quantile=quantile),\n",
    "        hist_pcts.sel(quantile=quantile),\n",
    "        comparison_ratio.sel(quantile=quantile),\n",
    "        'BARRA-R2',\n",
    "        'ACCESS-CM2',\n",
    "        clim_cbar[\"hursmin\"],\n",
    "        diff_cbar[\"hursmin\"],\n",
    "        clim_levels[\"hursmin\"],\n",
    "        ratio_levels,\n",
    "        'multiplicative',\n",
    "        land_only=True,\n",
    "        clim_extend='neither',\n",
    "        print_mav=True,\n",
    "    )"
   ]
  },
  {
   "cell_type": "markdown",
   "id": "a63903c6",
   "metadata": {
    "papermill": {
     "duration": 0.020542,
     "end_time": "2024-08-22T02:46:19.618211",
     "exception": false,
     "start_time": "2024-08-22T02:46:19.597669",
     "status": "completed"
    },
    "tags": []
   },
   "source": [
    "### hursmax"
   ]
  },
  {
   "cell_type": "code",
   "execution_count": null,
   "id": "be77a852",
   "metadata": {
    "execution": {
     "iopub.execute_input": "2024-08-22T02:46:19.659669Z",
     "iopub.status.busy": "2024-08-22T02:46:19.659488Z",
     "iopub.status.idle": "2024-08-22T02:56:37.180308Z",
     "shell.execute_reply": "2024-08-22T02:56:37.031294Z"
    },
    "papermill": {
     "duration": 617.686254,
     "end_time": "2024-08-22T02:56:37.324377",
     "exception": false,
     "start_time": "2024-08-22T02:46:19.638123",
     "status": "completed"
    },
    "tags": []
   },
   "outputs": [],
   "source": [
    "hist_pcts, target_pcts, comparison_diff, comparison_ratio = get_data(\"hursmax\", model, \"BARRA-R2\")"
   ]
  },
  {
   "cell_type": "code",
   "execution_count": null,
   "id": "e79f2b28",
   "metadata": {
    "execution": {
     "iopub.execute_input": "2024-08-22T02:56:37.493093Z",
     "iopub.status.busy": "2024-08-22T02:56:37.492775Z",
     "iopub.status.idle": "2024-08-22T02:56:45.889239Z",
     "shell.execute_reply": "2024-08-22T02:56:45.888469Z"
    },
    "papermill": {
     "duration": 8.467682,
     "end_time": "2024-08-22T02:56:45.892093",
     "exception": false,
     "start_time": "2024-08-22T02:56:37.424411",
     "status": "completed"
    },
    "tags": []
   },
   "outputs": [],
   "source": [
    "for quantile in [0.25, 0.5, 0.75]:\n",
    "    percentile = quantile * 100\n",
    "    print(f'percentile: {percentile}')\n",
    "    validation.spatial_comparison_plot(\n",
    "        target_pcts.sel(quantile=quantile),\n",
    "        hist_pcts.sel(quantile=quantile),\n",
    "        comparison_diff.sel(quantile=quantile),\n",
    "        'BARRA-R2',\n",
    "        'ACCESS-CM2',\n",
    "        clim_cbar[\"hursmax\"],\n",
    "        diff_cbar[\"hursmax\"],\n",
    "        clim_levels[\"hursmax\"],\n",
    "        diff_levels[\"hursmax\"],\n",
    "        'additive',\n",
    "        land_only=True,\n",
    "        clim_extend='max',\n",
    "        print_mav=True,\n",
    "    )"
   ]
  },
  {
   "cell_type": "code",
   "execution_count": null,
   "id": "35fefa8d",
   "metadata": {
    "execution": {
     "iopub.execute_input": "2024-08-22T02:56:45.964403Z",
     "iopub.status.busy": "2024-08-22T02:56:45.964215Z",
     "iopub.status.idle": "2024-08-22T02:56:48.925202Z",
     "shell.execute_reply": "2024-08-22T02:56:48.924827Z"
    },
    "papermill": {
     "duration": 2.994289,
     "end_time": "2024-08-22T02:56:48.926564",
     "exception": false,
     "start_time": "2024-08-22T02:56:45.932275",
     "status": "completed"
    },
    "tags": []
   },
   "outputs": [],
   "source": [
    "for quantile in [0.25, 0.5, 0.75]:\n",
    "    percentile = quantile * 100\n",
    "    print(f'percentile: {percentile}')\n",
    "    validation.spatial_comparison_plot(\n",
    "        target_pcts.sel(quantile=quantile),\n",
    "        hist_pcts.sel(quantile=quantile),\n",
    "        comparison_ratio.sel(quantile=quantile),\n",
    "        'BARRA-R2',\n",
    "        'ACCESS-CM2',\n",
    "        clim_cbar[\"hursmax\"],\n",
    "        diff_cbar[\"hursmax\"],\n",
    "        clim_levels[\"hursmax\"],\n",
    "        ratio_levels,\n",
    "        'multiplicative',\n",
    "        land_only=True,\n",
    "        clim_extend='max',\n",
    "        print_mav=True,\n",
    "    )"
   ]
  },
  {
   "cell_type": "code",
   "execution_count": null,
   "id": "da547ec5",
   "metadata": {
    "papermill": {
     "duration": 0.025401,
     "end_time": "2024-08-22T02:56:48.981349",
     "exception": false,
     "start_time": "2024-08-22T02:56:48.955948",
     "status": "completed"
    },
    "tags": []
   },
   "outputs": [],
   "source": []
  }
 ],
 "metadata": {
  "kernelspec": {
   "display_name": "Python 3 (ipykernel)",
   "language": "python",
   "name": "python3"
  },
  "language_info": {
   "codemirror_mode": {
    "name": "ipython",
    "version": 3
   },
   "file_extension": ".py",
   "mimetype": "text/x-python",
   "name": "python",
   "nbconvert_exporter": "python",
   "pygments_lexer": "ipython3",
   "version": "3.10.4"
  },
  "papermill": {
   "default_parameters": {},
   "duration": 4653.869599,
   "end_time": "2024-08-22T02:56:52.327727",
   "environment_variables": {},
   "exception": null,
   "input_path": "model_bias.ipynb",
   "output_path": "model_bias_ACCESS-CM2.ipynb",
   "parameters": {},
   "start_time": "2024-08-22T01:39:18.458128",
   "version": "2.3.4"
  }
 },
 "nbformat": 4,
 "nbformat_minor": 5
}
