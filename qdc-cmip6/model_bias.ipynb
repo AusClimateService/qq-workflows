{
 "cells": [
  {
   "cell_type": "code",
   "execution_count": null,
   "id": "a36f6ffb",
   "metadata": {
    "execution": {
     "iopub.execute_input": "2024-08-21T06:20:47.844110Z",
     "iopub.status.busy": "2024-08-21T06:20:47.843806Z",
     "iopub.status.idle": "2024-08-21T06:22:10.120882Z",
     "shell.execute_reply": "2024-08-21T06:22:10.119930Z"
    },
    "papermill": {
     "duration": 82.294629,
     "end_time": "2024-08-21T06:22:10.124404",
     "exception": false,
     "start_time": "2024-08-21T06:20:47.829775",
     "status": "completed"
    },
    "tags": []
   },
   "outputs": [],
   "source": [
    "import glob\n",
    "import sys\n",
    "import warnings\n",
    "warnings.filterwarnings('ignore')\n",
    "\n",
    "import xarray as xr\n",
    "import cmocean\n",
    "\n",
    "sys.path.append('/g/data/xv83/quantile-mapping/qq-workflows')\n",
    "import validation\n",
    "sys.path.append('/g/data/xv83/quantile-mapping/qqscale')\n",
    "import utils"
   ]
  },
  {
   "cell_type": "code",
   "execution_count": null,
   "id": "d02542e0",
   "metadata": {},
   "outputs": [],
   "source": [
    "# Required parameters\n",
    "\n",
    "assert 'model' in locals(), \"Must provide the name of a GCM (option -p model {model-name})\""
   ]
  },
  {
   "cell_type": "code",
   "execution_count": null,
   "id": "2b52577c",
   "metadata": {
    "execution": {
     "iopub.execute_input": "2024-08-21T06:22:10.143570Z",
     "iopub.status.busy": "2024-08-21T06:22:10.143219Z",
     "iopub.status.idle": "2024-08-21T06:22:10.148728Z",
     "shell.execute_reply": "2024-08-21T06:22:10.148390Z"
    },
    "papermill": {
     "duration": 0.014959,
     "end_time": "2024-08-21T06:22:10.149811",
     "exception": false,
     "start_time": "2024-08-21T06:22:10.134852",
     "status": "completed"
    },
    "tags": []
   },
   "outputs": [],
   "source": [
    "def get_obs_files(obs, var):\n",
    "    \"\"\"Get obs data\"\"\"\n",
    "\n",
    "    if obs == 'BARRA-R2':\n",
    "        if var in ['hursmin', 'hursmax']:\n",
    "            target_files = sorted(glob.glob(f'/g/data/ia39/australian-climate-service/test-data/observations/BARRA2/output/reanalysis/AUS-11/BOM/ERA5/historical/hres/BARRA-R2/v1/day/{var}/v20240516/*.nc'))\n",
    "        else:\n",
    "            target_files = sorted(glob.glob(f\"/g/data/ob53/BARRA2/output/reanalysis/AUS-11/BOM/ERA5/historical/hres/BARRA-R2/v1/day/{var}/latest/*.nc\"))\n",
    "\n",
    "    return target_files[72:432]\n",
    "    \n",
    "    \n",
    "def get_model_files(model, var):\n",
    "    \"\"\"Get model data\"\"\"\n",
    "    \n",
    "    if model == \"ACCESS-CM2\":\n",
    "        hist_files = sorted(glob.glob(f\"/g/data/fs38/publications/CMIP6/CMIP/CSIRO-ARCCSS/ACCESS-CM2/historical/r4i1p1f1/day/{var}/gn/latest/*.nc\"))\n",
    "    elif model == \"EC-Earth3\":\n",
    "        hist_files = sorted(glob.glob(f\"/g/data/oi10/replicas/CMIP6/CMIP/EC-Earth-Consortium/EC-Earth3/historical/r1i1p1f1/day/{var}/gr/v20200310/*.nc\"))        \n",
    "    elif model == \"CMCC-ESM2\":\n",
    "        hist_files = sorted(glob.glob(f\"/g/data/oi10/replicas/CMIP6/CMIP/CMCC/CMCC-ESM2/historical/r1i1p1f1/day/{var}/gn/v20210114/*.nc\"))        \n",
    "          \n",
    "    return hist_files"
   ]
  },
  {
   "cell_type": "code",
   "execution_count": null,
   "id": "f7bf139b",
   "metadata": {
    "execution": {
     "iopub.execute_input": "2024-08-21T06:22:10.159789Z",
     "iopub.status.busy": "2024-08-21T06:22:10.159665Z",
     "iopub.status.idle": "2024-08-21T06:22:10.168289Z",
     "shell.execute_reply": "2024-08-21T06:22:10.167968Z"
    },
    "papermill": {
     "duration": 0.015148,
     "end_time": "2024-08-21T06:22:10.169647",
     "exception": false,
     "start_time": "2024-08-21T06:22:10.154499",
     "status": "completed"
    },
    "tags": []
   },
   "outputs": [],
   "source": [
    "hist_units = {\n",
    "    'rsds': \"W m-2\",\n",
    "    'tasmin': 'K',\n",
    "    'tasmax': 'K',\n",
    "    'hursmin': '%',\n",
    "    'hursmax': '%',\n",
    "    'sfcWind': 'm s-1',\n",
    "    'sfcWindmax': 'm s-1',\n",
    "}\n",
    "\n",
    "target_units = {\n",
    "    'rsds': \"W m-2\",\n",
    "    'tasmin': 'K',\n",
    "    'tasmax': 'K',\n",
    "    'hursmin': '%',\n",
    "    'hursmax': '%',\n",
    "    'sfcWind': 'm s-1',\n",
    "    'sfcWindmax': 'm s-1',\n",
    "}\n",
    "\n",
    "output_units = {\n",
    "    'rsds': \"W m-2\",\n",
    "    'tasmin': 'C',\n",
    "    'tasmax': 'C',\n",
    "    'hursmin': '%',\n",
    "    'hursmax': '%',\n",
    "    'sfcWind': 'm s-1',\n",
    "    'sfcWindmax': 'm s-1',\n",
    "}\n",
    "\n",
    "clim_cbar = {\n",
    "    'rsds': cmocean.cm.solar,\n",
    "    'tasmin': cmocean.cm.thermal,\n",
    "    'tasmax': cmocean.cm.thermal,\n",
    "    'hursmin': cmocean.cm.thermal,\n",
    "    'hursmax': cmocean.cm.thermal,\n",
    "    'sfcWind': cmocean.cm.speed,\n",
    "    'sfcWindmax': cmocean.cm.speed,\n",
    "}\n",
    "\n",
    "clim_levels = {\n",
    "    'rsds': [115, 130, 145, 160, 175, 200, 225, 250, 275],\n",
    "    'tasmin': [0, 2, 4, 6, 8, 10, 12, 14, 16, 18, 20, 22, 24, 26],\n",
    "    'tasmax': [5, 8, 11, 14, 17, 20, 23, 26, 29, 31, 34, 37],\n",
    "    'hursmin': [10, 15 ,20, 25, 30, 35, 40, 45, 50, 55, 60, 65, 70, 75, 80],\n",
    "    'hursmax': [35, 40, 45, 50, 55, 60, 65, 70, 75, 80, 85, 90, 95, 100],\n",
    "    'sfcWind': [0, 1, 2, 3, 4, 5, 6, 7, 8, 9, 10],\n",
    "    'sfcWindmax': [0, 1, 2, 3, 4, 5, 6, 7, 8, 9, 10],\n",
    "}\n",
    "\n",
    "diff_cbar = {\n",
    "    'rsds': 'RdBu_r',\n",
    "    'tasmin': 'RdBu_r',\n",
    "    'tasmax': 'RdBu_r',\n",
    "    'hursmin': 'RdBu_r',\n",
    "    'hursmax': 'RdBu_r',\n",
    "    'sfcWind': 'RdBu_r',\n",
    "    'sfcWindmax': 'RdBu_r',\n",
    "}\n",
    "\n",
    "ratio_levels = [-40, -35, -30, -25, -20, -15, -10, -5, 0, 5, 10, 15, 20, 25, 30, 35, 40]\n",
    "\n",
    "diff_levels = {\n",
    "    'rsds': [-10, -8, -6, -4, -2, 0, 2, 4, 6, 8, 10],\n",
    "    'tasmin': [-5, -4, -3, -2, -1, 0, 1, 2, 3, 4, 5],\n",
    "    'tasmax': [-5, -4, -3, -2, -1, 0, 1, 2, 3, 4, 5],\n",
    "    'hursmin': [-10, -8, -6, -4, -2, 0, 2, 4, 6, 8, 10],\n",
    "    'hursmax': [-10, -8, -6, -4, -2, 0, 2, 4, 6, 8, 10],\n",
    "    'sfcWind': [-2.0, -1.6, -1.2, -0.8, -0.4, 0, 0.4, 0.8, 1.2, 1.6, 2.0],\n",
    "    'sfcWindmax': [-2.0, -1.6, -1.2, -0.8, -0.4, 0, 0.4, 0.8, 1.2, 1.6, 2.0],\n",
    "}"
   ]
  },
  {
   "cell_type": "code",
   "execution_count": null,
   "id": "8e68f7a2",
   "metadata": {
    "execution": {
     "iopub.execute_input": "2024-08-21T06:22:10.181183Z",
     "iopub.status.busy": "2024-08-21T06:22:10.181050Z",
     "iopub.status.idle": "2024-08-21T06:22:10.185127Z",
     "shell.execute_reply": "2024-08-21T06:22:10.184808Z"
    },
    "papermill": {
     "duration": 0.01047,
     "end_time": "2024-08-21T06:22:10.186457",
     "exception": false,
     "start_time": "2024-08-21T06:22:10.175987",
     "status": "completed"
    },
    "tags": []
   },
   "outputs": [],
   "source": [
    "def get_data(var, model, obs):\n",
    "    \"\"\"Plot the comparison\"\"\"\n",
    "\n",
    "    hist_files = get_model_files(model, var)\n",
    "    ds_hist = utils.read_data(\n",
    "        hist_files,\n",
    "        var,\n",
    "        time_bounds=[\"1985\", \"2014\"],\n",
    "        input_units=hist_units[var],\n",
    "        output_units=output_units[var],\n",
    "    )\n",
    "    hist_clim = ds_hist[var].mean('time', keep_attrs=True).compute()\n",
    "\n",
    "    target_files = get_obs_files(obs, var)\n",
    "    ds_target = utils.read_data(\n",
    "        target_files,\n",
    "        var,\n",
    "        time_bounds=[\"1985\", \"2014\"],\n",
    "        input_units=target_units[var],\n",
    "        output_units=output_units[var],\n",
    "    )\n",
    "    try:\n",
    "        ds_target = ds_target.drop_vars('crs')\n",
    "    except ValueError:\n",
    "        pass\n",
    "    target_clim = ds_target[var].mean('time', keep_attrs=True).compute()\n",
    "    \n",
    "    comparison_ratio = validation.spatial_comparison_data(\n",
    "        target_clim,\n",
    "        hist_clim,\n",
    "        'multiplicative'\n",
    "    )\n",
    "    comparison_diff = validation.spatial_comparison_data(\n",
    "        target_clim,\n",
    "        hist_clim,\n",
    "        'additive'\n",
    "    )\n",
    "    \n",
    "    return hist_clim, target_clim, comparison_diff, comparison_ratio"
   ]
  },
  {
   "cell_type": "markdown",
   "id": "656ad818",
   "metadata": {
    "papermill": {
     "duration": 0.004364,
     "end_time": "2024-08-21T06:22:10.195419",
     "exception": false,
     "start_time": "2024-08-21T06:22:10.191055",
     "status": "completed"
    },
    "tags": []
   },
   "source": [
    "### rsds"
   ]
  },
  {
   "cell_type": "code",
   "execution_count": null,
   "id": "4bf216b7",
   "metadata": {
    "execution": {
     "iopub.execute_input": "2024-08-21T06:22:10.204950Z",
     "iopub.status.busy": "2024-08-21T06:22:10.204826Z",
     "iopub.status.idle": "2024-08-21T06:32:10.863920Z",
     "shell.execute_reply": "2024-08-21T06:32:10.863051Z"
    },
    "papermill": {
     "duration": 600.666282,
     "end_time": "2024-08-21T06:32:10.866196",
     "exception": false,
     "start_time": "2024-08-21T06:22:10.199914",
     "status": "completed"
    },
    "tags": []
   },
   "outputs": [],
   "source": [
    "hist_clim, target_clim, comparison_diff, comparison_ratio = get_data(\"rsds\", model, \"BARRA-R2\")"
   ]
  },
  {
   "cell_type": "code",
   "execution_count": null,
   "id": "973c48f2",
   "metadata": {
    "execution": {
     "iopub.execute_input": "2024-08-21T06:32:10.879993Z",
     "iopub.status.busy": "2024-08-21T06:32:10.879181Z",
     "iopub.status.idle": "2024-08-21T06:32:14.462599Z",
     "shell.execute_reply": "2024-08-21T06:32:14.462126Z"
    },
    "papermill": {
     "duration": 3.592079,
     "end_time": "2024-08-21T06:32:14.464783",
     "exception": false,
     "start_time": "2024-08-21T06:32:10.872704",
     "status": "completed"
    },
    "tags": []
   },
   "outputs": [],
   "source": [
    "validation.spatial_comparison_plot(\n",
    "    target_clim,\n",
    "    hist_clim,\n",
    "    comparison_diff,\n",
    "    'BARRA-R2',\n",
    "    model,\n",
    "    clim_cbar[\"rsds\"],\n",
    "    diff_cbar[\"rsds\"],\n",
    "    clim_levels[\"rsds\"],\n",
    "    diff_levels[\"rsds\"],\n",
    "    'additive',\n",
    "    land_only=True,\n",
    "    clim_extend='neither',\n",
    "    print_mav=True,\n",
    ")"
   ]
  },
  {
   "cell_type": "code",
   "execution_count": null,
   "id": "bd18b23f",
   "metadata": {
    "execution": {
     "iopub.execute_input": "2024-08-21T06:32:14.479055Z",
     "iopub.status.busy": "2024-08-21T06:32:14.478905Z",
     "iopub.status.idle": "2024-08-21T06:32:17.148951Z",
     "shell.execute_reply": "2024-08-21T06:32:17.148614Z"
    },
    "papermill": {
     "duration": 2.678226,
     "end_time": "2024-08-21T06:32:17.150202",
     "exception": false,
     "start_time": "2024-08-21T06:32:14.471976",
     "status": "completed"
    },
    "scrolled": true,
    "tags": []
   },
   "outputs": [],
   "source": [
    "validation.spatial_comparison_plot(\n",
    "    target_clim,\n",
    "    hist_clim,\n",
    "    comparison_ratio,\n",
    "    'BARRA-R2',\n",
    "    model,\n",
    "    clim_cbar[\"rsds\"],\n",
    "    diff_cbar[\"rsds\"],\n",
    "    clim_levels[\"rsds\"],\n",
    "    ratio_levels,\n",
    "    'multiplicative',\n",
    "    land_only=True,\n",
    "    clim_extend='neither',\n",
    "    print_mav=True,\n",
    ")"
   ]
  },
  {
   "cell_type": "markdown",
   "id": "1738311c",
   "metadata": {
    "papermill": {
     "duration": 0.006975,
     "end_time": "2024-08-21T06:32:17.165023",
     "exception": false,
     "start_time": "2024-08-21T06:32:17.158048",
     "status": "completed"
    },
    "tags": []
   },
   "source": [
    "### tasmin"
   ]
  },
  {
   "cell_type": "code",
   "execution_count": null,
   "id": "8f41add6",
   "metadata": {
    "execution": {
     "iopub.execute_input": "2024-08-21T06:32:17.180406Z",
     "iopub.status.busy": "2024-08-21T06:32:17.180241Z",
     "iopub.status.idle": "2024-08-21T06:43:25.850401Z",
     "shell.execute_reply": "2024-08-21T06:43:25.849460Z"
    },
    "papermill": {
     "duration": 668.680845,
     "end_time": "2024-08-21T06:43:25.852768",
     "exception": false,
     "start_time": "2024-08-21T06:32:17.171923",
     "status": "completed"
    },
    "tags": []
   },
   "outputs": [],
   "source": [
    "hist_clim, target_clim, comparison_diff, comparison_ratio = get_data(\"tasmin\", model, \"BARRA-R2\")"
   ]
  },
  {
   "cell_type": "code",
   "execution_count": null,
   "id": "e7e5e3f2",
   "metadata": {
    "execution": {
     "iopub.execute_input": "2024-08-21T06:43:25.873353Z",
     "iopub.status.busy": "2024-08-21T06:43:25.872891Z",
     "iopub.status.idle": "2024-08-21T06:43:28.802556Z",
     "shell.execute_reply": "2024-08-21T06:43:28.802189Z"
    },
    "papermill": {
     "duration": 2.940889,
     "end_time": "2024-08-21T06:43:28.803795",
     "exception": false,
     "start_time": "2024-08-21T06:43:25.862906",
     "status": "completed"
    },
    "tags": []
   },
   "outputs": [],
   "source": [
    "validation.spatial_comparison_plot(\n",
    "    target_clim,\n",
    "    hist_clim,\n",
    "    comparison_diff,\n",
    "    'BARRA-R2',\n",
    "    model,\n",
    "    clim_cbar[\"tasmin\"],\n",
    "    diff_cbar[\"tasmin\"],\n",
    "    clim_levels[\"tasmin\"],\n",
    "    diff_levels[\"tasmin\"],\n",
    "    'additive',\n",
    "    land_only=True,\n",
    "    clim_extend='neither',\n",
    "    print_mav=True,\n",
    ")"
   ]
  },
  {
   "cell_type": "code",
   "execution_count": null,
   "id": "e8fd6e9c",
   "metadata": {
    "execution": {
     "iopub.execute_input": "2024-08-21T06:43:28.822721Z",
     "iopub.status.busy": "2024-08-21T06:43:28.822457Z",
     "iopub.status.idle": "2024-08-21T06:43:31.534688Z",
     "shell.execute_reply": "2024-08-21T06:43:31.534334Z"
    },
    "papermill": {
     "duration": 2.722825,
     "end_time": "2024-08-21T06:43:31.535957",
     "exception": false,
     "start_time": "2024-08-21T06:43:28.813132",
     "status": "completed"
    },
    "tags": []
   },
   "outputs": [],
   "source": [
    "validation.spatial_comparison_plot(\n",
    "    target_clim,\n",
    "    hist_clim,\n",
    "    comparison_ratio,\n",
    "    'BARRA-R2',\n",
    "    model,\n",
    "    clim_cbar[\"tasmin\"],\n",
    "    diff_cbar[\"tasmin\"],\n",
    "    clim_levels[\"tasmin\"],\n",
    "    ratio_levels,\n",
    "    'multiplicative',\n",
    "    land_only=True,\n",
    "    clim_extend='neither',\n",
    "    print_mav=True,\n",
    ")"
   ]
  },
  {
   "cell_type": "markdown",
   "id": "c42b799f",
   "metadata": {
    "papermill": {
     "duration": 0.009479,
     "end_time": "2024-08-21T06:43:31.556791",
     "exception": false,
     "start_time": "2024-08-21T06:43:31.547312",
     "status": "completed"
    },
    "tags": []
   },
   "source": [
    "### tasmax"
   ]
  },
  {
   "cell_type": "code",
   "execution_count": null,
   "id": "99f80281",
   "metadata": {
    "execution": {
     "iopub.execute_input": "2024-08-21T06:43:31.576359Z",
     "iopub.status.busy": "2024-08-21T06:43:31.576191Z",
     "iopub.status.idle": "2024-08-21T06:54:34.742480Z",
     "shell.execute_reply": "2024-08-21T06:54:34.741567Z"
    },
    "papermill": {
     "duration": 663.178723,
     "end_time": "2024-08-21T06:54:34.744757",
     "exception": false,
     "start_time": "2024-08-21T06:43:31.566034",
     "status": "completed"
    },
    "tags": []
   },
   "outputs": [],
   "source": [
    "hist_clim, target_clim, comparison_diff, comparison_ratio = get_data(\"tasmax\", model, \"BARRA-R2\")"
   ]
  },
  {
   "cell_type": "code",
   "execution_count": null,
   "id": "6ebc20a4",
   "metadata": {
    "execution": {
     "iopub.execute_input": "2024-08-21T06:54:34.768416Z",
     "iopub.status.busy": "2024-08-21T06:54:34.768222Z",
     "iopub.status.idle": "2024-08-21T06:54:37.640961Z",
     "shell.execute_reply": "2024-08-21T06:54:37.640607Z"
    },
    "papermill": {
     "duration": 2.884682,
     "end_time": "2024-08-21T06:54:37.642193",
     "exception": false,
     "start_time": "2024-08-21T06:54:34.757511",
     "status": "completed"
    },
    "tags": []
   },
   "outputs": [],
   "source": [
    "validation.spatial_comparison_plot(\n",
    "    target_clim,\n",
    "    hist_clim,\n",
    "    comparison_diff,\n",
    "    'BARRA-R2',\n",
    "    model,\n",
    "    clim_cbar[\"tasmax\"],\n",
    "    diff_cbar[\"tasmax\"],\n",
    "    clim_levels[\"tasmax\"],\n",
    "    diff_levels[\"tasmax\"],\n",
    "    'additive',\n",
    "    land_only=True,\n",
    "    clim_extend='neither',\n",
    "    print_mav=True,\n",
    ")"
   ]
  },
  {
   "cell_type": "code",
   "execution_count": null,
   "id": "81a060f0",
   "metadata": {
    "execution": {
     "iopub.execute_input": "2024-08-21T06:54:37.667081Z",
     "iopub.status.busy": "2024-08-21T06:54:37.666717Z",
     "iopub.status.idle": "2024-08-21T06:54:40.627557Z",
     "shell.execute_reply": "2024-08-21T06:54:40.627223Z"
    },
    "papermill": {
     "duration": 2.973651,
     "end_time": "2024-08-21T06:54:40.628819",
     "exception": false,
     "start_time": "2024-08-21T06:54:37.655168",
     "status": "completed"
    },
    "tags": []
   },
   "outputs": [],
   "source": [
    "validation.spatial_comparison_plot(\n",
    "    target_clim,\n",
    "    hist_clim,\n",
    "    comparison_ratio,\n",
    "    'BARRA-R2',\n",
    "    model,\n",
    "    clim_cbar[\"tasmax\"],\n",
    "    diff_cbar[\"tasmax\"],\n",
    "    clim_levels[\"tasmax\"],\n",
    "    ratio_levels,\n",
    "    'multiplicative',\n",
    "    land_only=True,\n",
    "    clim_extend='neither',\n",
    "    print_mav=True,\n",
    ")"
   ]
  },
  {
   "cell_type": "markdown",
   "id": "c1401188",
   "metadata": {
    "papermill": {
     "duration": 0.011802,
     "end_time": "2024-08-21T06:54:40.654656",
     "exception": false,
     "start_time": "2024-08-21T06:54:40.642854",
     "status": "completed"
    },
    "tags": []
   },
   "source": [
    "### sfcWind"
   ]
  },
  {
   "cell_type": "code",
   "execution_count": null,
   "id": "39de0838",
   "metadata": {
    "execution": {
     "iopub.execute_input": "2024-08-21T06:54:40.678616Z",
     "iopub.status.busy": "2024-08-21T06:54:40.678461Z",
     "iopub.status.idle": "2024-08-21T07:04:44.513446Z",
     "shell.execute_reply": "2024-08-21T07:04:44.512488Z"
    },
    "papermill": {
     "duration": 603.850171,
     "end_time": "2024-08-21T07:04:44.516438",
     "exception": false,
     "start_time": "2024-08-21T06:54:40.666267",
     "status": "completed"
    },
    "tags": []
   },
   "outputs": [],
   "source": [
    "hist_clim, target_clim, comparison_diff, comparison_ratio = get_data(\"sfcWind\", model, \"BARRA-R2\")"
   ]
  },
  {
   "cell_type": "code",
   "execution_count": null,
   "id": "387a4f4b",
   "metadata": {
    "execution": {
     "iopub.execute_input": "2024-08-21T07:04:44.549088Z",
     "iopub.status.busy": "2024-08-21T07:04:44.548849Z",
     "iopub.status.idle": "2024-08-21T07:04:47.561669Z",
     "shell.execute_reply": "2024-08-21T07:04:47.561313Z"
    },
    "papermill": {
     "duration": 3.028353,
     "end_time": "2024-08-21T07:04:47.562977",
     "exception": false,
     "start_time": "2024-08-21T07:04:44.534624",
     "status": "completed"
    },
    "tags": []
   },
   "outputs": [],
   "source": [
    "validation.spatial_comparison_plot(\n",
    "    target_clim,\n",
    "    hist_clim,\n",
    "    comparison_diff,\n",
    "    'BARRA-R2',\n",
    "    model,\n",
    "    clim_cbar[\"sfcWind\"],\n",
    "    diff_cbar[\"sfcWind\"],\n",
    "    clim_levels[\"sfcWind\"],\n",
    "    diff_levels[\"sfcWind\"],\n",
    "    'additive',\n",
    "    land_only=True,\n",
    "    clim_extend='neither',\n",
    "    print_mav=True,\n",
    ")"
   ]
  },
  {
   "cell_type": "code",
   "execution_count": null,
   "id": "9ab57933",
   "metadata": {
    "execution": {
     "iopub.execute_input": "2024-08-21T07:04:47.593586Z",
     "iopub.status.busy": "2024-08-21T07:04:47.593415Z",
     "iopub.status.idle": "2024-08-21T07:04:50.644824Z",
     "shell.execute_reply": "2024-08-21T07:04:50.644456Z"
    },
    "papermill": {
     "duration": 3.066999,
     "end_time": "2024-08-21T07:04:50.646146",
     "exception": false,
     "start_time": "2024-08-21T07:04:47.579147",
     "status": "completed"
    },
    "tags": []
   },
   "outputs": [],
   "source": [
    "validation.spatial_comparison_plot(\n",
    "    target_clim,\n",
    "    hist_clim,\n",
    "    comparison_ratio,\n",
    "    'BARRA-R2',\n",
    "    model,\n",
    "    clim_cbar[\"sfcWind\"],\n",
    "    diff_cbar[\"sfcWind\"],\n",
    "    clim_levels[\"sfcWind\"],\n",
    "    ratio_levels,\n",
    "    'multiplicative',\n",
    "    land_only=True,\n",
    "    clim_extend='neither',\n",
    "    print_mav=True,\n",
    ")"
   ]
  },
  {
   "cell_type": "markdown",
   "id": "c238061c",
   "metadata": {
    "papermill": {
     "duration": 0.015815,
     "end_time": "2024-08-21T07:04:50.679754",
     "exception": false,
     "start_time": "2024-08-21T07:04:50.663939",
     "status": "completed"
    },
    "tags": []
   },
   "source": [
    "### sfcWindmax"
   ]
  },
  {
   "cell_type": "code",
   "execution_count": null,
   "id": "b9e3bf5b",
   "metadata": {
    "execution": {
     "iopub.execute_input": "2024-08-21T07:04:50.710065Z",
     "iopub.status.busy": "2024-08-21T07:04:50.709890Z",
     "iopub.status.idle": "2024-08-21T07:14:42.257597Z",
     "shell.execute_reply": "2024-08-21T07:14:42.256459Z"
    },
    "papermill": {
     "duration": 591.56554,
     "end_time": "2024-08-21T07:14:42.259959",
     "exception": false,
     "start_time": "2024-08-21T07:04:50.694419",
     "status": "completed"
    },
    "tags": []
   },
   "outputs": [],
   "source": [
    "hist_clim, target_clim, comparison_diff, comparison_ratio = get_data(\"sfcWindmax\", model, \"BARRA-R2\")"
   ]
  },
  {
   "cell_type": "code",
   "execution_count": null,
   "id": "ff275264",
   "metadata": {
    "execution": {
     "iopub.execute_input": "2024-08-21T07:14:42.403940Z",
     "iopub.status.busy": "2024-08-21T07:14:42.403717Z",
     "iopub.status.idle": "2024-08-21T07:14:45.253042Z",
     "shell.execute_reply": "2024-08-21T07:14:45.252695Z"
    },
    "papermill": {
     "duration": 2.879708,
     "end_time": "2024-08-21T07:14:45.254362",
     "exception": false,
     "start_time": "2024-08-21T07:14:42.374654",
     "status": "completed"
    },
    "tags": []
   },
   "outputs": [],
   "source": [
    "validation.spatial_comparison_plot(\n",
    "    target_clim,\n",
    "    hist_clim,\n",
    "    comparison_diff,\n",
    "    'BARRA-R2',\n",
    "    model,\n",
    "    clim_cbar[\"sfcWindmax\"],\n",
    "    diff_cbar[\"sfcWindmax\"],\n",
    "    clim_levels[\"sfcWindmax\"],\n",
    "    diff_levels[\"sfcWindmax\"],\n",
    "    'additive',\n",
    "    land_only=True,\n",
    "    clim_extend='neither',\n",
    "    print_mav=True,\n",
    ")"
   ]
  },
  {
   "cell_type": "code",
   "execution_count": null,
   "id": "e0e103ea",
   "metadata": {
    "execution": {
     "iopub.execute_input": "2024-08-21T07:14:45.290672Z",
     "iopub.status.busy": "2024-08-21T07:14:45.290501Z",
     "iopub.status.idle": "2024-08-21T07:14:48.333560Z",
     "shell.execute_reply": "2024-08-21T07:14:48.333206Z"
    },
    "papermill": {
     "duration": 3.06134,
     "end_time": "2024-08-21T07:14:48.334867",
     "exception": false,
     "start_time": "2024-08-21T07:14:45.273527",
     "status": "completed"
    },
    "tags": []
   },
   "outputs": [],
   "source": [
    "validation.spatial_comparison_plot(\n",
    "    target_clim,\n",
    "    hist_clim,\n",
    "    comparison_ratio,\n",
    "    'BARRA-R2',\n",
    "    model,\n",
    "    clim_cbar[\"sfcWindmax\"],\n",
    "    diff_cbar[\"sfcWindmax\"],\n",
    "    clim_levels[\"sfcWindmax\"],\n",
    "    ratio_levels,\n",
    "    'multiplicative',\n",
    "    land_only=True,\n",
    "    clim_extend='neither',\n",
    "    print_mav=True,\n",
    ")"
   ]
  },
  {
   "cell_type": "markdown",
   "id": "8543dca0",
   "metadata": {
    "papermill": {
     "duration": 0.019449,
     "end_time": "2024-08-21T07:14:48.375188",
     "exception": false,
     "start_time": "2024-08-21T07:14:48.355739",
     "status": "completed"
    },
    "tags": []
   },
   "source": [
    "### hursmin"
   ]
  },
  {
   "cell_type": "code",
   "execution_count": null,
   "id": "6636129e",
   "metadata": {
    "execution": {
     "iopub.execute_input": "2024-08-21T07:14:48.411483Z",
     "iopub.status.busy": "2024-08-21T07:14:48.411309Z",
     "iopub.status.idle": "2024-08-21T07:24:43.946593Z",
     "shell.execute_reply": "2024-08-21T07:24:43.945636Z"
    },
    "papermill": {
     "duration": 595.556113,
     "end_time": "2024-08-21T07:24:43.948906",
     "exception": false,
     "start_time": "2024-08-21T07:14:48.392793",
     "status": "completed"
    },
    "tags": []
   },
   "outputs": [],
   "source": [
    "hist_clim, target_clim, comparison_diff, comparison_ratio = get_data(\"hursmin\", model, \"BARRA-R2\")"
   ]
  },
  {
   "cell_type": "code",
   "execution_count": null,
   "id": "ca6ca960",
   "metadata": {
    "execution": {
     "iopub.execute_input": "2024-08-21T07:24:43.990943Z",
     "iopub.status.busy": "2024-08-21T07:24:43.990697Z",
     "iopub.status.idle": "2024-08-21T07:24:46.825109Z",
     "shell.execute_reply": "2024-08-21T07:24:46.824767Z"
    },
    "papermill": {
     "duration": 2.854815,
     "end_time": "2024-08-21T07:24:46.826428",
     "exception": false,
     "start_time": "2024-08-21T07:24:43.971613",
     "status": "completed"
    },
    "tags": []
   },
   "outputs": [],
   "source": [
    "validation.spatial_comparison_plot(\n",
    "    target_clim,\n",
    "    hist_clim,\n",
    "    comparison_diff,\n",
    "    'BARRA-R2',\n",
    "    model,\n",
    "    clim_cbar[\"hursmin\"],\n",
    "    diff_cbar[\"hursmin\"],\n",
    "    clim_levels[\"hursmin\"],\n",
    "    diff_levels[\"hursmin\"],\n",
    "    'additive',\n",
    "    land_only=True,\n",
    "    clim_extend='neither',\n",
    "    print_mav=True,\n",
    ")"
   ]
  },
  {
   "cell_type": "code",
   "execution_count": null,
   "id": "f89688bf",
   "metadata": {
    "execution": {
     "iopub.execute_input": "2024-08-21T07:24:46.868990Z",
     "iopub.status.busy": "2024-08-21T07:24:46.868817Z",
     "iopub.status.idle": "2024-08-21T07:24:49.909596Z",
     "shell.execute_reply": "2024-08-21T07:24:49.909260Z"
    },
    "papermill": {
     "duration": 3.062098,
     "end_time": "2024-08-21T07:24:49.910833",
     "exception": false,
     "start_time": "2024-08-21T07:24:46.848735",
     "status": "completed"
    },
    "tags": []
   },
   "outputs": [],
   "source": [
    "validation.spatial_comparison_plot(\n",
    "    target_clim,\n",
    "    hist_clim,\n",
    "    comparison_ratio,\n",
    "    'BARRA-R2',\n",
    "    model,\n",
    "    clim_cbar[\"hursmin\"],\n",
    "    diff_cbar[\"hursmin\"],\n",
    "    clim_levels[\"hursmin\"],\n",
    "    ratio_levels,\n",
    "    'multiplicative',\n",
    "    land_only=True,\n",
    "    clim_extend='neither',\n",
    "    print_mav=True,\n",
    ")"
   ]
  },
  {
   "cell_type": "markdown",
   "id": "a63903c6",
   "metadata": {
    "papermill": {
     "duration": 0.020059,
     "end_time": "2024-08-21T07:24:49.954580",
     "exception": false,
     "start_time": "2024-08-21T07:24:49.934521",
     "status": "completed"
    },
    "tags": []
   },
   "source": [
    "### hursmax"
   ]
  },
  {
   "cell_type": "code",
   "execution_count": null,
   "id": "be77a852",
   "metadata": {
    "execution": {
     "iopub.execute_input": "2024-08-21T07:24:49.995858Z",
     "iopub.status.busy": "2024-08-21T07:24:49.995676Z",
     "iopub.status.idle": "2024-08-21T07:34:27.336144Z",
     "shell.execute_reply": "2024-08-21T07:34:27.304851Z"
    },
    "papermill": {
     "duration": 577.459778,
     "end_time": "2024-08-21T07:34:27.434190",
     "exception": false,
     "start_time": "2024-08-21T07:24:49.974412",
     "status": "completed"
    },
    "tags": []
   },
   "outputs": [],
   "source": [
    "hist_clim, target_clim, comparison_diff, comparison_ratio = get_data(\"hursmax\", model, \"BARRA-R2\")"
   ]
  },
  {
   "cell_type": "code",
   "execution_count": null,
   "id": "e79f2b28",
   "metadata": {
    "execution": {
     "iopub.execute_input": "2024-08-21T07:34:27.569117Z",
     "iopub.status.busy": "2024-08-21T07:34:27.568857Z",
     "iopub.status.idle": "2024-08-21T07:34:32.565510Z",
     "shell.execute_reply": "2024-08-21T07:34:32.565174Z"
    },
    "papermill": {
     "duration": 5.055865,
     "end_time": "2024-08-21T07:34:32.566755",
     "exception": false,
     "start_time": "2024-08-21T07:34:27.510890",
     "status": "completed"
    },
    "tags": []
   },
   "outputs": [],
   "source": [
    "validation.spatial_comparison_plot(\n",
    "    target_clim,\n",
    "    hist_clim,\n",
    "    comparison_diff,\n",
    "    'BARRA-R2',\n",
    "    model,\n",
    "    clim_cbar[\"hursmax\"],\n",
    "    diff_cbar[\"hursmax\"],\n",
    "    clim_levels[\"hursmax\"],\n",
    "    diff_levels[\"hursmax\"],\n",
    "    'additive',\n",
    "    land_only=True,\n",
    "    clim_extend='neither',\n",
    "    print_mav=True,\n",
    ")"
   ]
  },
  {
   "cell_type": "code",
   "execution_count": null,
   "id": "35fefa8d",
   "metadata": {
    "execution": {
     "iopub.execute_input": "2024-08-21T07:34:32.614827Z",
     "iopub.status.busy": "2024-08-21T07:34:32.614657Z",
     "iopub.status.idle": "2024-08-21T07:34:35.383370Z",
     "shell.execute_reply": "2024-08-21T07:34:35.383045Z"
    },
    "papermill": {
     "duration": 2.792928,
     "end_time": "2024-08-21T07:34:35.384616",
     "exception": false,
     "start_time": "2024-08-21T07:34:32.591688",
     "status": "completed"
    },
    "tags": []
   },
   "outputs": [],
   "source": [
    "validation.spatial_comparison_plot(\n",
    "    target_clim,\n",
    "    hist_clim,\n",
    "    comparison_ratio,\n",
    "    'BARRA-R2',\n",
    "    model,\n",
    "    clim_cbar[\"hursmax\"],\n",
    "    diff_cbar[\"hursmax\"],\n",
    "    clim_levels[\"hursmax\"],\n",
    "    ratio_levels,\n",
    "    'multiplicative',\n",
    "    land_only=True,\n",
    "    clim_extend='neither',\n",
    "    print_mav=True,\n",
    ")"
   ]
  },
  {
   "cell_type": "code",
   "execution_count": null,
   "id": "da547ec5",
   "metadata": {
    "papermill": {
     "duration": 0.022356,
     "end_time": "2024-08-21T07:34:35.432821",
     "exception": false,
     "start_time": "2024-08-21T07:34:35.410465",
     "status": "completed"
    },
    "tags": []
   },
   "outputs": [],
   "source": []
  }
 ],
 "metadata": {
  "kernelspec": {
   "display_name": "Python 3 (ipykernel)",
   "language": "python",
   "name": "python3"
  },
  "language_info": {
   "codemirror_mode": {
    "name": "ipython",
    "version": 3
   },
   "file_extension": ".py",
   "mimetype": "text/x-python",
   "name": "python",
   "nbconvert_exporter": "python",
   "pygments_lexer": "ipython3",
   "version": "3.10.4"
  },
  "papermill": {
   "default_parameters": {},
   "duration": 4436.412036,
   "end_time": "2024-08-21T07:34:39.146424",
   "environment_variables": {},
   "exception": null,
   "input_path": "model_bias.ipynb",
   "output_path": "model_bias_ACCESS-CM2.ipynb",
   "parameters": {},
   "start_time": "2024-08-21T06:20:42.734388",
   "version": "2.3.4"
  }
 },
 "nbformat": 4,
 "nbformat_minor": 5
}
