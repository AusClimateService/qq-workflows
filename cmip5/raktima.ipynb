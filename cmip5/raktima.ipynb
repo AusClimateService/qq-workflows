{
 "cells": [
  {
   "cell_type": "code",
   "execution_count": null,
   "id": "0e1a4615",
   "metadata": {},
   "outputs": [],
   "source": []
  },
  {
   "cell_type": "code",
   "execution_count": null,
   "id": "9c6d2e30",
   "metadata": {},
   "outputs": [],
   "source": [
    "model_hist_data =\n",
    "model_fut_data =\n",
    "obs_data =\n",
    "this_month =\n",
    "mode = 'addqq'\n",
    "\n",
    "Variable ="
   ]
  },
  {
   "cell_type": "code",
   "execution_count": null,
   "id": "d3eeb665",
   "metadata": {},
   "outputs": [],
   "source": [
    "percentiles = xr.DataArray(np.linspace(0, 1, num=101))"
   ]
  },
  {
   "cell_type": "code",
   "execution_count": null,
   "id": "b6ee23ea",
   "metadata": {},
   "outputs": [],
   "source": [
    "# Processing historical model data ...\n",
    "\n",
    "ds_mon_hist_month = model_hist_data.sel(time=model_hist_data.time.dt.month.isin([this_month])) # select month\n",
    "ds_mon_hist_month_mean = ds_mon_hist_month.mean('time')\n",
    "ds_mon_hist_month_mean_interp = ds_mon_hist_month_mean[Variable]\n",
    "\n",
    "ds_mon_hist_month1 = ds_mon_hist_month\n",
    "var = ds_mon_hist_month1[Variable]\n",
    "\n",
    "ds_mon_hist_month_perc = var.quantile(\n",
    "    percentiles,\n",
    "    dim=\"time\",\n",
    "    interpolation='linear',\n",
    "    keep_attrs=True,\n",
    "    skipna=True\n",
    ").compute() # percentile calculation\n",
    "\n",
    "ds_mon_hist_month_perc_interp = ds_mon_hist_month_perc"
   ]
  },
  {
   "cell_type": "code",
   "execution_count": 1,
   "id": "b97c4bdf",
   "metadata": {},
   "outputs": [
    {
     "ename": "IndentationError",
     "evalue": "unexpected indent (291637631.py, line 15)",
     "output_type": "error",
     "traceback": [
      "\u001b[0;36m  Input \u001b[0;32mIn [1]\u001b[0;36m\u001b[0m\n\u001b[0;31m    ds_mon_fut_month_perc_interp=ds_mon_fut_month_perc.interp(lat=ds_obs_period.lat.values, lon=ds_obs_period.lon.values,kwargs={\"fill_value\": \"extrapolate\"})\u001b[0m\n\u001b[0m    ^\u001b[0m\n\u001b[0;31mIndentationError\u001b[0m\u001b[0;31m:\u001b[0m unexpected indent\n"
     ]
    }
   ],
   "source": [
    "# Processing future model data\n",
    "\n",
    "ds_mon_fut_month = model_fut_data.sel(time=model_fut_data.time.dt.month.isin([this_month]))\n",
    "ds_mon_fut_month_mean = ds_mon_fut_month.mean('time')\n",
    "ds_mon_fut_month_mean_interp = ds_mon_fut_month_mean[Variable]\n",
    "\n",
    "ds_mon_fut_month1=ds_mon_fut_month.chunk(chunks={\"lat\": 10, \"lon\":10,\"time\":-1})\n",
    "var = ds_mon_fut_month1[Variable]\n",
    "\n",
    "ds_mon_fut_month_perc = var.quantile(\n",
    "    percentiles,\n",
    "    dim=\"time\",\n",
    "    interpolation='linear',\n",
    "    keep_attrs=True,\n",
    "    skipna=True\n",
    ").compute()\n",
    "\n",
    "ds_mon_fut_month_perc_interp = ds_mon_fut_month_perc"
   ]
  },
  {
   "cell_type": "code",
   "execution_count": null,
   "id": "4818e10f",
   "metadata": {},
   "outputs": [],
   "source": [
    "# Calculating change between future and historical scenario ...\n",
    "change_month_add = ds_mon_fut_month_perc_interp - ds_mon_hist_month_perc_interp # change for additive bias correction\n",
    "change_month_mul = ds_mon_fut_month_perc_interp.where(ds_mon_fut_month_perc_interp>10**-20) / ds_mon_hist_month_perc_interp.where(ds_mon_hist_month_perc_interp>10**-20) # change for multiplicative bias correction\n",
    "change_month_mul=change_month_mul.fillna(10**-20) "
   ]
  },
  {
   "cell_type": "code",
   "execution_count": null,
   "id": "a65bc188",
   "metadata": {},
   "outputs": [],
   "source": [
    "# Calculating change between future and historical scenario ...\n",
    "change_month_add = ds_mon_fut_month_perc_interp - ds_mon_hist_month_perc_interp # change for additive bias correction\n",
    "change_month_mul = ds_mon_fut_month_perc_interp.where(ds_mon_fut_month_perc_interp>10**-20) / ds_mon_hist_month_perc_interp.where(ds_mon_hist_month_perc_interp>10**-20) # change for multiplicative bias correction\n",
    "change_month_mul = change_month_mul.fillna(10**-20) "
   ]
  },
  {
   "cell_type": "code",
   "execution_count": null,
   "id": "99650268",
   "metadata": {},
   "outputs": [],
   "source": [
    "# Processing observational data ...\n",
    "ds_mon_obs_month = obs_data.sel(time=obs_data.time.dt.month.isin([this_month])) # find reverse percentile for obs data\n",
    "ds_mon_obs_month1 = ds_mon_obs_month\n",
    "ds_mon_obs_month_perc = ds_mon_obs_month1[Variable].quantile(\n",
    "    percentiles,dim=\"time\",\n",
    "    interpolation='linear',\n",
    "    keep_attrs=True,\n",
    "    skipna=True\n",
    ").compute()\n",
    "rank_obs_month=ds_mon_obs_month.load().rank(dim=\"time\",pct=True,keep_attrs=True)*100"
   ]
  },
  {
   "cell_type": "code",
   "execution_count": null,
   "id": "67f2fb81",
   "metadata": {},
   "outputs": [],
   "source": [
    "# Doing bias correction\n",
    "change_month_add_stack = change_month_add\n",
    "change_month_mul_stack = change_month_mul\n",
    "ds_mon_obs_month_perc_stack = ds_mon_obs_month_perc\n",
    "obs_month_loc_stack = rank_obs_month[Variable]\n",
    "ds_mon_obs_month_stack = ds_mon_obs_month[Variable]\n",
    "temp_var = xr.DataArray(\n",
    "    np.empty(np.shape(obs_month_loc_stack)),\n",
    "    dims=[\"time\",],\n",
    "    coords=obs_month_loc_stack.coords\n",
    ")\n",
    "if (mode=='addqq'):\n",
    "###### Applying the change factor \n",
    "    for tt in range(ds_mon_obs_month_stack.time.size):\n",
    "        print('{0} of {1}'.format(tt,len(ds_mon_obs_month_stack.time)))\n",
    "        temp_var1 = obs_month_loc_stack[tt,:].astype('int')\n",
    "        temp_var2 = temp_var1.where(temp_var1 < 100, 99)\n",
    "        temp_var3 = abs(temp_var2 - obs_month_loc_stack[tt,:])\n",
    "        change_factor=(1-temp_var3)*change_month_add_stack[temp_var2,:]+temp_var3*change_month_add_stack[temp_var2+1,:]\n",
    "        temp_var[tt,:] = ds_mon_obs_month_stack[tt,:] + change_factor\n",
    "\n",
    "    obs_month_adjusted = temp_var\n",
    "        \n",
    "    ratio1 = obs_month_adjusted.mean('time').where(abs(obs_month_adjusted.mean('time'))>10**-20)-ds_mon_obs_month.mean('time').where(abs(ds_mon_obs_month.mean('time'))>10**-20)\n",
    "    ratio2 = ds_mon_fut_month_mean_interp.where(abs(ds_mon_fut_month_mean_interp)>10**-20)-ds_mon_hist_month_mean_interp.where(abs(ds_mon_hist_month_mean_interp)>10**-20)\n",
    "\n",
    "    bias_factor=ratio2-ratio1\n",
    "    bias_factor=bias_factor.fillna(10**-20)\n",
    "\n",
    "    MO_corrected = obs_month_adjusted + bias_factor[Variable]    \n",
    "    MO_corrected = MO_corrected.astype('float32')\n",
    "\n",
    "elif (mode=='mulqq'):\n",
    "    ###### Applying the change factor \n",
    "\n",
    "        for tt in range(ds_mon_obs_month_stack.time.size):\n",
    "\n",
    "            print('{0} of {1}'.format(tt,len(ds_mon_obs_month_stack.time)))\n",
    "\n",
    "            temp_var1 = obs_month_loc_stack[tt,:].astype('int').drop('z')\n",
    "\n",
    "            temp_var2=temp_var1.where(temp_var1<100,99)\n",
    "\n",
    "            temp_var3=abs(temp_var2-obs_month_loc_stack[tt,:])\n",
    "\n",
    "            change_factor=(1-temp_var3)*change_month_mul_stack[temp_var2,:]+temp_var3*change_month_mul_stack[temp_var2+1,:] \n",
    "\n",
    "            temp_var[tt,:]=ds_mon_obs_month_stack[tt,:]*change_factor\n",
    "\n",
    "        obs_month_adjusted=temp_var.unstack()\n",
    "\n",
    "\n",
    "###### bias correction of the data                \n",
    "        ratio1=obs_month_adjusted.mean('time').where(obs_month_adjusted.mean('time')>10**-20)/ds_mon_obs_month.mean('time').where(ds_mon_obs_month.mean('time')>10**-20)\n",
    "\n",
    "        ratio2=ds_mon_fut_month_mean_interp.where(ds_mon_fut_month_mean_interp>10**-20)/ds_mon_hist_month_mean_interp.where(ds_mon_hist_month_mean_interp>10**-20)\n",
    "  \n",
    "        bias_factor=ratio2/ratio1\n",
    "\n",
    "        bias_factor=bias_factor.fillna(10**-20)\n",
    "\n",
    "        MO_corrected = obs_month_adjusted*bias_factor"
   ]
  }
 ],
 "metadata": {
  "kernelspec": {
   "display_name": "Python 3 (ipykernel)",
   "language": "python",
   "name": "python3"
  },
  "language_info": {
   "codemirror_mode": {
    "name": "ipython",
    "version": 3
   },
   "file_extension": ".py",
   "mimetype": "text/x-python",
   "name": "python",
   "nbconvert_exporter": "python",
   "pygments_lexer": "ipython3",
   "version": "3.10.4"
  }
 },
 "nbformat": 4,
 "nbformat_minor": 5
}
