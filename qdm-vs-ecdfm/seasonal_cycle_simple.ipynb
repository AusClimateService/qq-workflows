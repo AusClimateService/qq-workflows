{
 "cells": [
  {
   "cell_type": "code",
   "execution_count": 1,
   "id": "fad2cbdd",
   "metadata": {},
   "outputs": [
    {
     "name": "stderr",
     "output_type": "stream",
     "text": [
      "Matplotlib is building the font cache; this may take a moment.\n"
     ]
    }
   ],
   "source": [
    "import glob\n",
    "import calendar\n",
    "\n",
    "import xarray as xr\n",
    "import matplotlib.pyplot as plt\n",
    "import numpy as np"
   ]
  },
  {
   "cell_type": "code",
   "execution_count": 2,
   "id": "276f6b5e",
   "metadata": {},
   "outputs": [],
   "source": [
    "obs_files = sorted(glob.glob(\"/g/data/zv2/agcd/v2-0-1/precip/total/r005/01month/agcd_v2-0-1_precip_total_r005_monthly_*.nc\"))\n",
    "hist_file = \"/g/data/fs38/publications/CMIP6/CMIP/CSIRO/ACCESS-ESM1-5/historical/r1i1p1f1/Amon/pr/gn/v20191115/pr_Amon_ACCESS-ESM1-5_historical_r1i1p1f1_gn_185001-201412.nc\"\n",
    "ssp_file = \"/g/data/fs38/publications/CMIP6/ScenarioMIP/CSIRO/ACCESS-ESM1-5/ssp370/r1i1p1f1/Amon/pr/gn/v20191115/pr_Amon_ACCESS-ESM1-5_ssp370_r1i1p1f1_gn_201501-210012.nc\"\n",
    "\n",
    "baseline_start = \"1985-01-01\"\n",
    "baseline_end = \"2014-12-31\"\n",
    "future_start = \"2070-01-01\"\n",
    "future_end = \"2099-12-31\"\n",
    "\n",
    "city = 'Geraldton'"
   ]
  },
  {
   "cell_type": "code",
   "execution_count": 3,
   "id": "b485bdc8",
   "metadata": {},
   "outputs": [],
   "source": [
    "city_lat_lon = {\n",
    "    'Hobart': (-42.9, 147.3),\n",
    "    'Melbourne': (-37.8, 145.0),\n",
    "    'Thredbo': (-36.5, 148.3),\n",
    "    'Sydney': (-33.9, 151.2),\n",
    "    'Brisbane': (-27.5, 153.0),\n",
    "    'Cairns': (-16.9, 145.8),\n",
    "    'Darwin': (-12.5, 130.8),\n",
    "    'Alice Springs': (-23.7, 133.9),\n",
    "    'Port Hedland': (-20.3, 118.6),\n",
    "    'Geraldton': (-28.8, 114.6),\n",
    "    'Perth': (-32.0, 115.9),\n",
    "    'Adelaide': (-34.9, 138.6),\n",
    "}"
   ]
  },
  {
   "cell_type": "code",
   "execution_count": 4,
   "id": "cd69389e",
   "metadata": {},
   "outputs": [],
   "source": [
    "lat, lon = city_lat_lon[city]"
   ]
  },
  {
   "cell_type": "code",
   "execution_count": 5,
   "id": "7a85873f",
   "metadata": {},
   "outputs": [],
   "source": [
    "ds_obs = xr.open_mfdataset(obs_files)\n",
    "ds_obs = ds_obs.sel(lat=lat, lon=lon, method='nearest')\n",
    "ds_obs = ds_obs.sel(time=slice(baseline_start, baseline_end))\n",
    "ds_obs = ds_obs.rename({'precip': 'pr'})\n",
    "ds_obs = ds_obs.compute()"
   ]
  },
  {
   "cell_type": "code",
   "execution_count": 6,
   "id": "b853cac7",
   "metadata": {},
   "outputs": [],
   "source": [
    "ds_hist = xr.open_dataset(hist_file)\n",
    "ds_hist = ds_hist.sel(lat=lat, lon=lon, method='nearest')\n",
    "ds_hist = ds_hist.sel(time=slice(baseline_start, baseline_end))\n",
    "ds_hist['pr'] = (ds_hist['pr'] * 86400) * ds_hist['time'].dt.days_in_month\n",
    "ds_hist['pr'].attrs['units'] = 'mm'\n",
    "ds_hist = ds_hist.compute()"
   ]
  },
  {
   "cell_type": "code",
   "execution_count": 7,
   "id": "2ac61e1b",
   "metadata": {},
   "outputs": [],
   "source": [
    "ds_future = xr.open_dataset(ssp_file)\n",
    "ds_future = ds_future.sel(lat=lat, lon=lon, method='nearest')\n",
    "ds_future = ds_future.sel(time=slice(future_start, future_end))\n",
    "ds_future['pr'] = (ds_future['pr'] * 86400) * ds_future['time'].dt.days_in_month\n",
    "ds_future['pr'].attrs['units'] = 'mm'\n",
    "ds_future = ds_future.compute()"
   ]
  },
  {
   "cell_type": "code",
   "execution_count": 8,
   "id": "7a89bbbb",
   "metadata": {},
   "outputs": [],
   "source": [
    "obs_monthly_mean = ds_obs['pr'].groupby('time.month').mean('time')\n",
    "hist_monthly_mean = ds_hist['pr'].groupby('time.month').mean('time')\n",
    "future_monthly_mean = ds_future['pr'].groupby('time.month').mean('time')"
   ]
  },
  {
   "cell_type": "code",
   "execution_count": 9,
   "id": "462da22f",
   "metadata": {},
   "outputs": [],
   "source": [
    "obs_annual = ds_obs['pr'].resample(time='Y').sum()\n",
    "hist_annual = ds_hist['pr'].resample(time='Y').sum()\n",
    "future_annual = ds_future['pr'].resample(time='Y').sum()"
   ]
  },
  {
   "cell_type": "code",
   "execution_count": 10,
   "id": "1733f7c3",
   "metadata": {},
   "outputs": [],
   "source": [
    "obs_annual_mean = obs_annual.mean('time')\n",
    "hist_annual_mean = hist_annual.mean('time')\n",
    "future_annual_mean = future_annual.mean('time')"
   ]
  },
  {
   "cell_type": "code",
   "execution_count": 11,
   "id": "4b7991bd",
   "metadata": {},
   "outputs": [],
   "source": [
    "obs_monthly_annual_pct = (obs_monthly_mean.values / obs_annual_mean.values) * 100 \n",
    "hist_monthly_annual_pct = (hist_monthly_mean.values / hist_annual_mean.values) * 100"
   ]
  },
  {
   "cell_type": "markdown",
   "id": "ace6ed13",
   "metadata": {},
   "source": [
    "## Model change in rainfall"
   ]
  },
  {
   "cell_type": "code",
   "execution_count": 12,
   "id": "95730ad9",
   "metadata": {},
   "outputs": [
    {
     "data": {
      "text/plain": [
       "array(193.16421077)"
      ]
     },
     "execution_count": 12,
     "metadata": {},
     "output_type": "execute_result"
    }
   ],
   "source": [
    "future_annual_mean.values"
   ]
  },
  {
   "cell_type": "code",
   "execution_count": 13,
   "id": "9163b3f3",
   "metadata": {},
   "outputs": [
    {
     "data": {
      "text/plain": [
       "array(323.81530849)"
      ]
     },
     "execution_count": 13,
     "metadata": {},
     "output_type": "execute_result"
    }
   ],
   "source": [
    "hist_annual_mean.values"
   ]
  },
  {
   "cell_type": "code",
   "execution_count": 14,
   "id": "6351c143",
   "metadata": {},
   "outputs": [
    {
     "name": "stdout",
     "output_type": "stream",
     "text": [
      "Modelled change in annual mean rainfall: -40.3%\n"
     ]
    }
   ],
   "source": [
    "model_rainfall_change = ((future_annual_mean.values - hist_annual_mean.values) / hist_annual_mean.values) * 100\n",
    "print(f'Modelled change in annual mean rainfall: {model_rainfall_change:.1f}%')"
   ]
  },
  {
   "cell_type": "code",
   "execution_count": 15,
   "id": "5d16a223",
   "metadata": {},
   "outputs": [],
   "source": [
    "model_rainfall_change_month_pct = ((future_monthly_mean.values - hist_monthly_mean.values) / hist_annual_mean.values) * 100"
   ]
  },
  {
   "cell_type": "code",
   "execution_count": 16,
   "id": "d860c057",
   "metadata": {},
   "outputs": [
    {
     "data": {
      "text/plain": [
       "-40.34741233515578"
      ]
     },
     "execution_count": 16,
     "metadata": {},
     "output_type": "execute_result"
    }
   ],
   "source": [
    "model_rainfall_change_month_pct.sum()"
   ]
  },
  {
   "cell_type": "markdown",
   "id": "f5a07b9a",
   "metadata": {},
   "source": [
    "## Apply delta change method"
   ]
  },
  {
   "cell_type": "code",
   "execution_count": 17,
   "id": "18231c09",
   "metadata": {},
   "outputs": [],
   "source": [
    "monthly_adjustment_factors = future_monthly_mean / hist_monthly_mean"
   ]
  },
  {
   "cell_type": "code",
   "execution_count": 18,
   "id": "7b55b4bc",
   "metadata": {},
   "outputs": [],
   "source": [
    "da_dc = ds_obs['pr'].groupby('time.month') * monthly_adjustment_factors\n",
    "da_dc = da_dc.compute()"
   ]
  },
  {
   "cell_type": "markdown",
   "id": "be77b93c",
   "metadata": {},
   "source": [
    "## Delta change in rainfall"
   ]
  },
  {
   "cell_type": "code",
   "execution_count": 19,
   "id": "9921d7e8",
   "metadata": {},
   "outputs": [],
   "source": [
    "dc_monthly_mean = da_dc.groupby('time.month').mean('time')"
   ]
  },
  {
   "cell_type": "code",
   "execution_count": 20,
   "id": "cf86568a",
   "metadata": {},
   "outputs": [],
   "source": [
    "dc_annual = da_dc.resample(time='Y').sum()"
   ]
  },
  {
   "cell_type": "code",
   "execution_count": 21,
   "id": "4a635c9b",
   "metadata": {},
   "outputs": [],
   "source": [
    "dc_annual_mean = dc_annual.mean('time')"
   ]
  },
  {
   "cell_type": "code",
   "execution_count": 22,
   "id": "79b0cd1d",
   "metadata": {},
   "outputs": [
    {
     "data": {
      "text/plain": [
       "array(279.5149511)"
      ]
     },
     "execution_count": 22,
     "metadata": {},
     "output_type": "execute_result"
    }
   ],
   "source": [
    "dc_annual_mean.values"
   ]
  },
  {
   "cell_type": "code",
   "execution_count": 23,
   "id": "b8abe4cb",
   "metadata": {},
   "outputs": [
    {
     "data": {
      "text/plain": [
       "array(418.57907, dtype=float32)"
      ]
     },
     "execution_count": 23,
     "metadata": {},
     "output_type": "execute_result"
    }
   ],
   "source": [
    "obs_annual_mean.values"
   ]
  },
  {
   "cell_type": "code",
   "execution_count": 24,
   "id": "f0795bc5",
   "metadata": {},
   "outputs": [
    {
     "name": "stdout",
     "output_type": "stream",
     "text": [
      "Change in annual mean rainfall (delta change method): -33.2%\n"
     ]
    }
   ],
   "source": [
    "dc_rainfall_change = ((dc_annual_mean.values - obs_annual_mean.values) / obs_annual_mean.values) * 100\n",
    "print(f'Change in annual mean rainfall (delta change method): {dc_rainfall_change:.1f}%')"
   ]
  },
  {
   "cell_type": "code",
   "execution_count": 25,
   "id": "4c3a1d66",
   "metadata": {},
   "outputs": [],
   "source": [
    "dc_rainfall_change_month_pct = ((dc_monthly_mean.values - obs_monthly_mean.values) / obs_annual_mean.values) * 100"
   ]
  },
  {
   "cell_type": "code",
   "execution_count": 26,
   "id": "aab839ff",
   "metadata": {},
   "outputs": [
    {
     "data": {
      "text/plain": [
       "array([ -0.65204874,  -1.26427179,  -2.64542251,  -2.85192781,\n",
       "        -7.59464158,   1.78338067, -10.7337762 ,  -4.19118645,\n",
       "        -1.9557637 ,  -2.22917159,  -0.75585957,  -0.13221436])"
      ]
     },
     "execution_count": 26,
     "metadata": {},
     "output_type": "execute_result"
    }
   ],
   "source": [
    "dc_rainfall_change_month_pct"
   ]
  },
  {
   "cell_type": "code",
   "execution_count": 27,
   "id": "5bfa64f6",
   "metadata": {},
   "outputs": [
    {
     "data": {
      "text/plain": [
       "-33.222903628007"
      ]
     },
     "execution_count": 27,
     "metadata": {},
     "output_type": "execute_result"
    }
   ],
   "source": [
    "dc_rainfall_change_month_pct.sum()"
   ]
  },
  {
   "cell_type": "markdown",
   "id": "4d613de4",
   "metadata": {},
   "source": [
    "## Summary plot"
   ]
  },
  {
   "cell_type": "code",
   "execution_count": 29,
   "id": "249fc181",
   "metadata": {},
   "outputs": [
    {
     "name": "stderr",
     "output_type": "stream",
     "text": [
      "No artists with labels found to put in legend.  Note that artists whose label start with an underscore are ignored when legend() is called with no argument.\n"
     ]
    },
    {
     "data": {
      "image/png": "[encoded data removed]",
      "text/plain": [
       "<Figure size 1080x720 with 4 Axes>"
      ]
     },
     "metadata": {
      "needs_background": "light"
     },
     "output_type": "display_data"
    }
   ],
   "source": [
    "fig = plt.figure(figsize=[15, 10])\n",
    "ax1 = fig.add_subplot(221)\n",
    "ax2 = fig.add_subplot(222)\n",
    "ax3 = fig.add_subplot(223)\n",
    "ax4 = fig.add_subplot(224)\n",
    "\n",
    "xticks = np.arange(1, 13)\n",
    "xtick_labels = [calendar.month_abbr[i] for i in xticks]\n",
    "\n",
    "ax1.plot(xticks, obs_monthly_annual_pct, label='observations', marker='o')\n",
    "ax1.plot(xticks, hist_monthly_annual_pct, label='model', marker='o')\n",
    "ax1.set_title('(a) Rainfall climatology, 1985-2014')\n",
    "ax1.legend()\n",
    "ax1.set_ylabel('% of annual total')\n",
    "ax1.set_xticks(xticks, xtick_labels)\n",
    "ax1.grid()\n",
    "\n",
    "ax2.plot(xticks, hist_monthly_mean, label='model (1985-2014)', marker='o', color='tab:orange')\n",
    "ax2.plot(xticks, future_monthly_mean, label='model (2070-2099)', marker='o', color='tab:red')\n",
    "ax2.set_title('(b) Model simulated change in rainfall')\n",
    "ax2.legend()\n",
    "ax2.set_ylabel('Average rainfall (mm)')\n",
    "ax2.set_xticks(xticks, xtick_labels)\n",
    "ax2.grid()\n",
    "\n",
    "ax3.bar(xticks, monthly_adjustment_factors - 1.0, bottom=1.0, color='tab:grey')\n",
    "ax3.set_title('(c) Multiplicative change factors')\n",
    "ax3.legend()\n",
    "ax3.set_ylabel('Model ratio (2070-2099 mean / 1985-2014 mean)')\n",
    "ax3.set_xticks(xticks, xtick_labels)\n",
    "ax3.grid()\n",
    "\n",
    "ax4.bar(xticks, model_rainfall_change_month_pct, alpha=0.5, label='model')\n",
    "ax4.bar(xticks, dc_rainfall_change_month_pct, alpha=0.5, label='delta change method')\n",
    "ax4.set_title('(d) Change in rainfall, 1985-2014 to 2070-2099')\n",
    "ax4.legend()\n",
    "ax4.set_ylabel('Change in rainfall (% of total annual rainfall)')\n",
    "ax4.set_xticks(xticks, xtick_labels)\n",
    "ax4.grid()\n",
    "\n",
    "#plt.suptitle(city)\n",
    "plt.savefig(\n",
    "    f'precip_delta_change_example_{city}.png',\n",
    "    dpi=300,\n",
    "    bbox_inches='tight',\n",
    "    facecolor='white',\n",
    ")"
   ]
  },
  {
   "cell_type": "code",
   "execution_count": null,
   "id": "845f8186",
   "metadata": {},
   "outputs": [],
   "source": []
  }
 ],
 "metadata": {
  "kernelspec": {
   "display_name": "Python 3 (ipykernel)",
   "language": "python",
   "name": "python3"
  },
  "language_info": {
   "codemirror_mode": {
    "name": "ipython",
    "version": 3
   },
   "file_extension": ".py",
   "mimetype": "text/x-python",
   "name": "python",
   "nbconvert_exporter": "python",
   "pygments_lexer": "ipython3",
   "version": "3.10.4"
  }
 },
 "nbformat": 4,
 "nbformat_minor": 5
}
