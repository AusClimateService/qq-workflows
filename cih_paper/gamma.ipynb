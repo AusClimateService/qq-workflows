{
 "cells": [
  {
   "cell_type": "code",
   "execution_count": 1,
   "id": "9d37f7e1",
   "metadata": {},
   "outputs": [],
   "source": [
    "import sys\n",
    "\n",
    "import numpy as np\n",
    "from scipy.stats import gamma\n",
    "import matplotlib.pyplot as plt\n",
    "\n",
    "sys.path.append('/g/data/wp00/shared_code/qqscale')\n",
    "import utils"
   ]
  },
  {
   "cell_type": "code",
   "execution_count": 2,
   "id": "5612e496",
   "metadata": {},
   "outputs": [],
   "source": [
    "xvals = np.arange(0, 100, 0.1)"
   ]
  },
  {
   "cell_type": "code",
   "execution_count": 3,
   "id": "4cb084f4",
   "metadata": {},
   "outputs": [
    {
     "data": {
      "text/plain": [
       "array([0.005, 0.015, 0.025, 0.035, 0.045, 0.055, 0.065, 0.075, 0.085,\n",
       "       0.095, 0.105, 0.115, 0.125, 0.135, 0.145, 0.155, 0.165, 0.175,\n",
       "       0.185, 0.195, 0.205, 0.215, 0.225, 0.235, 0.245, 0.255, 0.265,\n",
       "       0.275, 0.285, 0.295, 0.305, 0.315, 0.325, 0.335, 0.345, 0.355,\n",
       "       0.365, 0.375, 0.385, 0.395, 0.405, 0.415, 0.425, 0.435, 0.445,\n",
       "       0.455, 0.465, 0.475, 0.485, 0.495, 0.505, 0.515, 0.525, 0.535,\n",
       "       0.545, 0.555, 0.565, 0.575, 0.585, 0.595, 0.605, 0.615, 0.625,\n",
       "       0.635, 0.645, 0.655, 0.665, 0.675, 0.685, 0.695, 0.705, 0.715,\n",
       "       0.725, 0.735, 0.745, 0.755, 0.765, 0.775, 0.785, 0.795, 0.805,\n",
       "       0.815, 0.825, 0.835, 0.845, 0.855, 0.865, 0.875, 0.885, 0.895,\n",
       "       0.905, 0.915, 0.925, 0.935, 0.945, 0.955, 0.965, 0.975, 0.985,\n",
       "       0.995])"
      ]
     },
     "execution_count": 3,
     "metadata": {},
     "output_type": "execute_result"
    }
   ],
   "source": [
    "quantiles = np.arange(0.005, 1.0, 0.01)\n",
    "quantiles"
   ]
  },
  {
   "cell_type": "markdown",
   "id": "16ba9a3b",
   "metadata": {},
   "source": [
    "## Cannon example\n",
    "\n",
    "See Section 4 of [Cannon et al (2015)](https://journals.ametsoc.org/view/journals/clim/28/17/jcli-d-14-00754.1.xml#bib44)."
   ]
  },
  {
   "cell_type": "code",
   "execution_count": 106,
   "id": "97a4efd3",
   "metadata": {},
   "outputs": [],
   "source": [
    "obs_shape = 4.0\n",
    "obs_scale = 7.5\n",
    "hist_shape = 8.15\n",
    "hist_scale = 3.68\n",
    "future_shape = 16\n",
    "future_scale = 2.63\n",
    "#future_shape = 4.8\n",
    "#future_scale = 5"
   ]
  },
  {
   "cell_type": "code",
   "execution_count": 107,
   "id": "70ef4ca6",
   "metadata": {},
   "outputs": [
    {
     "data": {
      "text/plain": [
       "42.08"
      ]
     },
     "execution_count": 107,
     "metadata": {},
     "output_type": "execute_result"
    }
   ],
   "source": [
    "future_shape * future_scale"
   ]
  },
  {
   "cell_type": "code",
   "execution_count": 108,
   "id": "7519c791",
   "metadata": {},
   "outputs": [],
   "source": [
    "obs_pdf = gamma.pdf(xvals, a=obs_shape, scale=obs_scale)\n",
    "hist_pdf = gamma.pdf(xvals, a=hist_shape, scale=hist_scale)\n",
    "future_pdf = gamma.pdf(xvals, a=future_shape, scale=future_scale)"
   ]
  },
  {
   "cell_type": "code",
   "execution_count": 109,
   "id": "9c62f0f8",
   "metadata": {},
   "outputs": [
    {
     "data": {
      "image/png": "[encoded data removed]",
      "text/plain": [
       "<Figure size 432x288 with 1 Axes>"
      ]
     },
     "metadata": {
      "needs_background": "light"
     },
     "output_type": "display_data"
    }
   ],
   "source": [
    "plt.plot(xvals, obs_pdf, color='tab:red', label='obs')\n",
    "plt.plot(xvals, hist_pdf, color='black', label='hist')\n",
    "plt.plot(xvals, future_pdf, color='tab:blue', label='future')\n",
    "plt.legend()\n",
    "plt.xlim(0, 100)\n",
    "plt.show()"
   ]
  },
  {
   "cell_type": "code",
   "execution_count": 110,
   "id": "1e4c69d8",
   "metadata": {},
   "outputs": [
    {
     "data": {
      "text/plain": [
       "29.992"
      ]
     },
     "execution_count": 110,
     "metadata": {},
     "output_type": "execute_result"
    }
   ],
   "source": [
    "hist_mean = gamma.mean(a=hist_shape, scale=hist_scale)\n",
    "hist_mean"
   ]
  },
  {
   "cell_type": "code",
   "execution_count": 111,
   "id": "dafeefa8",
   "metadata": {},
   "outputs": [
    {
     "data": {
      "text/plain": [
       "42.08"
      ]
     },
     "execution_count": 111,
     "metadata": {},
     "output_type": "execute_result"
    }
   ],
   "source": [
    "future_mean = gamma.mean(a=future_shape, scale=future_scale)\n",
    "future_mean"
   ]
  },
  {
   "cell_type": "code",
   "execution_count": 112,
   "id": "17bc3739",
   "metadata": {},
   "outputs": [
    {
     "data": {
      "text/plain": [
       "1.403040810882902"
      ]
     },
     "execution_count": 112,
     "metadata": {},
     "output_type": "execute_result"
    }
   ],
   "source": [
    "mean_scaling = future_mean / hist_mean\n",
    "mean_scaling"
   ]
  },
  {
   "cell_type": "code",
   "execution_count": 114,
   "id": "d27e6bdc",
   "metadata": {},
   "outputs": [
    {
     "data": {
      "text/plain": [
       "100"
      ]
     },
     "execution_count": 114,
     "metadata": {},
     "output_type": "execute_result"
    }
   ],
   "source": [
    "len(quantiles)"
   ]
  },
  {
   "cell_type": "code",
   "execution_count": 115,
   "id": "96d7a0a0",
   "metadata": {},
   "outputs": [],
   "source": [
    "obs_quantiles = gamma.ppf(quantiles, a=obs_shape, scale=obs_scale)\n",
    "hist_quantiles = gamma.ppf(quantiles, a=hist_shape, scale=hist_scale)\n",
    "future_quantiles = gamma.ppf(quantiles, a=future_shape, scale=future_scale)"
   ]
  },
  {
   "cell_type": "code",
   "execution_count": 116,
   "id": "5a1443ab",
   "metadata": {},
   "outputs": [
    {
     "data": {
      "image/png": "[encoded data removed]",
      "text/plain": [
       "<Figure size 432x288 with 1 Axes>"
      ]
     },
     "metadata": {
      "needs_background": "light"
     },
     "output_type": "display_data"
    }
   ],
   "source": [
    "plt.plot(quantiles, obs_quantiles, marker='o', color='tab:red', label='obs')\n",
    "plt.plot(quantiles, hist_quantiles, marker='o', color='black', label='hist')\n",
    "plt.plot(quantiles, future_quantiles, marker='o', color='tab:blue', label='future')\n",
    "plt.legend()\n",
    "plt.ylabel('rainfall (mm)')\n",
    "plt.xlabel('quantile')\n",
    "plt.show()"
   ]
  },
  {
   "cell_type": "code",
   "execution_count": 117,
   "id": "798abcf2",
   "metadata": {},
   "outputs": [
    {
     "data": {
      "text/plain": [
       "15.0"
      ]
     },
     "execution_count": 117,
     "metadata": {},
     "output_type": "execute_result"
    }
   ],
   "source": [
    "gamma.std(a=obs_shape, scale=obs_scale)"
   ]
  },
  {
   "cell_type": "code",
   "execution_count": 118,
   "id": "6d297a01",
   "metadata": {},
   "outputs": [
    {
     "data": {
      "text/plain": [
       "10.505739383784466"
      ]
     },
     "execution_count": 118,
     "metadata": {},
     "output_type": "execute_result"
    }
   ],
   "source": [
    "gamma.std(a=hist_shape, scale=hist_scale)"
   ]
  },
  {
   "cell_type": "code",
   "execution_count": 119,
   "id": "afbb0b12",
   "metadata": {},
   "outputs": [
    {
     "data": {
      "text/plain": [
       "10.52"
      ]
     },
     "execution_count": 119,
     "metadata": {},
     "output_type": "execute_result"
    }
   ],
   "source": [
    "gamma.std(a=future_shape, scale=future_scale)"
   ]
  },
  {
   "cell_type": "code",
   "execution_count": 120,
   "id": "d21b1820",
   "metadata": {},
   "outputs": [],
   "source": [
    "adjustment_factors = future_quantiles / hist_quantiles"
   ]
  },
  {
   "cell_type": "code",
   "execution_count": 121,
   "id": "80d1aecc",
   "metadata": {},
   "outputs": [
    {
     "data": {
      "image/png": "[encoded data removed]",
      "text/plain": [
       "<Figure size 432x288 with 1 Axes>"
      ]
     },
     "metadata": {
      "needs_background": "light"
     },
     "output_type": "display_data"
    }
   ],
   "source": [
    "plt.plot(quantiles, adjustment_factors, marker='o')\n",
    "plt.ylabel('adjustment factor')\n",
    "plt.xlabel('quantile')\n",
    "plt.show()"
   ]
  },
  {
   "cell_type": "code",
   "execution_count": 122,
   "id": "797b0c61",
   "metadata": {},
   "outputs": [
    {
     "data": {
      "text/plain": [
       "0.4033826330737879"
      ]
     },
     "execution_count": 122,
     "metadata": {},
     "output_type": "execute_result"
    }
   ],
   "source": [
    "hist_adjusted = adjustment_factors * hist_quantiles\n",
    "(hist_adjusted.sum() - hist_quantiles.sum()) / hist_quantiles.sum()"
   ]
  },
  {
   "cell_type": "code",
   "execution_count": 123,
   "id": "8ba4425c",
   "metadata": {},
   "outputs": [
    {
     "data": {
      "text/plain": [
       "1.403040810882902"
      ]
     },
     "execution_count": 123,
     "metadata": {},
     "output_type": "execute_result"
    }
   ],
   "source": [
    "mean_scaling"
   ]
  },
  {
   "cell_type": "code",
   "execution_count": 124,
   "id": "6207c438",
   "metadata": {},
   "outputs": [
    {
     "data": {
      "text/plain": [
       "0.38321725478096996"
      ]
     },
     "execution_count": 124,
     "metadata": {},
     "output_type": "execute_result"
    }
   ],
   "source": [
    "obs_adjusted = adjustment_factors * obs_quantiles\n",
    "(obs_adjusted.sum() - obs_quantiles.sum()) / obs_quantiles.sum()"
   ]
  },
  {
   "cell_type": "markdown",
   "id": "0621f7e9",
   "metadata": {},
   "source": [
    "So the multiplicative adjustment factors are larger at lower quantiles because the relative difference between the historical and future values is greater at lower rainfall amounts.\n",
    "\n",
    "If the model underestimates the observed variance, a relatively lower proportion of the observed rainfall is at lower amounts (to recieve the bigger adjustment) so the magnitude of the qq-scaled change is smaller than the magnitude of the GCM change.\n",
    "\n",
    "TODO: Figure out if the same applies when the shape parameter is less than one (i.e. a more realistic distribution)"
   ]
  },
  {
   "cell_type": "markdown",
   "id": "5e4a8939",
   "metadata": {},
   "source": [
    "## Real data"
   ]
  },
  {
   "cell_type": "code",
   "execution_count": 25,
   "id": "8b3bd56e",
   "metadata": {},
   "outputs": [],
   "source": [
    "hist_file = \"/g/data/wp00/data/QQ-CMIP6/ACCESS-ESM1-5/historical/r1i1p1f1/day/pr/v20191115/pr-ssr_day_ACCESS-ESM1-5_historical_r1i1p1f1_gn_19950101-20141231.nc\"\n",
    "future_file = \"/g/data/wp00/data/QQ-CMIP6/ACCESS-ESM1-5/ssp370/r1i1p1f1/day/pr/v20191115/pr-ssr_day_ACCESS-ESM1-5_ssp370_r1i1p1f1_gn_20560101-20851231.nc\"\n",
    "obs_file = \"/g/data/wp00/data/AGCD/precip-ssr_AGCD_r005_19900101-20191231_daily.nc\"\n",
    "hist_time_bounds = [\"1995-01-01\", \"2014-12-31\"]\n",
    "future_time_bounds = [\"2065-01-01\", \"2084-12-31\"]\n",
    "obs_time_bounds = [\"1995-01-01\", \"2014-12-31\"]"
   ]
  },
  {
   "cell_type": "code",
   "execution_count": 5,
   "id": "a1f2061a",
   "metadata": {},
   "outputs": [],
   "source": [
    "hist_units = \"mm day-1\"\n",
    "future_units = \"mm day-1\"\n",
    "obs_units = \"mm day-1\"\n",
    "output_units = \"mm day-1\"\n",
    "hist_var = \"pr\"\n",
    "future_var = \"pr\"\n",
    "obs_var = \"precip\""
   ]
  },
  {
   "cell_type": "code",
   "execution_count": 6,
   "id": "d899b8a7",
   "metadata": {},
   "outputs": [],
   "source": [
    "city_lat_lon = {\n",
    "    'Hobart': (-42.9, 147.3),\n",
    "    'Melbourne': (-37.8, 145.0),\n",
    "    'Thredbo': (-36.5, 148.3),\n",
    "    'Sydney': (-33.9, 151.2),\n",
    "    'Brisbane': (-27.5, 153.0),\n",
    "    'Cairns': (-16.9, 145.8),\n",
    "    'Darwin': (-12.5, 130.8),\n",
    "    'Alice Springs': (-23.7, 133.9),\n",
    "    'Port Hedland': (-20.3, 118.6),\n",
    "    'Geraldton': (-28.8, 114.6),\n",
    "    'Perth': (-32.0, 115.9),\n",
    "    'Adelaide': (-34.9, 138.6),\n",
    "}"
   ]
  },
  {
   "cell_type": "code",
   "execution_count": 7,
   "id": "2df5ebf4",
   "metadata": {},
   "outputs": [],
   "source": [
    "lat, lon = city_lat_lon['Geraldton']\n",
    "point_selection = {'lat': lat, 'lon': lon}"
   ]
  },
  {
   "cell_type": "code",
   "execution_count": 8,
   "id": "a4bf9e29",
   "metadata": {},
   "outputs": [],
   "source": [
    "ds_hist = utils.read_data(\n",
    "    hist_file,\n",
    "    hist_var,\n",
    "    time_bounds=hist_time_bounds,\n",
    "    input_units=hist_units,\n",
    "    output_units=output_units,\n",
    ")"
   ]
  },
  {
   "cell_type": "code",
   "execution_count": 9,
   "id": "bc80a4ea",
   "metadata": {},
   "outputs": [],
   "source": [
    "da_hist_point = ds_hist[hist_var].sel(point_selection, method='nearest')"
   ]
  },
  {
   "cell_type": "code",
   "execution_count": 10,
   "id": "6a7fdec2",
   "metadata": {},
   "outputs": [],
   "source": [
    "da_hist_point = da_hist_point.compute()"
   ]
  },
  {
   "cell_type": "code",
   "execution_count": 11,
   "id": "ad268bab",
   "metadata": {},
   "outputs": [
    {
     "name": "stdout",
     "output_type": "stream",
     "text": [
      "Historical\n",
      "Shape: 0.014281283464119946\n",
      "Location: 4.4520891040288637e-07\n",
      "Scale: 1.5487260403981002\n"
     ]
    }
   ],
   "source": [
    "hist_shape, hist_loc, hist_scale = gamma.fit(da_hist_point.data)\n",
    "print(\"Historical\")\n",
    "print(f\"Shape: {hist_shape}\")\n",
    "print(f\"Location: {hist_loc}\")\n",
    "print(f\"Scale: {hist_scale}\")"
   ]
  },
  {
   "cell_type": "code",
   "execution_count": 26,
   "id": "188a1324",
   "metadata": {},
   "outputs": [],
   "source": [
    "ds_future = utils.read_data(\n",
    "    future_file,\n",
    "    future_var,\n",
    "    time_bounds=future_time_bounds,\n",
    "    input_units=future_units,\n",
    "    output_units=output_units,\n",
    ")"
   ]
  },
  {
   "cell_type": "code",
   "execution_count": 27,
   "id": "03e7a26a",
   "metadata": {},
   "outputs": [],
   "source": [
    "da_future_point = ds_future[future_var].sel(point_selection, method='nearest')"
   ]
  },
  {
   "cell_type": "code",
   "execution_count": 28,
   "id": "a779af99",
   "metadata": {},
   "outputs": [],
   "source": [
    "da_future_point = da_future_point.compute()"
   ]
  },
  {
   "cell_type": "code",
   "execution_count": 29,
   "id": "54d808e8",
   "metadata": {},
   "outputs": [
    {
     "name": "stdout",
     "output_type": "stream",
     "text": [
      "Future\n",
      "Shape: 0.03105457971156212\n",
      "Location: 2.0277689821428522e-07\n",
      "Scale: 1.537388250352415\n"
     ]
    }
   ],
   "source": [
    "future_shape, future_loc, future_scale = gamma.fit(da_future_point.data)\n",
    "print(\"Future\")\n",
    "print(f\"Shape: {future_shape}\")\n",
    "print(f\"Location: {future_loc}\")\n",
    "print(f\"Scale: {future_scale}\")"
   ]
  },
  {
   "cell_type": "code",
   "execution_count": 16,
   "id": "348ea8f4",
   "metadata": {},
   "outputs": [],
   "source": [
    "ds_obs = utils.read_data(\n",
    "    obs_file,\n",
    "    obs_var,\n",
    "    time_bounds=obs_time_bounds,\n",
    "    input_units=obs_units,\n",
    "    output_units=output_units\n",
    ")"
   ]
  },
  {
   "cell_type": "code",
   "execution_count": 17,
   "id": "e0d59d3f",
   "metadata": {},
   "outputs": [],
   "source": [
    "da_obs_point = ds_obs[obs_var].sel(point_selection, method='nearest')"
   ]
  },
  {
   "cell_type": "code",
   "execution_count": 18,
   "id": "bc5006f9",
   "metadata": {},
   "outputs": [],
   "source": [
    "da_obs_point = da_obs_point.compute()"
   ]
  },
  {
   "cell_type": "code",
   "execution_count": 19,
   "id": "62fc44d0",
   "metadata": {},
   "outputs": [
    {
     "name": "stdout",
     "output_type": "stream",
     "text": [
      "Obs\n",
      "Shape: 0.08232290401679743\n",
      "Location: 5.694562311046417e-07\n",
      "Scale: 1.5479273668871094\n"
     ]
    }
   ],
   "source": [
    "obs_shape, obs_loc, obs_scale = gamma.fit(da_obs_point.data)\n",
    "print(\"Obs\")\n",
    "print(f\"Shape: {obs_shape}\")\n",
    "print(f\"Location: {obs_loc}\")\n",
    "print(f\"Scale: {obs_scale}\")"
   ]
  },
  {
   "cell_type": "code",
   "execution_count": 36,
   "id": "3a3b812b",
   "metadata": {},
   "outputs": [
    {
     "name": "stderr",
     "output_type": "stream",
     "text": [
      "WARNING:matplotlib.legend:No artists with labels found to put in legend.  Note that artists whose label start with an underscore are ignored when legend() is called with no argument.\n"
     ]
    },
    {
     "data": {
      "image/png": "[encoded data removed]",
      "text/plain": [
       "<Figure size 1008x576 with 1 Axes>"
      ]
     },
     "metadata": {
      "needs_background": "light"
     },
     "output_type": "display_data"
    }
   ],
   "source": [
    "plt.figure(figsize=(14, 8))\n",
    "\n",
    "#obs_hist = da_obs_point.plot.hist(bins=100, density=True, alpha=0.5, color='tab:red')\n",
    "#obs_gamma = gamma.pdf(xvals, obs_shape, scale=obs_scale)\n",
    "#plt.plot(xvals, obs_gamma, color='tab:red', linewidth=4.0, label='obs')\n",
    "\n",
    "hist_hist = da_hist_point.plot.hist(bins=np.arange(0, 50, 0.1), density=True, alpha=0.5, color='black')\n",
    "#hist_gamma = gamma.pdf(xvals, hist_shape, scale=hist_scale)\n",
    "#plt.plot(xvals, hist_gamma, color='black', linewidth=4.0, label='hist')\n",
    "\n",
    "future_hist = da_future_point.plot.hist(bins=np.arange(0, 50, 0.1), density=True, alpha=0.5, color='tab:blue')\n",
    "#future_gamma = gamma.pdf(xvals, future_shape, scale=hist_scale)\n",
    "#plt.plot(xvals, future_gamma, color='tab:blue', linewidth=4.0, label='future')\n",
    "\n",
    "plt.legend()\n",
    "plt.xlim(0, 3)\n",
    "#plt.ylim(0, 0.1)\n",
    "plt.show()"
   ]
  },
  {
   "cell_type": "code",
   "execution_count": 22,
   "id": "53570161",
   "metadata": {},
   "outputs": [
    {
     "data": {
      "text/plain": [
       "0.8606252580753984"
      ]
     },
     "execution_count": 22,
     "metadata": {},
     "output_type": "execute_result"
    }
   ],
   "source": [
    "da_hist_point.data.mean()"
   ]
  },
  {
   "cell_type": "code",
   "execution_count": 23,
   "id": "e14553fa",
   "metadata": {},
   "outputs": [
    {
     "data": {
      "text/plain": [
       "0.02211779559118935"
      ]
     },
     "execution_count": 23,
     "metadata": {},
     "output_type": "execute_result"
    }
   ],
   "source": [
    "hist_mean = gamma.mean(a=hist_shape, scale=hist_scale)\n",
    "hist_mean"
   ]
  },
  {
   "cell_type": "code",
   "execution_count": 32,
   "id": "7c3aa746",
   "metadata": {},
   "outputs": [
    {
     "data": {
      "text/plain": [
       "0.5526215448147221"
      ]
     },
     "execution_count": 32,
     "metadata": {},
     "output_type": "execute_result"
    }
   ],
   "source": [
    "da_future_point.data.mean()"
   ]
  },
  {
   "cell_type": "code",
   "execution_count": 33,
   "id": "5afb4163",
   "metadata": {},
   "outputs": [
    {
     "data": {
      "text/plain": [
       "0.047742945968188094"
      ]
     },
     "execution_count": 33,
     "metadata": {},
     "output_type": "execute_result"
    }
   ],
   "source": [
    "future_mean = gamma.mean(a=future_shape, scale=future_scale)\n",
    "future_mean"
   ]
  },
  {
   "cell_type": "code",
   "execution_count": 70,
   "id": "59b47f03",
   "metadata": {},
   "outputs": [],
   "source": [
    "obs_quantiles = gamma.ppf(quantiles, a=obs_shape, scale=obs_scale)\n",
    "hist_quantiles = gamma.ppf(quantiles, a=hist_shape, scale=hist_scale)\n",
    "future_quantiles = gamma.ppf(quantiles, a=future_shape, scale=future_scale)"
   ]
  },
  {
   "cell_type": "code",
   "execution_count": 72,
   "id": "67e891ad",
   "metadata": {},
   "outputs": [
    {
     "data": {
      "image/png": "[encoded data removed]",
      "text/plain": [
       "<Figure size 1008x576 with 1 Axes>"
      ]
     },
     "metadata": {
      "needs_background": "light"
     },
     "output_type": "display_data"
    }
   ],
   "source": [
    "plt.figure(figsize=(14, 8))\n",
    "plt.plot(quantiles, obs_quantiles, marker='o', color='tab:red', label='obs')\n",
    "plt.plot(quantiles, hist_quantiles, marker='o', color='black', label='hist')\n",
    "plt.plot(quantiles, future_quantiles, marker='o', color='tab:blue', label='future')\n",
    "plt.legend()\n",
    "plt.ylabel('rainfall (mm)')\n",
    "plt.xlabel('quantile')\n",
    "plt.show()"
   ]
  },
  {
   "cell_type": "markdown",
   "id": "60a778f1",
   "metadata": {},
   "source": [
    "TODO: The distributions based on real data aren't working... just try plotting the quantiles for hist, future and obs and see if anything can be learned."
   ]
  },
  {
   "cell_type": "code",
   "execution_count": null,
   "id": "5b1ae4f4",
   "metadata": {},
   "outputs": [],
   "source": []
  }
 ],
 "metadata": {
  "kernelspec": {
   "display_name": "Python 3 (ipykernel)",
   "language": "python",
   "name": "python3"
  },
  "language_info": {
   "codemirror_mode": {
    "name": "ipython",
    "version": 3
   },
   "file_extension": ".py",
   "mimetype": "text/x-python",
   "name": "python",
   "nbconvert_exporter": "python",
   "pygments_lexer": "ipython3",
   "version": "3.10.4"
  }
 },
 "nbformat": 4,
 "nbformat_minor": 5
}
