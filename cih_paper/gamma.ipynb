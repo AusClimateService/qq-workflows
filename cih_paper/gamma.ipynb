{
 "cells": [
  {
   "cell_type": "code",
   "execution_count": 1,
   "id": "9d37f7e1",
   "metadata": {},
   "outputs": [],
   "source": [
    "import numpy as np\n",
    "from scipy.stats import gamma\n",
    "import matplotlib.pyplot as plt"
   ]
  },
  {
   "cell_type": "markdown",
   "id": "16ba9a3b",
   "metadata": {},
   "source": [
    "## Cannon example\n",
    "\n",
    "See Section 4 of [Cannon et al (2015)](https://journals.ametsoc.org/view/journals/clim/28/17/jcli-d-14-00754.1.xml#bib44)."
   ]
  },
  {
   "cell_type": "code",
   "execution_count": 12,
   "id": "5612e496",
   "metadata": {},
   "outputs": [],
   "source": [
    "xvals = np.arange(0, 100, 0.1)"
   ]
  },
  {
   "cell_type": "code",
   "execution_count": 106,
   "id": "97a4efd3",
   "metadata": {},
   "outputs": [],
   "source": [
    "obs_shape = 4.0\n",
    "obs_scale = 7.5\n",
    "hist_shape = 8.15\n",
    "hist_scale = 3.68\n",
    "future_shape = 16\n",
    "future_scale = 2.63\n",
    "#future_shape = 4.8\n",
    "#future_scale = 5"
   ]
  },
  {
   "cell_type": "code",
   "execution_count": 107,
   "id": "70ef4ca6",
   "metadata": {},
   "outputs": [
    {
     "data": {
      "text/plain": [
       "42.08"
      ]
     },
     "execution_count": 107,
     "metadata": {},
     "output_type": "execute_result"
    }
   ],
   "source": [
    "future_shape * future_scale"
   ]
  },
  {
   "cell_type": "code",
   "execution_count": 108,
   "id": "7519c791",
   "metadata": {},
   "outputs": [],
   "source": [
    "obs_pdf = gamma.pdf(xvals, a=obs_shape, scale=obs_scale)\n",
    "hist_pdf = gamma.pdf(xvals, a=hist_shape, scale=hist_scale)\n",
    "future_pdf = gamma.pdf(xvals, a=future_shape, scale=future_scale)"
   ]
  },
  {
   "cell_type": "code",
   "execution_count": 109,
   "id": "9c62f0f8",
   "metadata": {},
   "outputs": [
    {
     "data": {
      "image/png": "[encoded data removed]",
      "text/plain": [
       "<Figure size 432x288 with 1 Axes>"
      ]
     },
     "metadata": {
      "needs_background": "light"
     },
     "output_type": "display_data"
    }
   ],
   "source": [
    "plt.plot(xvals, obs_pdf, color='tab:red', label='obs')\n",
    "plt.plot(xvals, hist_pdf, color='black', label='hist')\n",
    "plt.plot(xvals, future_pdf, color='tab:blue', label='future')\n",
    "plt.legend()\n",
    "plt.xlim(0, 100)\n",
    "plt.show()"
   ]
  },
  {
   "cell_type": "code",
   "execution_count": 110,
   "id": "1e4c69d8",
   "metadata": {},
   "outputs": [
    {
     "data": {
      "text/plain": [
       "29.992"
      ]
     },
     "execution_count": 110,
     "metadata": {},
     "output_type": "execute_result"
    }
   ],
   "source": [
    "hist_mean = gamma.mean(a=hist_shape, scale=hist_scale)\n",
    "hist_mean"
   ]
  },
  {
   "cell_type": "code",
   "execution_count": 111,
   "id": "dafeefa8",
   "metadata": {},
   "outputs": [
    {
     "data": {
      "text/plain": [
       "42.08"
      ]
     },
     "execution_count": 111,
     "metadata": {},
     "output_type": "execute_result"
    }
   ],
   "source": [
    "future_mean = gamma.mean(a=future_shape, scale=future_scale)\n",
    "future_mean"
   ]
  },
  {
   "cell_type": "code",
   "execution_count": 112,
   "id": "17bc3739",
   "metadata": {},
   "outputs": [
    {
     "data": {
      "text/plain": [
       "1.403040810882902"
      ]
     },
     "execution_count": 112,
     "metadata": {},
     "output_type": "execute_result"
    }
   ],
   "source": [
    "mean_scaling = future_mean / hist_mean\n",
    "mean_scaling"
   ]
  },
  {
   "cell_type": "code",
   "execution_count": 113,
   "id": "4cb084f4",
   "metadata": {},
   "outputs": [
    {
     "data": {
      "text/plain": [
       "array([0.005, 0.015, 0.025, 0.035, 0.045, 0.055, 0.065, 0.075, 0.085,\n",
       "       0.095, 0.105, 0.115, 0.125, 0.135, 0.145, 0.155, 0.165, 0.175,\n",
       "       0.185, 0.195, 0.205, 0.215, 0.225, 0.235, 0.245, 0.255, 0.265,\n",
       "       0.275, 0.285, 0.295, 0.305, 0.315, 0.325, 0.335, 0.345, 0.355,\n",
       "       0.365, 0.375, 0.385, 0.395, 0.405, 0.415, 0.425, 0.435, 0.445,\n",
       "       0.455, 0.465, 0.475, 0.485, 0.495, 0.505, 0.515, 0.525, 0.535,\n",
       "       0.545, 0.555, 0.565, 0.575, 0.585, 0.595, 0.605, 0.615, 0.625,\n",
       "       0.635, 0.645, 0.655, 0.665, 0.675, 0.685, 0.695, 0.705, 0.715,\n",
       "       0.725, 0.735, 0.745, 0.755, 0.765, 0.775, 0.785, 0.795, 0.805,\n",
       "       0.815, 0.825, 0.835, 0.845, 0.855, 0.865, 0.875, 0.885, 0.895,\n",
       "       0.905, 0.915, 0.925, 0.935, 0.945, 0.955, 0.965, 0.975, 0.985,\n",
       "       0.995])"
      ]
     },
     "execution_count": 113,
     "metadata": {},
     "output_type": "execute_result"
    }
   ],
   "source": [
    "quantiles = np.arange(0.005, 1.0, 0.01)\n",
    "quantiles"
   ]
  },
  {
   "cell_type": "code",
   "execution_count": 114,
   "id": "d27e6bdc",
   "metadata": {},
   "outputs": [
    {
     "data": {
      "text/plain": [
       "100"
      ]
     },
     "execution_count": 114,
     "metadata": {},
     "output_type": "execute_result"
    }
   ],
   "source": [
    "len(quantiles)"
   ]
  },
  {
   "cell_type": "code",
   "execution_count": 115,
   "id": "96d7a0a0",
   "metadata": {},
   "outputs": [],
   "source": [
    "obs_quantiles = gamma.ppf(quantiles, a=obs_shape, scale=obs_scale)\n",
    "hist_quantiles = gamma.ppf(quantiles, a=hist_shape, scale=hist_scale)\n",
    "future_quantiles = gamma.ppf(quantiles, a=future_shape, scale=future_scale)"
   ]
  },
  {
   "cell_type": "code",
   "execution_count": 116,
   "id": "5a1443ab",
   "metadata": {},
   "outputs": [
    {
     "data": {
      "image/png": "[encoded data removed]",
      "text/plain": [
       "<Figure size 432x288 with 1 Axes>"
      ]
     },
     "metadata": {
      "needs_background": "light"
     },
     "output_type": "display_data"
    }
   ],
   "source": [
    "plt.plot(quantiles, obs_quantiles, marker='o', color='tab:red', label='obs')\n",
    "plt.plot(quantiles, hist_quantiles, marker='o', color='black', label='hist')\n",
    "plt.plot(quantiles, future_quantiles, marker='o', color='tab:blue', label='future')\n",
    "plt.legend()\n",
    "plt.ylabel('rainfall (mm)')\n",
    "plt.xlabel('quantile')\n",
    "plt.show()"
   ]
  },
  {
   "cell_type": "code",
   "execution_count": 117,
   "id": "798abcf2",
   "metadata": {},
   "outputs": [
    {
     "data": {
      "text/plain": [
       "15.0"
      ]
     },
     "execution_count": 117,
     "metadata": {},
     "output_type": "execute_result"
    }
   ],
   "source": [
    "gamma.std(a=obs_shape, scale=obs_scale)"
   ]
  },
  {
   "cell_type": "code",
   "execution_count": 118,
   "id": "6d297a01",
   "metadata": {},
   "outputs": [
    {
     "data": {
      "text/plain": [
       "10.505739383784466"
      ]
     },
     "execution_count": 118,
     "metadata": {},
     "output_type": "execute_result"
    }
   ],
   "source": [
    "gamma.std(a=hist_shape, scale=hist_scale)"
   ]
  },
  {
   "cell_type": "code",
   "execution_count": 119,
   "id": "afbb0b12",
   "metadata": {},
   "outputs": [
    {
     "data": {
      "text/plain": [
       "10.52"
      ]
     },
     "execution_count": 119,
     "metadata": {},
     "output_type": "execute_result"
    }
   ],
   "source": [
    "gamma.std(a=future_shape, scale=future_scale)"
   ]
  },
  {
   "cell_type": "code",
   "execution_count": 120,
   "id": "d21b1820",
   "metadata": {},
   "outputs": [],
   "source": [
    "adjustment_factors = future_quantiles / hist_quantiles"
   ]
  },
  {
   "cell_type": "code",
   "execution_count": 121,
   "id": "80d1aecc",
   "metadata": {},
   "outputs": [
    {
     "data": {
      "image/png": "[encoded data removed]",
      "text/plain": [
       "<Figure size 432x288 with 1 Axes>"
      ]
     },
     "metadata": {
      "needs_background": "light"
     },
     "output_type": "display_data"
    }
   ],
   "source": [
    "plt.plot(quantiles, adjustment_factors, marker='o')\n",
    "plt.ylabel('adjustment factor')\n",
    "plt.xlabel('quantile')\n",
    "plt.show()"
   ]
  },
  {
   "cell_type": "code",
   "execution_count": 122,
   "id": "797b0c61",
   "metadata": {},
   "outputs": [
    {
     "data": {
      "text/plain": [
       "0.4033826330737879"
      ]
     },
     "execution_count": 122,
     "metadata": {},
     "output_type": "execute_result"
    }
   ],
   "source": [
    "hist_adjusted = adjustment_factors * hist_quantiles\n",
    "(hist_adjusted.sum() - hist_quantiles.sum()) / hist_quantiles.sum()"
   ]
  },
  {
   "cell_type": "code",
   "execution_count": 123,
   "id": "8ba4425c",
   "metadata": {},
   "outputs": [
    {
     "data": {
      "text/plain": [
       "1.403040810882902"
      ]
     },
     "execution_count": 123,
     "metadata": {},
     "output_type": "execute_result"
    }
   ],
   "source": [
    "mean_scaling"
   ]
  },
  {
   "cell_type": "code",
   "execution_count": 124,
   "id": "6207c438",
   "metadata": {},
   "outputs": [
    {
     "data": {
      "text/plain": [
       "0.38321725478096996"
      ]
     },
     "execution_count": 124,
     "metadata": {},
     "output_type": "execute_result"
    }
   ],
   "source": [
    "obs_adjusted = adjustment_factors * obs_quantiles\n",
    "(obs_adjusted.sum() - obs_quantiles.sum()) / obs_quantiles.sum()"
   ]
  },
  {
   "cell_type": "markdown",
   "id": "0621f7e9",
   "metadata": {},
   "source": [
    "So the multiplicative adjustment factors are larger at lower quantiles because the relative difference between the historical and future values is greater at lower rainfall amounts.\n",
    "\n",
    "If the model underestimates the observed variance, a relatively lower proportion of the observed rainfall is at lower amounts (to recieve the bigger adjustment) so the magnitude of the qq-scaled change is smaller than the magnitude of the GCM change.\n",
    "\n",
    "TODO: Figure out if the same applies when the shape parameter is less than one (i.e. a more realistic distribution)"
   ]
  },
  {
   "cell_type": "code",
   "execution_count": null,
   "id": "7e27c571",
   "metadata": {},
   "outputs": [],
   "source": []
  },
  {
   "cell_type": "code",
   "execution_count": null,
   "id": "8b3bd56e",
   "metadata": {},
   "outputs": [],
   "source": []
  }
 ],
 "metadata": {
  "kernelspec": {
   "display_name": "Python 3 (ipykernel)",
   "language": "python",
   "name": "python3"
  },
  "language_info": {
   "codemirror_mode": {
    "name": "ipython",
    "version": 3
   },
   "file_extension": ".py",
   "mimetype": "text/x-python",
   "name": "python",
   "nbconvert_exporter": "python",
   "pygments_lexer": "ipython3",
   "version": "3.9.12"
  }
 },
 "nbformat": 4,
 "nbformat_minor": 5
}
